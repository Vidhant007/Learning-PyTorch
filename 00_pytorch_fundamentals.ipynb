{
  "nbformat": 4,
  "nbformat_minor": 0,
  "metadata": {
    "colab": {
      "provenance": [],
      "gpuType": "T4"
    },
    "kernelspec": {
      "name": "python3",
      "display_name": "Python 3"
    },
    "language_info": {
      "name": "python"
    },
    "accelerator": "GPU"
  },
  "cells": [
    {
      "cell_type": "markdown",
      "source": [
        "## 00. PyTorch Fundamentals\n",
        "\n",
        "Resource notebook : https://www.learnpytorch.io/00_pytorch_fundamentals/"
      ],
      "metadata": {
        "id": "yuO7sP9j7kA2"
      }
    },
    {
      "cell_type": "code",
      "source": [
        "import torch\n",
        "import pandas as pd\n",
        "import numpy as np\n",
        "import matplotlib.pyplot as plt\n",
        "print(torch.__version__);"
      ],
      "metadata": {
        "colab": {
          "base_uri": "https://localhost:8080/"
        },
        "id": "VNr1Irpr9KWr",
        "outputId": "d73cf90e-f799-40b2-de6f-3a994b653fb3"
      },
      "execution_count": null,
      "outputs": [
        {
          "output_type": "stream",
          "name": "stdout",
          "text": [
            "2.1.0+cu121\n"
          ]
        }
      ]
    },
    {
      "cell_type": "markdown",
      "source": [
        " # Introduction to Tensors\n",
        "\n",
        " ### Creating  tensors\n",
        "\n",
        "PyTorch Tensors are Created using torch.tensor();"
      ],
      "metadata": {
        "id": "aO4pULSjAUiK"
      }
    },
    {
      "cell_type": "markdown",
      "source": [
        "# SCALAR"
      ],
      "metadata": {
        "id": "O3lkG2E5Ds1I"
      }
    },
    {
      "cell_type": "code",
      "source": [
        "# Scalar\n",
        "\n",
        "scalar = torch.tensor(7);\n",
        "scalar"
      ],
      "metadata": {
        "colab": {
          "base_uri": "https://localhost:8080/"
        },
        "id": "BehSrbepAkAB",
        "outputId": "95559ba9-9130-45f2-9db6-1eea305b233e"
      },
      "execution_count": null,
      "outputs": [
        {
          "output_type": "execute_result",
          "data": {
            "text/plain": [
              "tensor(7)"
            ]
          },
          "metadata": {},
          "execution_count": 7
        }
      ]
    },
    {
      "cell_type": "code",
      "source": [
        "scalar.ndim"
      ],
      "metadata": {
        "colab": {
          "base_uri": "https://localhost:8080/"
        },
        "id": "XReOleMqBUml",
        "outputId": "111215d0-a7ca-4731-b2fb-6a787082df5b"
      },
      "execution_count": null,
      "outputs": [
        {
          "output_type": "execute_result",
          "data": {
            "text/plain": [
              "0"
            ]
          },
          "metadata": {},
          "execution_count": 8
        }
      ]
    },
    {
      "cell_type": "code",
      "source": [
        "# Get tensor back as Python int\n",
        "scalar.item()"
      ],
      "metadata": {
        "colab": {
          "base_uri": "https://localhost:8080/"
        },
        "id": "dvoFnZoLBX9V",
        "outputId": "4b34488f-4604-4734-a741-b8c13ee5e90d"
      },
      "execution_count": null,
      "outputs": [
        {
          "output_type": "execute_result",
          "data": {
            "text/plain": [
              "7"
            ]
          },
          "metadata": {},
          "execution_count": 9
        }
      ]
    },
    {
      "cell_type": "code",
      "source": [
        "scalar.shape"
      ],
      "metadata": {
        "colab": {
          "base_uri": "https://localhost:8080/"
        },
        "id": "cmWuIBdoDmpX",
        "outputId": "d85f3066-9a6c-49ef-b503-005fb488a713"
      },
      "execution_count": null,
      "outputs": [
        {
          "output_type": "execute_result",
          "data": {
            "text/plain": [
              "torch.Size([])"
            ]
          },
          "metadata": {},
          "execution_count": 21
        }
      ]
    },
    {
      "cell_type": "markdown",
      "source": [
        "# VECTOR"
      ],
      "metadata": {
        "id": "C4kxl2_IDqCC"
      }
    },
    {
      "cell_type": "code",
      "source": [
        "# Vector\n",
        "vector = torch.tensor([7,7]);\n",
        "vector"
      ],
      "metadata": {
        "colab": {
          "base_uri": "https://localhost:8080/"
        },
        "id": "mURxO08eBdtz",
        "outputId": "362884b5-9c2b-49a9-f88f-086cd832e16c"
      },
      "execution_count": null,
      "outputs": [
        {
          "output_type": "execute_result",
          "data": {
            "text/plain": [
              "tensor([7, 7])"
            ]
          },
          "metadata": {},
          "execution_count": 10
        }
      ]
    },
    {
      "cell_type": "code",
      "source": [
        "# Vector dimensions\n",
        "vector.ndim"
      ],
      "metadata": {
        "colab": {
          "base_uri": "https://localhost:8080/"
        },
        "id": "wH8n9nC0Bv4e",
        "outputId": "378be5b0-6b0b-4eb9-e4fb-1a25b71d1637"
      },
      "execution_count": null,
      "outputs": [
        {
          "output_type": "execute_result",
          "data": {
            "text/plain": [
              "1"
            ]
          },
          "metadata": {},
          "execution_count": 11
        }
      ]
    },
    {
      "cell_type": "code",
      "source": [
        "vector.shape"
      ],
      "metadata": {
        "colab": {
          "base_uri": "https://localhost:8080/"
        },
        "id": "fnlAZG9EByxO",
        "outputId": "ffc51ce3-0c74-4918-f488-081a5026d10a"
      },
      "execution_count": null,
      "outputs": [
        {
          "output_type": "execute_result",
          "data": {
            "text/plain": [
              "torch.Size([2])"
            ]
          },
          "metadata": {},
          "execution_count": 12
        }
      ]
    },
    {
      "cell_type": "markdown",
      "source": [
        " # MATRIX"
      ],
      "metadata": {
        "id": "CEvPFSkSDfRO"
      }
    },
    {
      "cell_type": "code",
      "source": [
        "# MATRIX\n",
        "MATRIX = torch.tensor([[7,9],[8,9]]);\n",
        "MATRIX"
      ],
      "metadata": {
        "colab": {
          "base_uri": "https://localhost:8080/"
        },
        "id": "hsbLiAwSB6Ih",
        "outputId": "4b57350f-5a18-4d36-fd1b-c3759a6f8d9f"
      },
      "execution_count": null,
      "outputs": [
        {
          "output_type": "execute_result",
          "data": {
            "text/plain": [
              "tensor([[7, 9],\n",
              "        [8, 9]])"
            ]
          },
          "metadata": {},
          "execution_count": 13
        }
      ]
    },
    {
      "cell_type": "code",
      "source": [
        "#dimensions\n",
        "MATRIX.ndim"
      ],
      "metadata": {
        "colab": {
          "base_uri": "https://localhost:8080/"
        },
        "id": "TRDIe-NOCoyg",
        "outputId": "dcf172f7-0675-4812-f06f-b677297966eb"
      },
      "execution_count": null,
      "outputs": [
        {
          "output_type": "execute_result",
          "data": {
            "text/plain": [
              "2"
            ]
          },
          "metadata": {},
          "execution_count": 14
        }
      ]
    },
    {
      "cell_type": "code",
      "source": [
        "MATRIX[1]"
      ],
      "metadata": {
        "colab": {
          "base_uri": "https://localhost:8080/"
        },
        "id": "756zkJZYCyds",
        "outputId": "4298e914-0407-4339-8ccf-84ef3c557147"
      },
      "execution_count": null,
      "outputs": [
        {
          "output_type": "execute_result",
          "data": {
            "text/plain": [
              "tensor([8, 9])"
            ]
          },
          "metadata": {},
          "execution_count": 16
        }
      ]
    },
    {
      "cell_type": "code",
      "source": [
        "MATRIX.shape"
      ],
      "metadata": {
        "colab": {
          "base_uri": "https://localhost:8080/"
        },
        "id": "r2Hx7XneC1h5",
        "outputId": "6e558c68-fe84-4b79-cd09-74a1b8606f54"
      },
      "execution_count": null,
      "outputs": [
        {
          "output_type": "execute_result",
          "data": {
            "text/plain": [
              "torch.Size([2, 2])"
            ]
          },
          "metadata": {},
          "execution_count": 17
        }
      ]
    },
    {
      "cell_type": "markdown",
      "source": [
        "# TENSOR\n"
      ],
      "metadata": {
        "id": "2LlnCaFCDPjB"
      }
    },
    {
      "cell_type": "code",
      "source": [
        "# TENSOR\n",
        "TENSOR = torch.tensor([[[1,2,3],[54,64,23],[12,56,23]]]);\n",
        "TENSOR"
      ],
      "metadata": {
        "colab": {
          "base_uri": "https://localhost:8080/"
        },
        "id": "Lp_GlmSKC7Cv",
        "outputId": "63297eb5-653c-4dcb-e382-f21fdf739503"
      },
      "execution_count": null,
      "outputs": [
        {
          "output_type": "execute_result",
          "data": {
            "text/plain": [
              "tensor([[[ 1,  2,  3],\n",
              "         [54, 64, 23],\n",
              "         [12, 56, 23]]])"
            ]
          },
          "metadata": {},
          "execution_count": 18
        }
      ]
    },
    {
      "cell_type": "code",
      "source": [
        "TENSOR.ndim"
      ],
      "metadata": {
        "colab": {
          "base_uri": "https://localhost:8080/"
        },
        "id": "G_euxuiQDSRZ",
        "outputId": "d524f762-8334-4b63-f884-c5f1cc648385"
      },
      "execution_count": null,
      "outputs": [
        {
          "output_type": "execute_result",
          "data": {
            "text/plain": [
              "3"
            ]
          },
          "metadata": {},
          "execution_count": 19
        }
      ]
    },
    {
      "cell_type": "code",
      "source": [
        "TENSOR.shape\n",
        "### 1 Dimenstion of 3 by 3"
      ],
      "metadata": {
        "colab": {
          "base_uri": "https://localhost:8080/"
        },
        "id": "Lfqh_uq9DWR2",
        "outputId": "ae2619a7-b275-4ae4-f572-fffe2e7cb40e"
      },
      "execution_count": null,
      "outputs": [
        {
          "output_type": "execute_result",
          "data": {
            "text/plain": [
              "torch.Size([1, 3, 3])"
            ]
          },
          "metadata": {},
          "execution_count": 20
        }
      ]
    },
    {
      "cell_type": "code",
      "source": [
        "TENSOR[0]"
      ],
      "metadata": {
        "colab": {
          "base_uri": "https://localhost:8080/"
        },
        "id": "zt7gJPygD3Sr",
        "outputId": "7fbcec50-ce04-43ba-96fa-1fed3fab837e"
      },
      "execution_count": null,
      "outputs": [
        {
          "output_type": "execute_result",
          "data": {
            "text/plain": [
              "tensor([[ 1,  2,  3],\n",
              "        [54, 64, 23],\n",
              "        [12, 56, 23]])"
            ]
          },
          "metadata": {},
          "execution_count": 22
        }
      ]
    },
    {
      "cell_type": "markdown",
      "source": [
        "# Random tensors\n",
        "\n",
        "why random tensors ?\n",
        "\n",
        "Random tensors are important because the way many neural networks learn is that they start with tensors full of random numbers and then adjust those randonumbers to better represent data.\n",
        "\n",
        "`Start with random numbers ->  look at data -> update random numbrs -> look at data -> update random numbers`"
      ],
      "metadata": {
        "id": "n_Lf9BlzE2W1"
      }
    },
    {
      "cell_type": "code",
      "source": [
        "# Create a random tensor of size (3,4)\n",
        "random_tensor = torch.rand(1,3,4);\n",
        "random_tensor"
      ],
      "metadata": {
        "colab": {
          "base_uri": "https://localhost:8080/"
        },
        "id": "rN8X57kxFngD",
        "outputId": "fae4bad4-c2ef-4134-89a1-e2774e0e5053"
      },
      "execution_count": null,
      "outputs": [
        {
          "output_type": "execute_result",
          "data": {
            "text/plain": [
              "tensor([[[0.7367, 0.7108, 0.7158, 0.3675],\n",
              "         [0.0981, 0.8049, 0.9221, 0.5545],\n",
              "         [0.6945, 0.7899, 0.0525, 0.6724]]])"
            ]
          },
          "metadata": {},
          "execution_count": 8
        }
      ]
    },
    {
      "cell_type": "code",
      "source": [
        "random_tensor.ndim"
      ],
      "metadata": {
        "colab": {
          "base_uri": "https://localhost:8080/"
        },
        "id": "duAOkNo4GnfS",
        "outputId": "92fe6115-18c0-408d-aefc-620d9a929bac"
      },
      "execution_count": null,
      "outputs": [
        {
          "output_type": "execute_result",
          "data": {
            "text/plain": [
              "3"
            ]
          },
          "metadata": {},
          "execution_count": 9
        }
      ]
    },
    {
      "cell_type": "code",
      "source": [
        "# Create a random tensor with similiar shape to an image tensor\n",
        "random_image_size_tensor = torch.rand(size=(3,224,224)) # color channels, height, width,\n",
        "random_image_size_tensor"
      ],
      "metadata": {
        "colab": {
          "base_uri": "https://localhost:8080/"
        },
        "id": "8APr_kvWGvBn",
        "outputId": "2d8feceb-c620-4a09-d246-66ae795415fd"
      },
      "execution_count": null,
      "outputs": [
        {
          "output_type": "execute_result",
          "data": {
            "text/plain": [
              "tensor([[[5.6003e-01, 3.7933e-01, 8.6808e-04,  ..., 5.6144e-01,\n",
              "          2.0524e-01, 1.5212e-01],\n",
              "         [5.1389e-01, 9.1142e-01, 9.6816e-01,  ..., 4.1698e-01,\n",
              "          6.5180e-01, 2.8672e-01],\n",
              "         [6.6139e-01, 9.4796e-01, 2.3274e-01,  ..., 2.7344e-01,\n",
              "          8.8968e-01, 1.2622e-01],\n",
              "         ...,\n",
              "         [7.9678e-02, 5.9804e-01, 4.5697e-01,  ..., 5.9161e-01,\n",
              "          1.3625e-01, 2.8994e-01],\n",
              "         [6.2492e-01, 4.3300e-01, 7.7798e-01,  ..., 6.8790e-01,\n",
              "          2.2410e-01, 2.7952e-01],\n",
              "         [9.0658e-02, 5.7535e-01, 6.6216e-01,  ..., 8.8973e-01,\n",
              "          7.8857e-01, 8.1795e-01]],\n",
              "\n",
              "        [[5.7989e-03, 3.7881e-01, 8.3967e-02,  ..., 2.5088e-01,\n",
              "          3.7460e-01, 3.3624e-01],\n",
              "         [7.9479e-01, 4.7588e-01, 3.6038e-01,  ..., 5.5459e-01,\n",
              "          4.5587e-01, 5.2778e-01],\n",
              "         [9.0998e-01, 7.1819e-01, 4.2390e-01,  ..., 3.5933e-01,\n",
              "          1.7797e-01, 9.0572e-01],\n",
              "         ...,\n",
              "         [1.0692e-01, 9.0050e-01, 7.5404e-01,  ..., 4.3039e-01,\n",
              "          2.9377e-01, 9.3408e-01],\n",
              "         [9.2315e-01, 8.6757e-01, 1.3566e-01,  ..., 5.0530e-01,\n",
              "          5.0916e-01, 2.0906e-01],\n",
              "         [3.1448e-01, 4.4510e-02, 2.2430e-01,  ..., 5.1315e-01,\n",
              "          8.8733e-01, 6.8324e-01]],\n",
              "\n",
              "        [[7.5588e-01, 6.1651e-01, 1.1754e-01,  ..., 6.2962e-01,\n",
              "          5.1773e-01, 6.5628e-01],\n",
              "         [2.7670e-01, 2.1523e-01, 4.6621e-01,  ..., 4.7018e-02,\n",
              "          4.7250e-01, 9.0279e-01],\n",
              "         [4.1821e-01, 2.7214e-02, 2.9884e-01,  ..., 1.0553e-01,\n",
              "          7.6692e-01, 3.1942e-01],\n",
              "         ...,\n",
              "         [3.2844e-01, 7.6013e-01, 4.2182e-02,  ..., 6.3003e-01,\n",
              "          8.6660e-01, 7.2187e-01],\n",
              "         [2.8221e-01, 4.5381e-01, 3.4173e-01,  ..., 5.7165e-01,\n",
              "          4.2898e-01, 6.2140e-01],\n",
              "         [6.9373e-01, 2.2108e-01, 9.8358e-02,  ..., 3.9639e-01,\n",
              "          6.9617e-01, 4.0286e-01]]])"
            ]
          },
          "metadata": {},
          "execution_count": 12
        }
      ]
    },
    {
      "cell_type": "markdown",
      "source": [
        "# ZEROS AND ONES"
      ],
      "metadata": {
        "id": "7gjVp0liH56I"
      }
    },
    {
      "cell_type": "code",
      "source": [
        "# Create a tensor of all zeros\n",
        "zeros = torch.zeros(size=(3,4))\n",
        "zeros"
      ],
      "metadata": {
        "colab": {
          "base_uri": "https://localhost:8080/"
        },
        "id": "wBuDUzH7H_G9",
        "outputId": "31333712-4bb0-420a-dc33-150ebf5b47e6"
      },
      "execution_count": null,
      "outputs": [
        {
          "output_type": "execute_result",
          "data": {
            "text/plain": [
              "tensor([[0., 0., 0., 0.],\n",
              "        [0., 0., 0., 0.],\n",
              "        [0., 0., 0., 0.]])"
            ]
          },
          "metadata": {},
          "execution_count": 18
        }
      ]
    },
    {
      "cell_type": "code",
      "source": [
        "# Create a tensor of all ones\n",
        "ones = torch.ones(size=(3,4))\n",
        "ones"
      ],
      "metadata": {
        "colab": {
          "base_uri": "https://localhost:8080/"
        },
        "id": "WbwaHylMIJer",
        "outputId": "c08bfedb-6b1c-429d-a46f-dc1ec0767c6f"
      },
      "execution_count": null,
      "outputs": [
        {
          "output_type": "execute_result",
          "data": {
            "text/plain": [
              "tensor([[1., 1., 1., 1.],\n",
              "        [1., 1., 1., 1.],\n",
              "        [1., 1., 1., 1.]])"
            ]
          },
          "metadata": {},
          "execution_count": 19
        }
      ]
    },
    {
      "cell_type": "code",
      "source": [
        "# default datatype of tensor\n",
        "ones.dtype"
      ],
      "metadata": {
        "colab": {
          "base_uri": "https://localhost:8080/"
        },
        "id": "rMHQEEVqIR-X",
        "outputId": "9f6ca82e-f06b-4574-b005-b948fb4a22e7"
      },
      "execution_count": null,
      "outputs": [
        {
          "output_type": "execute_result",
          "data": {
            "text/plain": [
              "torch.float32"
            ]
          },
          "metadata": {},
          "execution_count": 20
        }
      ]
    },
    {
      "cell_type": "markdown",
      "source": [
        "### Creating a range of tensors and tensor-like"
      ],
      "metadata": {
        "id": "L8gUepodIga-"
      }
    },
    {
      "cell_type": "code",
      "source": [
        "# Use torch.arange()\n",
        "one_to_ten = torch.arange(start=1,end=1000,step=77)\n",
        "one_to_ten"
      ],
      "metadata": {
        "colab": {
          "base_uri": "https://localhost:8080/"
        },
        "id": "K8XNdOKCIkgI",
        "outputId": "fe98441c-cfef-4a6c-8779-ffae2b2385b1"
      },
      "execution_count": null,
      "outputs": [
        {
          "output_type": "execute_result",
          "data": {
            "text/plain": [
              "tensor([  1,  78, 155, 232, 309, 386, 463, 540, 617, 694, 771, 848, 925])"
            ]
          },
          "metadata": {},
          "execution_count": 25
        }
      ]
    },
    {
      "cell_type": "code",
      "source": [
        "# Creting tensors like (create tensors of same length/like of other tensors)\n",
        "ten_zeros = torch.zeros_like(one_to_ten)\n",
        "ten_zeros"
      ],
      "metadata": {
        "colab": {
          "base_uri": "https://localhost:8080/"
        },
        "id": "LppvQQIwJEdZ",
        "outputId": "f9760fc8-a4cb-4b58-bd00-13ff4a3ed9f7"
      },
      "execution_count": null,
      "outputs": [
        {
          "output_type": "execute_result",
          "data": {
            "text/plain": [
              "tensor([0, 0, 0, 0, 0, 0, 0, 0, 0, 0, 0, 0, 0])"
            ]
          },
          "metadata": {},
          "execution_count": 28
        }
      ]
    },
    {
      "cell_type": "markdown",
      "source": [
        "### Tensor datatypes\n",
        "\n",
        "**Note:** Tensor dataypes is one of the 3 big errors you will run into with PyTorch  and deep learning\n",
        "1. Tensors not right datatype\n",
        "2. Tensors not right shape\n",
        "3. Tensors not on the right device"
      ],
      "metadata": {
        "id": "qv-2upJtJd82"
      }
    },
    {
      "cell_type": "code",
      "source": [
        "# Float 32 tensor (default)\n",
        "float_32_tensor = torch.tensor([3.0,6.0,9.0 ])\n",
        "float_32_tensor.dtype"
      ],
      "metadata": {
        "colab": {
          "base_uri": "https://localhost:8080/"
        },
        "id": "GQCWugEDJvPI",
        "outputId": "51f903d7-5b0c-41ea-b5da-6c7f838c657d"
      },
      "execution_count": null,
      "outputs": [
        {
          "output_type": "execute_result",
          "data": {
            "text/plain": [
              "torch.float32"
            ]
          },
          "metadata": {},
          "execution_count": 6
        }
      ]
    },
    {
      "cell_type": "code",
      "source": [
        "# Other data types\n",
        "float_16_tensor = torch.tensor([3.0,6.0,9.0 ],\n",
        "                               dtype=torch.float16,\n",
        "                               device=None, #\"cpu\" -> default : specifies what device your tensor is on\n",
        "                               requires_grad=False); # whether or not to track gradients with tensor operations\n",
        "\n",
        "float_16_tensor.dtype"
      ],
      "metadata": {
        "colab": {
          "base_uri": "https://localhost:8080/"
        },
        "id": "XncQOsJ5J9ws",
        "outputId": "928b0890-e4d2-4a74-d246-a468bacff443"
      },
      "execution_count": null,
      "outputs": [
        {
          "output_type": "execute_result",
          "data": {
            "text/plain": [
              "torch.float16"
            ]
          },
          "metadata": {},
          "execution_count": 7
        }
      ]
    },
    {
      "cell_type": "code",
      "source": [
        "# datatype conversion\n",
        "new_float_16_tensor = float_32_tensor.type(torch.float16)\n",
        "new_float_16_tensor\n",
        "new_float_16_tensor = float_32_tensor.type(torch.long);\n",
        "new_float_16_tensor.dtype"
      ],
      "metadata": {
        "colab": {
          "base_uri": "https://localhost:8080/"
        },
        "id": "roKfa9Z6Lm8i",
        "outputId": "6871aab0-8f24-4ce5-c0fc-febd39bb4d86"
      },
      "execution_count": null,
      "outputs": [
        {
          "output_type": "execute_result",
          "data": {
            "text/plain": [
              "torch.int64"
            ]
          },
          "metadata": {},
          "execution_count": 10
        }
      ]
    },
    {
      "cell_type": "code",
      "source": [
        "float_32_tensor * float_16_tensor ## Dies not throws error\n"
      ],
      "metadata": {
        "id": "C8VBhd_wMMv2",
        "outputId": "720c5a91-3a83-4458-b34b-68102f1be8c3",
        "colab": {
          "base_uri": "https://localhost:8080/"
        }
      },
      "execution_count": null,
      "outputs": [
        {
          "output_type": "execute_result",
          "data": {
            "text/plain": [
              "tensor([ 9., 36., 81.])"
            ]
          },
          "metadata": {},
          "execution_count": 12
        }
      ]
    },
    {
      "cell_type": "code",
      "source": [
        "float_32_tensor * new_float_16_tensor\n"
      ],
      "metadata": {
        "colab": {
          "base_uri": "https://localhost:8080/"
        },
        "id": "6gpLE4dqVROQ",
        "outputId": "88de59a3-eba3-4ece-c4b8-7bde7dadb4de"
      },
      "execution_count": null,
      "outputs": [
        {
          "output_type": "execute_result",
          "data": {
            "text/plain": [
              "tensor([ 9., 36., 81.])"
            ]
          },
          "metadata": {},
          "execution_count": 13
        }
      ]
    },
    {
      "cell_type": "markdown",
      "source": [
        "## Getting information from tensors"
      ],
      "metadata": {
        "id": "jvItCbYYVUsa"
      }
    },
    {
      "cell_type": "markdown",
      "source": [
        "### Getting information from tensors  :: tensor attributes\n",
        "\n",
        "1. Tensors not rigt datatype - to do get datatype from a tensor, can use `tensor.dtype`\n",
        "2. Tensors not right shape - to do get shape from a tensor, can use `tensor.shape`\n",
        "3. Tensors not on the right device - to get device from a tensor, can use `tensor.device`"
      ],
      "metadata": {
        "id": "210UkNNoVYQo"
      }
    },
    {
      "cell_type": "code",
      "source": [
        "# Create a tensor\n",
        "some_tensor = torch.rand(3,5);\n",
        "some_tensor"
      ],
      "metadata": {
        "colab": {
          "base_uri": "https://localhost:8080/"
        },
        "id": "7Qw-25Z-VzG0",
        "outputId": "ad52971c-347e-4cd5-8f64-23e87b4e360d"
      },
      "execution_count": null,
      "outputs": [
        {
          "output_type": "execute_result",
          "data": {
            "text/plain": [
              "tensor([[0.7805, 0.2185, 0.4579, 0.2569, 0.2661],\n",
              "        [0.3034, 0.0662, 0.1529, 0.9467, 0.7036],\n",
              "        [0.6729, 0.5532, 0.9292, 0.4387, 0.7274]])"
            ]
          },
          "metadata": {},
          "execution_count": 14
        }
      ]
    },
    {
      "cell_type": "code",
      "source": [
        "# Find out details about some tensor\n",
        "print(some_tensor)\n",
        "print(f\"Datatype of tensor: {some_tensor.dtype}\")\n",
        "print(f\"Shape of tensor: {some_tensor.shape}\")\n",
        "print(f\"device tensor is on : {some_tensor.device}\")"
      ],
      "metadata": {
        "colab": {
          "base_uri": "https://localhost:8080/"
        },
        "id": "fut6BfcjV7Sq",
        "outputId": "5827d2c5-520e-40e9-dcb1-083d08d6d190"
      },
      "execution_count": null,
      "outputs": [
        {
          "output_type": "stream",
          "name": "stdout",
          "text": [
            "tensor([[0.7805, 0.2185, 0.4579, 0.2569, 0.2661],\n",
            "        [0.3034, 0.0662, 0.1529, 0.9467, 0.7036],\n",
            "        [0.6729, 0.5532, 0.9292, 0.4387, 0.7274]])\n",
            "Datatype of tensor: torch.float32\n",
            "Shape of tensor: torch.Size([3, 5])\n",
            "device tensor is on : cpu\n"
          ]
        }
      ]
    },
    {
      "cell_type": "markdown",
      "source": [
        "## Manipulating Tensors (tensor Operators)\n",
        "\n",
        "Tensor operations include :    \n",
        "* Addition\n",
        "* Subtraction\n",
        "* Multiplication (element-wise)\n",
        "* Division\n",
        "* Matrix_multiplication"
      ],
      "metadata": {
        "id": "V4UPDe1UW40m"
      }
    },
    {
      "cell_type": "code",
      "source": [
        "# Create a tensor and add 109 to it\n",
        "tensor = torch.tensor([1,2,3])\n",
        "tensor + 109\n"
      ],
      "metadata": {
        "colab": {
          "base_uri": "https://localhost:8080/"
        },
        "id": "VBMTclMEXLQS",
        "outputId": "bf8fce08-e49a-4f57-9376-2f66ee66c08b"
      },
      "execution_count": null,
      "outputs": [
        {
          "output_type": "execute_result",
          "data": {
            "text/plain": [
              "tensor([110, 111, 112])"
            ]
          },
          "metadata": {},
          "execution_count": 23
        }
      ]
    },
    {
      "cell_type": "code",
      "source": [
        "# Multiply tensor by 10\n",
        "tensor = tensor * 10\n",
        "tensor"
      ],
      "metadata": {
        "colab": {
          "base_uri": "https://localhost:8080/"
        },
        "id": "sMTdXCbdYBE0",
        "outputId": "ad24122d-5a9c-4b9c-9d14-d12ee49dd481"
      },
      "execution_count": null,
      "outputs": [
        {
          "output_type": "execute_result",
          "data": {
            "text/plain": [
              "tensor([100, 200, 300])"
            ]
          },
          "metadata": {},
          "execution_count": 26
        }
      ]
    },
    {
      "cell_type": "code",
      "source": [
        "# Subtract 100\n",
        "tensor = tensor - 100\n",
        "tensor\n"
      ],
      "metadata": {
        "colab": {
          "base_uri": "https://localhost:8080/"
        },
        "id": "VYL4cA5XYILk",
        "outputId": "11d92ae3-2726-4b68-8ef1-45127017f151"
      },
      "execution_count": null,
      "outputs": [
        {
          "output_type": "execute_result",
          "data": {
            "text/plain": [
              "tensor([-10,  90, 190])"
            ]
          },
          "metadata": {},
          "execution_count": 28
        }
      ]
    },
    {
      "cell_type": "code",
      "source": [
        "# Try out PyTorch in-build functions\n",
        "torch.mul(tensor,10)\n"
      ],
      "metadata": {
        "colab": {
          "base_uri": "https://localhost:8080/"
        },
        "id": "1mbb0IgYYVER",
        "outputId": "0c14c3d1-ba71-4e58-f07c-78a8ace11cc7"
      },
      "execution_count": null,
      "outputs": [
        {
          "output_type": "execute_result",
          "data": {
            "text/plain": [
              "tensor([-100,  900, 1900])"
            ]
          },
          "metadata": {},
          "execution_count": 32
        }
      ]
    },
    {
      "cell_type": "code",
      "source": [
        "torch.add(tensor,10)"
      ],
      "metadata": {
        "colab": {
          "base_uri": "https://localhost:8080/"
        },
        "id": "pMFfOgh-Yj_N",
        "outputId": "95654f6c-ec48-4447-bd2e-cff1b37238c4"
      },
      "execution_count": null,
      "outputs": [
        {
          "output_type": "execute_result",
          "data": {
            "text/plain": [
              "tensor([  0, 100, 200])"
            ]
          },
          "metadata": {},
          "execution_count": 31
        }
      ]
    },
    {
      "cell_type": "markdown",
      "source": [
        "### Matrix multiplications\n",
        "\n",
        "Two main ways of performing multiplication in neural networks and deep learning\n",
        "\n",
        "1. Element-wise multiplication\n",
        "2. Matrix Multiplication (dot product)\n",
        "\n",
        "There are two main rules while performing matrix multiplication needs to satisfy:\n",
        "1. The **Inner dimensions** must match:\n",
        "* `(3,2) @ (3,2)` won't work\n",
        "* `(3,2) @ (2,3)` will work\n",
        "* `(2,5) @ (5,2)` will work\n",
        "\n",
        "@ - can also be used to matrix multiplication  but prefer using torch.matmul()\n",
        "\n",
        "2. The resulting matrix has the shape of the **Outer dimensions**\n",
        "*`(2,3) @ (3,2)` -> `(2,2)`\n",
        "*`(3,1) @ (1,3)` -> `(3,3)`"
      ],
      "metadata": {
        "id": "BFW0ioqSYxSB"
      }
    },
    {
      "cell_type": "code",
      "source": [
        "# Element wise multiplication\n",
        "print(tensor,\"*\",tensor)\n",
        "print(f\"Equals: {tensor*tensor}\")"
      ],
      "metadata": {
        "colab": {
          "base_uri": "https://localhost:8080/"
        },
        "id": "JcpVGu4yZChc",
        "outputId": "250bd16c-dc73-437b-de26-4d8fd24a6818"
      },
      "execution_count": null,
      "outputs": [
        {
          "output_type": "stream",
          "name": "stdout",
          "text": [
            "tensor([-10,  90, 190]) * tensor([-10,  90, 190])\n",
            "Equals: tensor([  100,  8100, 36100])\n"
          ]
        }
      ]
    },
    {
      "cell_type": "code",
      "source": [
        "# Matrix multiplication\n",
        "torch.matmul(tensor,tensor)"
      ],
      "metadata": {
        "colab": {
          "base_uri": "https://localhost:8080/"
        },
        "id": "2jDfBAfYZQKN",
        "outputId": "d2a82d5d-c1c5-43ba-dd2e-e08bf16da046"
      },
      "execution_count": null,
      "outputs": [
        {
          "output_type": "execute_result",
          "data": {
            "text/plain": [
              "tensor(44300)"
            ]
          },
          "metadata": {},
          "execution_count": 34
        }
      ]
    },
    {
      "cell_type": "code",
      "source": [
        "## More complex matrix multipliation\n",
        "tensor1 = torch.rand(5,5)\n",
        "tensor2 = torch.rand(5,3)\n",
        "torch.matmul(tensor1,tensor2)"
      ],
      "metadata": {
        "colab": {
          "base_uri": "https://localhost:8080/"
        },
        "id": "A9EUUCz9Z5rj",
        "outputId": "b6eb1826-947f-4040-8094-ae10cf810164"
      },
      "execution_count": null,
      "outputs": [
        {
          "output_type": "execute_result",
          "data": {
            "text/plain": [
              "tensor([[0.5592, 0.7677, 0.4675],\n",
              "        [1.2804, 1.5998, 0.8927],\n",
              "        [0.8423, 1.4300, 0.8132],\n",
              "        [0.9963, 1.5530, 1.0128],\n",
              "        [1.0080, 1.5643, 1.0466]])"
            ]
          },
          "metadata": {},
          "execution_count": 36
        }
      ]
    },
    {
      "cell_type": "markdown",
      "source": [
        "### One of the most common error in deep learning are shape errors"
      ],
      "metadata": {
        "id": "1cdm9wNDaRIy"
      }
    },
    {
      "cell_type": "code",
      "source": [
        "# Shapes for matrix multiplication\n",
        "tensor_A = torch.tensor([[1,2],[3,4],[5,6]])\n",
        "tensor_B = torch.tensor([[7,10],[8,11],[9,12]])\n",
        "torch.mm(tensor_A,tensor_B)  # torch.mm is the same as torch.matmul (its an alias)"
      ],
      "metadata": {
        "colab": {
          "base_uri": "https://localhost:8080/",
          "height": 210
        },
        "id": "IeC7g90wbwLM",
        "outputId": "403dbfe4-920c-4fdf-ba78-e352ed96eeb8"
      },
      "execution_count": null,
      "outputs": [
        {
          "output_type": "error",
          "ename": "RuntimeError",
          "evalue": "mat1 and mat2 shapes cannot be multiplied (3x2 and 3x2)",
          "traceback": [
            "\u001b[0;31m---------------------------------------------------------------------------\u001b[0m",
            "\u001b[0;31mRuntimeError\u001b[0m                              Traceback (most recent call last)",
            "\u001b[0;32m<ipython-input-38-9a7fbcb7e753>\u001b[0m in \u001b[0;36m<cell line: 4>\u001b[0;34m()\u001b[0m\n\u001b[1;32m      2\u001b[0m \u001b[0mtensor_A\u001b[0m \u001b[0;34m=\u001b[0m \u001b[0mtorch\u001b[0m\u001b[0;34m.\u001b[0m\u001b[0mtensor\u001b[0m\u001b[0;34m(\u001b[0m\u001b[0;34m[\u001b[0m\u001b[0;34m[\u001b[0m\u001b[0;36m1\u001b[0m\u001b[0;34m,\u001b[0m\u001b[0;36m2\u001b[0m\u001b[0;34m]\u001b[0m\u001b[0;34m,\u001b[0m\u001b[0;34m[\u001b[0m\u001b[0;36m3\u001b[0m\u001b[0;34m,\u001b[0m\u001b[0;36m4\u001b[0m\u001b[0;34m]\u001b[0m\u001b[0;34m,\u001b[0m\u001b[0;34m[\u001b[0m\u001b[0;36m5\u001b[0m\u001b[0;34m,\u001b[0m\u001b[0;36m6\u001b[0m\u001b[0;34m]\u001b[0m\u001b[0;34m]\u001b[0m\u001b[0;34m)\u001b[0m\u001b[0;34m\u001b[0m\u001b[0;34m\u001b[0m\u001b[0m\n\u001b[1;32m      3\u001b[0m \u001b[0mtensor_B\u001b[0m \u001b[0;34m=\u001b[0m \u001b[0mtorch\u001b[0m\u001b[0;34m.\u001b[0m\u001b[0mtensor\u001b[0m\u001b[0;34m(\u001b[0m\u001b[0;34m[\u001b[0m\u001b[0;34m[\u001b[0m\u001b[0;36m7\u001b[0m\u001b[0;34m,\u001b[0m\u001b[0;36m10\u001b[0m\u001b[0;34m]\u001b[0m\u001b[0;34m,\u001b[0m\u001b[0;34m[\u001b[0m\u001b[0;36m8\u001b[0m\u001b[0;34m,\u001b[0m\u001b[0;36m11\u001b[0m\u001b[0;34m]\u001b[0m\u001b[0;34m,\u001b[0m\u001b[0;34m[\u001b[0m\u001b[0;36m9\u001b[0m\u001b[0;34m,\u001b[0m\u001b[0;36m12\u001b[0m\u001b[0;34m]\u001b[0m\u001b[0;34m]\u001b[0m\u001b[0;34m)\u001b[0m\u001b[0;34m\u001b[0m\u001b[0;34m\u001b[0m\u001b[0m\n\u001b[0;32m----> 4\u001b[0;31m \u001b[0mtorch\u001b[0m\u001b[0;34m.\u001b[0m\u001b[0mmm\u001b[0m\u001b[0;34m(\u001b[0m\u001b[0mtensor_A\u001b[0m\u001b[0;34m,\u001b[0m\u001b[0mtensor_B\u001b[0m\u001b[0;34m)\u001b[0m  \u001b[0;31m# torch.mm is the same as torch.matmul (its an alias)\u001b[0m\u001b[0;34m\u001b[0m\u001b[0;34m\u001b[0m\u001b[0m\n\u001b[0m",
            "\u001b[0;31mRuntimeError\u001b[0m: mat1 and mat2 shapes cannot be multiplied (3x2 and 3x2)"
          ]
        }
      ]
    },
    {
      "cell_type": "code",
      "source": [
        "tensor_A.shape,tensor_B.shape"
      ],
      "metadata": {
        "colab": {
          "base_uri": "https://localhost:8080/"
        },
        "id": "ZWT-YqMNeVc3",
        "outputId": "d84bb52c-f446-4bdb-8796-52b856abc94c"
      },
      "execution_count": null,
      "outputs": [
        {
          "output_type": "execute_result",
          "data": {
            "text/plain": [
              "(torch.Size([3, 2]), torch.Size([3, 2]))"
            ]
          },
          "metadata": {},
          "execution_count": 40
        }
      ]
    },
    {
      "cell_type": "markdown",
      "source": [
        "1. To fix our tensor shape issues,we can manipulate the shape of one of our tensors using transpose.\n",
        "\n",
        "**Transpose** switches the axes or dimensions of a given translator"
      ],
      "metadata": {
        "id": "D-kAT6n5egA7"
      }
    },
    {
      "cell_type": "code",
      "source": [
        "# Transposing tensor B (tensor.T)\n",
        "\n",
        "tensor_B.T, tensor_B.T.shape"
      ],
      "metadata": {
        "colab": {
          "base_uri": "https://localhost:8080/"
        },
        "id": "IDMwHbDieoSy",
        "outputId": "4eb78e28-4954-4038-c12a-3a44b19ffa74"
      },
      "execution_count": null,
      "outputs": [
        {
          "output_type": "execute_result",
          "data": {
            "text/plain": [
              "(tensor([[ 7,  8,  9],\n",
              "         [10, 11, 12]]),\n",
              " torch.Size([2, 3]))"
            ]
          },
          "metadata": {},
          "execution_count": 42
        }
      ]
    },
    {
      "cell_type": "code",
      "source": [
        "## The matrix multiplication operation works when tensor_B is transposed\n",
        "print(f\"original shape: tensor_A = {tensor_A.shape}, tensor_B = {tensor_B.shape}\")\n",
        "print(f\"New shape: tensor_A = {tensor_A.shape}, tensor_B.T = {tensor_B.T.shape}\")\n",
        "\n",
        "\n",
        "output = torch.matmul(tensor_A,tensor_B.T)\n",
        "print(output)\n",
        "print(f\"outpu shape : {output.shape}\")"
      ],
      "metadata": {
        "colab": {
          "base_uri": "https://localhost:8080/"
        },
        "id": "njSn7NrsfAo5",
        "outputId": "1220da3b-b78e-4853-bf87-1b70b4a98a96"
      },
      "execution_count": null,
      "outputs": [
        {
          "output_type": "stream",
          "name": "stdout",
          "text": [
            "original shape: tensor_A = torch.Size([3, 2]), tensor_B = torch.Size([3, 2])\n",
            "New shape: tensor_A = torch.Size([3, 2]), tensor_B.T = torch.Size([2, 3])\n",
            "tensor([[ 27,  30,  33],\n",
            "        [ 61,  68,  75],\n",
            "        [ 95, 106, 117]])\n",
            "outpu shape : torch.Size([3, 3])\n"
          ]
        }
      ]
    },
    {
      "cell_type": "markdown",
      "source": [
        "### Tensor Aggregation (finding min,max,mean,sum etc)"
      ],
      "metadata": {
        "id": "mA4ykkF9hBxg"
      }
    },
    {
      "cell_type": "code",
      "source": [
        "# Create a tensor\n",
        "x = torch.arange(0,100,10)\n",
        "x"
      ],
      "metadata": {
        "colab": {
          "base_uri": "https://localhost:8080/"
        },
        "id": "aV3P6fzYhGxu",
        "outputId": "0024ce08-0545-4e60-c632-e6aab10d1c93"
      },
      "execution_count": null,
      "outputs": [
        {
          "output_type": "execute_result",
          "data": {
            "text/plain": [
              "tensor([ 0, 10, 20, 30, 40, 50, 60, 70, 80, 90])"
            ]
          },
          "metadata": {},
          "execution_count": 49
        }
      ]
    },
    {
      "cell_type": "code",
      "source": [
        "# Find the min\n",
        "torch.min(x),x.min()"
      ],
      "metadata": {
        "colab": {
          "base_uri": "https://localhost:8080/"
        },
        "id": "ymsrMuRdhQs_",
        "outputId": "c0faad4b-a6e6-4861-f3b7-5a48c895c816"
      },
      "execution_count": null,
      "outputs": [
        {
          "output_type": "execute_result",
          "data": {
            "text/plain": [
              "(tensor(0), tensor(0))"
            ]
          },
          "metadata": {},
          "execution_count": 52
        }
      ]
    },
    {
      "cell_type": "code",
      "source": [
        "# Find the max\n",
        "torch.max(x), x.max()"
      ],
      "metadata": {
        "colab": {
          "base_uri": "https://localhost:8080/"
        },
        "id": "KhfChnA0hUyV",
        "outputId": "b72134aa-1651-467e-fcaf-7a82bc48c437"
      },
      "execution_count": null,
      "outputs": [
        {
          "output_type": "execute_result",
          "data": {
            "text/plain": [
              "(tensor(90), tensor(90))"
            ]
          },
          "metadata": {},
          "execution_count": 53
        }
      ]
    },
    {
      "cell_type": "code",
      "source": [
        "# Find the Avg or mean\n",
        "torch.mean(x) ## gives error , needs to be complex dtype or float dtytpe"
      ],
      "metadata": {
        "colab": {
          "base_uri": "https://localhost:8080/",
          "height": 210
        },
        "id": "E2KczaTMheWt",
        "outputId": "ed77b511-6f52-4b64-9689-3371f2a6b511"
      },
      "execution_count": null,
      "outputs": [
        {
          "output_type": "error",
          "ename": "RuntimeError",
          "evalue": "mean(): could not infer output dtype. Input dtype must be either a floating point or complex dtype. Got: Long",
          "traceback": [
            "\u001b[0;31m---------------------------------------------------------------------------\u001b[0m",
            "\u001b[0;31mRuntimeError\u001b[0m                              Traceback (most recent call last)",
            "\u001b[0;32m<ipython-input-55-e0879aebed4b>\u001b[0m in \u001b[0;36m<cell line: 2>\u001b[0;34m()\u001b[0m\n\u001b[1;32m      1\u001b[0m \u001b[0;31m# Find the Avg or mean\u001b[0m\u001b[0;34m\u001b[0m\u001b[0;34m\u001b[0m\u001b[0m\n\u001b[0;32m----> 2\u001b[0;31m \u001b[0mtorch\u001b[0m\u001b[0;34m.\u001b[0m\u001b[0mmean\u001b[0m\u001b[0;34m(\u001b[0m\u001b[0mx\u001b[0m\u001b[0;34m)\u001b[0m\u001b[0;34m\u001b[0m\u001b[0;34m\u001b[0m\u001b[0m\n\u001b[0m",
            "\u001b[0;31mRuntimeError\u001b[0m: mean(): could not infer output dtype. Input dtype must be either a floating point or complex dtype. Got: Long"
          ]
        }
      ]
    },
    {
      "cell_type": "code",
      "source": [
        "# Find mean - Note : the torch.mean() fucntion requires a tensor of float32 dytype\n",
        "torch.mean(x.type(torch.float32)),x.type(torch.float32).mean()"
      ],
      "metadata": {
        "colab": {
          "base_uri": "https://localhost:8080/"
        },
        "id": "vbUFZgHEoD8P",
        "outputId": "97755011-7d2d-43b9-9044-1d7206df2139"
      },
      "execution_count": null,
      "outputs": [
        {
          "output_type": "execute_result",
          "data": {
            "text/plain": [
              "(tensor(45.), tensor(45.))"
            ]
          },
          "metadata": {},
          "execution_count": 58
        }
      ]
    },
    {
      "cell_type": "code",
      "source": [
        "## Find the sum\n",
        "torch.sum(x),x.sum()"
      ],
      "metadata": {
        "colab": {
          "base_uri": "https://localhost:8080/"
        },
        "id": "kz9VbAkGo4DD",
        "outputId": "57c86c84-e67b-44c4-90f2-a3413059441d"
      },
      "execution_count": null,
      "outputs": [
        {
          "output_type": "execute_result",
          "data": {
            "text/plain": [
              "(tensor(450), tensor(450))"
            ]
          },
          "metadata": {},
          "execution_count": 59
        }
      ]
    },
    {
      "cell_type": "markdown",
      "source": [
        "### Finding the positional min and max (index)"
      ],
      "metadata": {
        "id": "wGC-3E30pN92"
      }
    },
    {
      "cell_type": "code",
      "source": [
        "# find the position/index in tensor that has a minimum value\n",
        "x.argmin(),torch.argmin(x)"
      ],
      "metadata": {
        "colab": {
          "base_uri": "https://localhost:8080/"
        },
        "id": "xgpih4cZpNuF",
        "outputId": "eaf3e5b8-0e78-4fa4-c43d-bb8b04b75111"
      },
      "execution_count": null,
      "outputs": [
        {
          "output_type": "execute_result",
          "data": {
            "text/plain": [
              "(tensor(0), tensor(0))"
            ]
          },
          "metadata": {},
          "execution_count": 61
        }
      ]
    },
    {
      "cell_type": "code",
      "source": [
        "#finding max value index\n",
        "x.argmax(),torch.argmax(x)"
      ],
      "metadata": {
        "colab": {
          "base_uri": "https://localhost:8080/"
        },
        "id": "EkKht8WwpmCY",
        "outputId": "ad46c6cf-5b0d-4772-8efb-4d92114b7fe2"
      },
      "execution_count": null,
      "outputs": [
        {
          "output_type": "execute_result",
          "data": {
            "text/plain": [
              "(tensor(9), tensor(9))"
            ]
          },
          "metadata": {},
          "execution_count": 62
        }
      ]
    },
    {
      "cell_type": "markdown",
      "source": [
        "## Reshaping, stacking, squeezing and unsqueezing tensors\n",
        "\n",
        "* Reshaping - reshapes an input tensor to a defined shape\n",
        "* View - Return a view of an input tensor of a certain shape but keep the same memory as the original tensor\n",
        "* Stacking - combine multiple tensors on top of each other (vstack) or side by side (hstack)\n",
        "* Squeeze - removes all `1` dimensions from a tensor\n",
        "* Unsqueeze - add a `1` dimension to a target tensor\n",
        "* Permute - Return a view of the input with dimensions permuted (swapped) in a certain way\n"
      ],
      "metadata": {
        "id": "gab0NSF1qBG3"
      }
    },
    {
      "cell_type": "code",
      "source": [
        "# Let's create a tensor\n",
        "import torch\n",
        "x = torch.arange(1.0,11.0)\n",
        "x,x.shape"
      ],
      "metadata": {
        "colab": {
          "base_uri": "https://localhost:8080/"
        },
        "id": "OokEHkhL_7f1",
        "outputId": "4bed9e5a-8d07-4f25-db93-03a9f46daab2"
      },
      "execution_count": null,
      "outputs": [
        {
          "output_type": "execute_result",
          "data": {
            "text/plain": [
              "(tensor([ 1.,  2.,  3.,  4.,  5.,  6.,  7.,  8.,  9., 10.]), torch.Size([10]))"
            ]
          },
          "metadata": {},
          "execution_count": 11
        }
      ]
    },
    {
      "cell_type": "code",
      "source": [
        "# Add an extra dimension\n",
        "x_reshaped = x.reshape(5,2)\n",
        "x_reshaped, x_reshaped.shape"
      ],
      "metadata": {
        "colab": {
          "base_uri": "https://localhost:8080/"
        },
        "id": "d_cxkXAbAKE2",
        "outputId": "31f8d118-4f65-42ec-a531-59e3bbb0f828"
      },
      "execution_count": null,
      "outputs": [
        {
          "output_type": "execute_result",
          "data": {
            "text/plain": [
              "(tensor([[ 1.,  2.],\n",
              "         [ 3.,  4.],\n",
              "         [ 5.,  6.],\n",
              "         [ 7.,  8.],\n",
              "         [ 9., 10.]]),\n",
              " torch.Size([5, 2]))"
            ]
          },
          "metadata": {},
          "execution_count": 14
        }
      ]
    },
    {
      "cell_type": "code",
      "source": [
        "# Change the view\n",
        "z = x.view(1,10)\n",
        "z,z.shape"
      ],
      "metadata": {
        "colab": {
          "base_uri": "https://localhost:8080/"
        },
        "id": "7WywvW6ZAwnJ",
        "outputId": "fc449e03-5d2b-4a09-f172-aa809f5e3a64"
      },
      "execution_count": null,
      "outputs": [
        {
          "output_type": "execute_result",
          "data": {
            "text/plain": [
              "(tensor([[ 1.,  2.,  3.,  4.,  5.,  6.,  7.,  8.,  9., 10.]]),\n",
              " torch.Size([1, 10]))"
            ]
          },
          "metadata": {},
          "execution_count": 16
        }
      ]
    },
    {
      "cell_type": "code",
      "source": [
        "# Changing z changes x (because a view of a tensor shares the same memory as the original tensor)\n",
        "z[:,0] = 5 # change first element of z (view)\n",
        "z,x  # x will also change"
      ],
      "metadata": {
        "colab": {
          "base_uri": "https://localhost:8080/"
        },
        "id": "phMnQ0PxBSYj",
        "outputId": "ad96da99-2e8e-402c-ee22-56659fcdd51a"
      },
      "execution_count": null,
      "outputs": [
        {
          "output_type": "execute_result",
          "data": {
            "text/plain": [
              "(tensor([[ 5.,  2.,  3.,  4.,  5.,  6.,  7.,  8.,  9., 10.]]),\n",
              " tensor([ 5.,  2.,  3.,  4.,  5.,  6.,  7.,  8.,  9., 10.]))"
            ]
          },
          "metadata": {},
          "execution_count": 17
        }
      ]
    },
    {
      "cell_type": "code",
      "source": [
        "# Stack tensors on top of each other\n",
        "x_stacked = torch.stack([x,x,x,x],dim=1) # default dimension 0\n",
        "x_stacked"
      ],
      "metadata": {
        "colab": {
          "base_uri": "https://localhost:8080/"
        },
        "id": "fjRrGK-FBmpb",
        "outputId": "9145b705-fdbb-401a-d8e9-170cce62c174"
      },
      "execution_count": null,
      "outputs": [
        {
          "output_type": "execute_result",
          "data": {
            "text/plain": [
              "tensor([[ 5.,  5.,  5.,  5.],\n",
              "        [ 2.,  2.,  2.,  2.],\n",
              "        [ 3.,  3.,  3.,  3.],\n",
              "        [ 4.,  4.,  4.,  4.],\n",
              "        [ 5.,  5.,  5.,  5.],\n",
              "        [ 6.,  6.,  6.,  6.],\n",
              "        [ 7.,  7.,  7.,  7.],\n",
              "        [ 8.,  8.,  8.,  8.],\n",
              "        [ 9.,  9.,  9.,  9.],\n",
              "        [10., 10., 10., 10.]])"
            ]
          },
          "metadata": {},
          "execution_count": 21
        }
      ]
    },
    {
      "cell_type": "code",
      "source": [
        "# Squeeze (torch.squeeze()   --> removes all single dimensions from tensor)\n",
        "x = torch.zeros(2,1,2,1,2)\n",
        "x.size()\n"
      ],
      "metadata": {
        "colab": {
          "base_uri": "https://localhost:8080/"
        },
        "id": "XT40DpTmCGX1",
        "outputId": "406082e3-bc7c-4301-a1f1-c62e4216bd41"
      },
      "execution_count": null,
      "outputs": [
        {
          "output_type": "execute_result",
          "data": {
            "text/plain": [
              "torch.Size([2, 1, 2, 1, 2])"
            ]
          },
          "metadata": {},
          "execution_count": 30
        }
      ]
    },
    {
      "cell_type": "code",
      "source": [
        "#Squeeze\n",
        "y = torch.squeeze(x)\n",
        "y.size()"
      ],
      "metadata": {
        "colab": {
          "base_uri": "https://localhost:8080/"
        },
        "id": "EYGvooHYCmNe",
        "outputId": "c86a4610-882d-4a17-afac-fbc1a42a3976"
      },
      "execution_count": null,
      "outputs": [
        {
          "output_type": "execute_result",
          "data": {
            "text/plain": [
              "torch.Size([2, 2, 2])"
            ]
          },
          "metadata": {},
          "execution_count": 31
        }
      ]
    },
    {
      "cell_type": "code",
      "source": [
        "y = torch.squeeze(x,0)\n",
        "y.size()"
      ],
      "metadata": {
        "colab": {
          "base_uri": "https://localhost:8080/"
        },
        "id": "nfub4gMBCrJ_",
        "outputId": "d96612f9-cf5d-462f-be5c-29c496a41d20"
      },
      "execution_count": null,
      "outputs": [
        {
          "output_type": "execute_result",
          "data": {
            "text/plain": [
              "torch.Size([2, 1, 2, 1, 2])"
            ]
          },
          "metadata": {},
          "execution_count": 32
        }
      ]
    },
    {
      "cell_type": "code",
      "source": [
        "y = torch.squeeze(x,1)\n",
        "y.size()"
      ],
      "metadata": {
        "colab": {
          "base_uri": "https://localhost:8080/"
        },
        "id": "PCZcDg78C9it",
        "outputId": "af6b74c5-20a6-48dd-b1ed-e9a372374592"
      },
      "execution_count": null,
      "outputs": [
        {
          "output_type": "execute_result",
          "data": {
            "text/plain": [
              "torch.Size([2, 2, 1, 2])"
            ]
          },
          "metadata": {},
          "execution_count": 33
        }
      ]
    },
    {
      "cell_type": "code",
      "source": [
        "# Unsqueeze (torch.unsqueeze() --> adds a single dimension to a target dimension at a specific dim)\n",
        "x = torch.tensor([1,2,3,4])\n",
        "torch.unsqueeze(x,0)"
      ],
      "metadata": {
        "colab": {
          "base_uri": "https://localhost:8080/"
        },
        "id": "4Wmq0nKuE6Ve",
        "outputId": "0f04e839-4daf-48ca-d9be-1a832f1975da"
      },
      "execution_count": null,
      "outputs": [
        {
          "output_type": "execute_result",
          "data": {
            "text/plain": [
              "tensor([[1, 2, 3, 4]])"
            ]
          },
          "metadata": {},
          "execution_count": 35
        }
      ]
    },
    {
      "cell_type": "code",
      "source": [
        "torch.unsqueeze(x,1)"
      ],
      "metadata": {
        "colab": {
          "base_uri": "https://localhost:8080/"
        },
        "id": "0mKt-HUUF2B_",
        "outputId": "fb85e889-a700-4882-f7e8-d2701e380c4d"
      },
      "execution_count": null,
      "outputs": [
        {
          "output_type": "execute_result",
          "data": {
            "text/plain": [
              "tensor([[1],\n",
              "        [2],\n",
              "        [3],\n",
              "        [4]])"
            ]
          },
          "metadata": {},
          "execution_count": 36
        }
      ]
    },
    {
      "cell_type": "code",
      "source": [
        "# torch.permute --> rearranges the dimensions of a target tensor in a specified order\n",
        "x = torch.rand(size=(224,224,3)) # [height, widht and color chaneels]\n",
        "print(f\"x_size :{x.size()}\")\n",
        "\n",
        "# permute the original tensor to rearrange the axis or dim order\n",
        "x_permuted = x.permute(2,0,1) ## Shifts axis 0 to 1, 1 to 2 and 2 to 0\n",
        "print(f\"permuted :{x_permuted.shape}\")  #[color_channels,height,width]\n"
      ],
      "metadata": {
        "colab": {
          "base_uri": "https://localhost:8080/"
        },
        "id": "ZW48SgnUGIxy",
        "outputId": "27b4066b-8899-47f6-c17f-692c374b264d"
      },
      "execution_count": null,
      "outputs": [
        {
          "output_type": "stream",
          "name": "stdout",
          "text": [
            "x_size :torch.Size([224, 224, 3])\n",
            "permuted :torch.Size([3, 224, 224])\n"
          ]
        }
      ]
    },
    {
      "cell_type": "markdown",
      "source": [
        "## Indexing (selecting data from tensors)\n",
        "\n",
        "Indexing with pyTorch is similiar to indexing with Numpy"
      ],
      "metadata": {
        "id": "GbK07x0NJDed"
      }
    },
    {
      "cell_type": "code",
      "source": [
        "## Create a tensor\n",
        "import torch\n",
        "x = torch.arange(1,10).reshape(1,3,3)\n",
        "x,x.shape"
      ],
      "metadata": {
        "colab": {
          "base_uri": "https://localhost:8080/"
        },
        "id": "pBz4uWaEJMvt",
        "outputId": "16e1539f-67ba-49d7-ff43-66c442423fd3"
      },
      "execution_count": null,
      "outputs": [
        {
          "output_type": "execute_result",
          "data": {
            "text/plain": [
              "(tensor([[[1, 2, 3],\n",
              "          [4, 5, 6],\n",
              "          [7, 8, 9]]]),\n",
              " torch.Size([1, 3, 3]))"
            ]
          },
          "metadata": {},
          "execution_count": 42
        }
      ]
    },
    {
      "cell_type": "code",
      "source": [
        "# Lets index on our new tensor\n",
        "x[0] # dim = 0"
      ],
      "metadata": {
        "colab": {
          "base_uri": "https://localhost:8080/"
        },
        "id": "12IcSG_AJdll",
        "outputId": "701f56dd-0803-4197-9524-7f59397cab7c"
      },
      "execution_count": null,
      "outputs": [
        {
          "output_type": "execute_result",
          "data": {
            "text/plain": [
              "tensor([[1, 2, 3],\n",
              "        [4, 5, 6],\n",
              "        [7, 8, 9]])"
            ]
          },
          "metadata": {},
          "execution_count": 43
        }
      ]
    },
    {
      "cell_type": "code",
      "source": [
        "# let's index on the middle bracket (dim = 1)\n",
        "x[0][0]"
      ],
      "metadata": {
        "colab": {
          "base_uri": "https://localhost:8080/"
        },
        "id": "dMvAfd2qJjWa",
        "outputId": "b558f4f6-a212-4eee-8c2f-b62cf88cccec"
      },
      "execution_count": null,
      "outputs": [
        {
          "output_type": "execute_result",
          "data": {
            "text/plain": [
              "tensor([1, 2, 3])"
            ]
          },
          "metadata": {},
          "execution_count": 44
        }
      ]
    },
    {
      "cell_type": "code",
      "source": [
        "# lets index on the most inner bracket (dim = 2)\n",
        "x[0][0][0]"
      ],
      "metadata": {
        "colab": {
          "base_uri": "https://localhost:8080/"
        },
        "id": "5Hu5vIkoJtb_",
        "outputId": "d071546b-cac9-49c1-d382-daa8fb81c1c1"
      },
      "execution_count": null,
      "outputs": [
        {
          "output_type": "execute_result",
          "data": {
            "text/plain": [
              "tensor(1)"
            ]
          },
          "metadata": {},
          "execution_count": 45
        }
      ]
    },
    {
      "cell_type": "code",
      "source": [
        "x[0][2][2]"
      ],
      "metadata": {
        "colab": {
          "base_uri": "https://localhost:8080/"
        },
        "id": "Hupkj1FjKBlq",
        "outputId": "bed2c475-82e7-4d7d-e6fa-e12b55196448"
      },
      "execution_count": null,
      "outputs": [
        {
          "output_type": "execute_result",
          "data": {
            "text/plain": [
              "tensor(9)"
            ]
          },
          "metadata": {},
          "execution_count": 46
        }
      ]
    },
    {
      "cell_type": "code",
      "source": [
        "# You can also use \": \" to select \"all\" of the target dimension\n",
        "x[:,0]"
      ],
      "metadata": {
        "colab": {
          "base_uri": "https://localhost:8080/"
        },
        "id": "Pg5zdqpcKGIt",
        "outputId": "15f37905-895e-4eea-940c-0385768cecf1"
      },
      "execution_count": null,
      "outputs": [
        {
          "output_type": "execute_result",
          "data": {
            "text/plain": [
              "tensor([[1, 2, 3]])"
            ]
          },
          "metadata": {},
          "execution_count": 49
        }
      ]
    },
    {
      "cell_type": "code",
      "source": [
        "# Get all values of 0th and 1st dimensions but only index 1 of 2nd dimension\n",
        "x[:,:,1]"
      ],
      "metadata": {
        "colab": {
          "base_uri": "https://localhost:8080/"
        },
        "id": "sgtUitd4KTb7",
        "outputId": "feecf2c5-0ca3-41b1-9ad2-41c77975a459"
      },
      "execution_count": null,
      "outputs": [
        {
          "output_type": "execute_result",
          "data": {
            "text/plain": [
              "tensor([[2, 5, 8]])"
            ]
          },
          "metadata": {},
          "execution_count": 50
        }
      ]
    },
    {
      "cell_type": "code",
      "source": [
        "# Get all values of the 0 dimension but only 1 index values of 1st and 2nd dim\n",
        "x[:,1,1]"
      ],
      "metadata": {
        "colab": {
          "base_uri": "https://localhost:8080/"
        },
        "id": "e8WiMJY3Klhb",
        "outputId": "0f5efd7e-04f7-4d4f-b850-cb2c2ce77340"
      },
      "execution_count": null,
      "outputs": [
        {
          "output_type": "execute_result",
          "data": {
            "text/plain": [
              "tensor([5])"
            ]
          },
          "metadata": {},
          "execution_count": 51
        }
      ]
    },
    {
      "cell_type": "code",
      "source": [
        "# Get index 0 of 0th and 1st dimension and all values of 2nd dimension\n",
        "x[0,0,:]"
      ],
      "metadata": {
        "colab": {
          "base_uri": "https://localhost:8080/"
        },
        "id": "lzCLkn6AK5qU",
        "outputId": "7633238c-7311-422f-9d46-b7f047d5e062"
      },
      "execution_count": null,
      "outputs": [
        {
          "output_type": "execute_result",
          "data": {
            "text/plain": [
              "tensor([1, 2, 3])"
            ]
          },
          "metadata": {},
          "execution_count": 53
        }
      ]
    },
    {
      "cell_type": "code",
      "source": [
        "# Index on x to return 9\n",
        "x[0,2,2]"
      ],
      "metadata": {
        "colab": {
          "base_uri": "https://localhost:8080/"
        },
        "id": "3RM_U3aiLNk6",
        "outputId": "d01bbf36-da6d-446f-db42-310124ee4928"
      },
      "execution_count": null,
      "outputs": [
        {
          "output_type": "execute_result",
          "data": {
            "text/plain": [
              "tensor(9)"
            ]
          },
          "metadata": {},
          "execution_count": 54
        }
      ]
    },
    {
      "cell_type": "code",
      "source": [
        "# index on x to return 3,6,9\n",
        "x[0,:,2]"
      ],
      "metadata": {
        "colab": {
          "base_uri": "https://localhost:8080/"
        },
        "id": "6S-CBpweLYHA",
        "outputId": "717f452e-bdf4-415f-c8bf-ef04060bc229"
      },
      "execution_count": null,
      "outputs": [
        {
          "output_type": "execute_result",
          "data": {
            "text/plain": [
              "tensor([3, 6, 9])"
            ]
          },
          "metadata": {},
          "execution_count": 55
        }
      ]
    },
    {
      "cell_type": "markdown",
      "source": [
        "## PyTorch tensor and Numpy\n",
        "\n",
        "Numpy is a popular scientific python numerical computing library\n",
        "And because of this, pyTorch has functionality to interact with it.\n",
        "\n",
        "* Data in Numpy, want in pyTorch -> `torch.from_numpy(ndarray)`\n",
        "* Pytorch tensor -> Numpy -> `torch.Tensor.numpy()`"
      ],
      "metadata": {
        "id": "0Fa2CZnTLrCq"
      }
    },
    {
      "cell_type": "code",
      "source": [
        "# Numpy array to tensor\n",
        "import torch\n",
        "import numpy as np\n",
        "\n",
        "# Warning when converting numpy to pytorch , pytorch reflects numpy's default datatype of float64 unless specified\n",
        "\n",
        "array = np.arange(1.0,8.0)\n",
        "tensor = torch.from_numpy(array)\n",
        "tensor_float32 = torch.from_numpy(array).type(torch.float32)\n",
        "array,tensor,tensor_float32"
      ],
      "metadata": {
        "colab": {
          "base_uri": "https://localhost:8080/"
        },
        "id": "dHu1SsD2MJjq",
        "outputId": "3777a3cb-491e-4b5f-b773-44567628ddea"
      },
      "execution_count": null,
      "outputs": [
        {
          "output_type": "execute_result",
          "data": {
            "text/plain": [
              "(array([1., 2., 3., 4., 5., 6., 7.]),\n",
              " tensor([1., 2., 3., 4., 5., 6., 7.], dtype=torch.float64),\n",
              " tensor([1., 2., 3., 4., 5., 6., 7.]))"
            ]
          },
          "metadata": {},
          "execution_count": 58
        }
      ]
    },
    {
      "cell_type": "code",
      "source": [
        "# Change the value of array, what will this do to `tensor`?\n",
        "array = array + 1\n",
        "array,tensor # Does not affects tensor"
      ],
      "metadata": {
        "colab": {
          "base_uri": "https://localhost:8080/"
        },
        "id": "rZOjT-ttNCqR",
        "outputId": "3fb937c2-47c1-436f-9882-f37bb5ff05b6"
      },
      "execution_count": null,
      "outputs": [
        {
          "output_type": "execute_result",
          "data": {
            "text/plain": [
              "(array([3., 4., 5., 6., 7., 8., 9.]),\n",
              " tensor([1., 2., 3., 4., 5., 6., 7.], dtype=torch.float64))"
            ]
          },
          "metadata": {},
          "execution_count": 60
        }
      ]
    },
    {
      "cell_type": "code",
      "source": [
        "# Tensor to Numpy array\n",
        "tensor = torch.ones(7)\n",
        "numpy_tensor = tensor.numpy()  ## Takes tensor's default dtype = float32\n",
        "tensor,numpy_tensor"
      ],
      "metadata": {
        "colab": {
          "base_uri": "https://localhost:8080/"
        },
        "id": "DKYtNESVNyW-",
        "outputId": "5bf7a141-a1d8-4eae-cb4a-4cb776b270d0"
      },
      "execution_count": null,
      "outputs": [
        {
          "output_type": "execute_result",
          "data": {
            "text/plain": [
              "(tensor([1., 1., 1., 1., 1., 1., 1.]),\n",
              " array([1., 1., 1., 1., 1., 1., 1.], dtype=float32))"
            ]
          },
          "metadata": {},
          "execution_count": 61
        }
      ]
    },
    {
      "cell_type": "code",
      "source": [
        "# change the tensor, what happens to `numpy_tensor`?\n",
        "tensor = tensor + 1\n",
        "tensor, numpy_tensor # numpy_tensor does not gets affected"
      ],
      "metadata": {
        "colab": {
          "base_uri": "https://localhost:8080/"
        },
        "id": "EI3bXaFjOH26",
        "outputId": "c1615899-697f-40c1-c427-f3bdee1832a9"
      },
      "execution_count": null,
      "outputs": [
        {
          "output_type": "execute_result",
          "data": {
            "text/plain": [
              "(tensor([2., 2., 2., 2., 2., 2., 2.]),\n",
              " array([1., 1., 1., 1., 1., 1., 1.], dtype=float32))"
            ]
          },
          "metadata": {},
          "execution_count": 62
        }
      ]
    },
    {
      "cell_type": "markdown",
      "source": [
        "# PyTorch Reproducibility (trying to take random out of random )\n",
        "\n",
        "In short how a neural network learns:\n",
        "\n",
        "`start with random numbers -> tensor operations -> update random numbers to try and make them better representation of data -> again -> again -> again..`\n",
        "\n",
        "To Reduce the randomness in neural networks and Pytorch comes the concept of a **random seed**.\n",
        "\n",
        "Essentially what the random seed does is \"flavour\" the randomness"
      ],
      "metadata": {
        "id": "tkorRtyHOYS-"
      }
    },
    {
      "cell_type": "code",
      "source": [
        "import torch\n",
        "\n",
        "# create two random tensors\n",
        "random_tensor_A = torch.rand(3,4)\n",
        "random_tensor_B = torch.rand(3,4)\n",
        "print(random_tensor_A)\n",
        "print(random_tensor_B)\n",
        "print(random_tensor_A == random_tensor_B)"
      ],
      "metadata": {
        "colab": {
          "base_uri": "https://localhost:8080/"
        },
        "id": "cQ8oGvqhPSIj",
        "outputId": "c7c8d2ca-d840-46c0-bdbe-e9d70d9f3019"
      },
      "execution_count": null,
      "outputs": [
        {
          "output_type": "stream",
          "name": "stdout",
          "text": [
            "tensor([[0.7020, 0.8865, 0.7904, 0.8395],\n",
            "        [0.0424, 0.4200, 0.1287, 0.5557],\n",
            "        [0.3070, 0.4893, 0.7660, 0.5523]])\n",
            "tensor([[0.3919, 0.5687, 0.4152, 0.0359],\n",
            "        [0.3332, 0.1615, 0.2415, 0.7696],\n",
            "        [0.5412, 0.8161, 0.2461, 0.5124]])\n",
            "tensor([[False, False, False, False],\n",
            "        [False, False, False, False],\n",
            "        [False, False, False, False]])\n"
          ]
        }
      ]
    },
    {
      "cell_type": "code",
      "source": [
        "## Let's make some random but reproducible tensors\n",
        "import torch\n",
        "\n",
        "# Set the random seed\n",
        "RANDOM_SEED = 42  ## Any value (Different flavor of randomness)\n",
        "\n",
        "torch.manual_seed(RANDOM_SEED)  ## Set random seed for next block\n",
        "random_tensor_C = torch.rand(3,4)  ## tensor generated based on random seed\n",
        "\n",
        "torch.manual_seed(RANDOM_SEED)  ## Set random seed for next block\n",
        "random_tensor_D = torch.rand(3,4) ## tensor generated based on random seed\n",
        "\n",
        "print(random_tensor_C)\n",
        "print(random_tensor_D)\n",
        "print(random_tensor_C == random_tensor_D) # equal\n"
      ],
      "metadata": {
        "colab": {
          "base_uri": "https://localhost:8080/"
        },
        "id": "mIcgDLZqPxzn",
        "outputId": "8317a9b8-225e-467c-da04-87192b213234"
      },
      "execution_count": null,
      "outputs": [
        {
          "output_type": "stream",
          "name": "stdout",
          "text": [
            "tensor([[0.8823, 0.9150, 0.3829, 0.9593],\n",
            "        [0.3904, 0.6009, 0.2566, 0.7936],\n",
            "        [0.9408, 0.1332, 0.9346, 0.5936]])\n",
            "tensor([[0.8823, 0.9150, 0.3829, 0.9593],\n",
            "        [0.3904, 0.6009, 0.2566, 0.7936],\n",
            "        [0.9408, 0.1332, 0.9346, 0.5936]])\n",
            "tensor([[True, True, True, True],\n",
            "        [True, True, True, True],\n",
            "        [True, True, True, True]])\n"
          ]
        }
      ]
    },
    {
      "cell_type": "markdown",
      "source": [
        "## Running tensors and Pytorch objects on GPU's (making faster computations)\n",
        "\n"
      ],
      "metadata": {
        "id": "YKNYHnAOTP6w"
      }
    },
    {
      "cell_type": "markdown",
      "source": [
        "### 1. Getting a GPU\n",
        "\n",
        "1. Easiest - Use Google Collab for a free GPU (options to upgrade as well )\n",
        "2. Use your own GPU\n",
        "3. USe Cloud computing - GCP, AWS, Azure\n",
        "\n",
        "\n",
        "For 2,3 PyTorch + GPU drivers (CUDA) takes a little bit of setting up, to do this, refer to PyTorch setup Documentation\n",
        "\n"
      ],
      "metadata": {
        "id": "QfU2WczaTjbu"
      }
    },
    {
      "cell_type": "code",
      "source": [
        "# change runtime and choose a GPU\n",
        "\n",
        "# GPU specifications\n",
        "!nvidia-smi"
      ],
      "metadata": {
        "colab": {
          "base_uri": "https://localhost:8080/"
        },
        "id": "Qy-K-orjURwq",
        "outputId": "7b93c621-7b55-4a03-e2f7-959f7ee1f5d6"
      },
      "execution_count": null,
      "outputs": [
        {
          "output_type": "stream",
          "name": "stdout",
          "text": [
            "Tue Jan  9 13:03:17 2024       \n",
            "+---------------------------------------------------------------------------------------+\n",
            "| NVIDIA-SMI 535.104.05             Driver Version: 535.104.05   CUDA Version: 12.2     |\n",
            "|-----------------------------------------+----------------------+----------------------+\n",
            "| GPU  Name                 Persistence-M | Bus-Id        Disp.A | Volatile Uncorr. ECC |\n",
            "| Fan  Temp   Perf          Pwr:Usage/Cap |         Memory-Usage | GPU-Util  Compute M. |\n",
            "|                                         |                      |               MIG M. |\n",
            "|=========================================+======================+======================|\n",
            "|   0  Tesla T4                       Off | 00000000:00:04.0 Off |                    0 |\n",
            "| N/A   36C    P8               9W /  70W |      0MiB / 15360MiB |      0%      Default |\n",
            "|                                         |                      |                  N/A |\n",
            "+-----------------------------------------+----------------------+----------------------+\n",
            "                                                                                         \n",
            "+---------------------------------------------------------------------------------------+\n",
            "| Processes:                                                                            |\n",
            "|  GPU   GI   CI        PID   Type   Process name                            GPU Memory |\n",
            "|        ID   ID                                                             Usage      |\n",
            "|=======================================================================================|\n",
            "|  No running processes found                                                           |\n",
            "+---------------------------------------------------------------------------------------+\n"
          ]
        }
      ]
    },
    {
      "cell_type": "markdown",
      "source": [
        "### 2. Check for GPU access with PyTorch"
      ],
      "metadata": {
        "id": "IQXweHgYUpr8"
      }
    },
    {
      "cell_type": "code",
      "source": [
        "# Check for GPU access with PyTorch\n",
        "import torch\n",
        "torch.cuda.is_available() # cuda is nvidia's programming interface that allows us to use GPUs for computing\n"
      ],
      "metadata": {
        "colab": {
          "base_uri": "https://localhost:8080/"
        },
        "id": "A3W-o4q0U1ZL",
        "outputId": "43443862-b858-44b5-f85f-373f944635ff"
      },
      "execution_count": null,
      "outputs": [
        {
          "output_type": "execute_result",
          "data": {
            "text/plain": [
              "True"
            ]
          },
          "metadata": {},
          "execution_count": 4
        }
      ]
    },
    {
      "cell_type": "code",
      "source": [
        "# Set up device agnostic code ::: run on GPU if exists if not use CPU\n",
        "device = \"cuda\" if torch.cuda.is_available() else \"cpu\"\n",
        "device"
      ],
      "metadata": {
        "colab": {
          "base_uri": "https://localhost:8080/",
          "height": 35
        },
        "id": "N19E9baKVN-G",
        "outputId": "4506c789-5fb7-41d1-d679-0bfdb4d0227f"
      },
      "execution_count": null,
      "outputs": [
        {
          "output_type": "execute_result",
          "data": {
            "text/plain": [
              "'cuda'"
            ],
            "application/vnd.google.colaboratory.intrinsic+json": {
              "type": "string"
            }
          },
          "metadata": {},
          "execution_count": 5
        }
      ]
    },
    {
      "cell_type": "code",
      "source": [
        "# Count number of devices\n",
        "torch.cuda.device_count()"
      ],
      "metadata": {
        "colab": {
          "base_uri": "https://localhost:8080/"
        },
        "id": "Aq1NdjxEVhK2",
        "outputId": "ca3b60b8-939a-4424-f0c6-19c8d5c481ed"
      },
      "execution_count": null,
      "outputs": [
        {
          "output_type": "execute_result",
          "data": {
            "text/plain": [
              "1"
            ]
          },
          "metadata": {},
          "execution_count": 6
        }
      ]
    },
    {
      "cell_type": "markdown",
      "source": [
        "## 3. Putting tensors (and models) on the GPU\n",
        "\n",
        "GPU results in faster computations"
      ],
      "metadata": {
        "id": "ePDQQ7qAsauY"
      }
    },
    {
      "cell_type": "code",
      "source": [
        "# Create a tensor (default is on the cpu)\n",
        "tensor = torch.tensor([1,2,3]) # default on cpu\n",
        "\n",
        "# Tensor not on GPU\n",
        "print(tensor,tensor.device)"
      ],
      "metadata": {
        "colab": {
          "base_uri": "https://localhost:8080/"
        },
        "id": "FQksgGo6saXJ",
        "outputId": "cf424e5b-c99c-4d04-f0c5-37a926229b7e"
      },
      "execution_count": null,
      "outputs": [
        {
          "output_type": "stream",
          "name": "stdout",
          "text": [
            "tensor([1, 2, 3]) cpu\n"
          ]
        }
      ]
    },
    {
      "cell_type": "code",
      "source": [
        "# Move tensor to GPU (if available)\n",
        "\n",
        "tensor_on_gpu = tensor.to(device)  # device = \"cuda\" if GPU is available (device agnostic code)\n",
        "tensor_on_gpu"
      ],
      "metadata": {
        "colab": {
          "base_uri": "https://localhost:8080/"
        },
        "id": "80V_BD0WtK7b",
        "outputId": "b62a45d8-7169-4da4-9b7a-eca595fd2026"
      },
      "execution_count": null,
      "outputs": [
        {
          "output_type": "execute_result",
          "data": {
            "text/plain": [
              "tensor([1, 2, 3], device='cuda:0')"
            ]
          },
          "metadata": {},
          "execution_count": 8
        }
      ]
    },
    {
      "cell_type": "markdown",
      "source": [
        "### 4. Moving tensor back to the CPU"
      ],
      "metadata": {
        "id": "tU57oOeitdnh"
      }
    },
    {
      "cell_type": "code",
      "source": [
        "## If tensor is on GPU, can't transform it to Numpy\n",
        "tensor_on_gpu.numpy()"
      ],
      "metadata": {
        "colab": {
          "base_uri": "https://localhost:8080/",
          "height": 210
        },
        "id": "cFXn36xxtkG4",
        "outputId": "ba47f160-99f8-43de-ccba-635ead356153"
      },
      "execution_count": null,
      "outputs": [
        {
          "output_type": "error",
          "ename": "TypeError",
          "evalue": "can't convert cuda:0 device type tensor to numpy. Use Tensor.cpu() to copy the tensor to host memory first.",
          "traceback": [
            "\u001b[0;31m---------------------------------------------------------------------------\u001b[0m",
            "\u001b[0;31mTypeError\u001b[0m                                 Traceback (most recent call last)",
            "\u001b[0;32m<ipython-input-9-4be2f8e24d28>\u001b[0m in \u001b[0;36m<cell line: 2>\u001b[0;34m()\u001b[0m\n\u001b[1;32m      1\u001b[0m \u001b[0;31m## If tensor is on GPU, can't transform it to Numpy\u001b[0m\u001b[0;34m\u001b[0m\u001b[0;34m\u001b[0m\u001b[0m\n\u001b[0;32m----> 2\u001b[0;31m \u001b[0mtensor_on_gpu\u001b[0m\u001b[0;34m.\u001b[0m\u001b[0mnumpy\u001b[0m\u001b[0;34m(\u001b[0m\u001b[0;34m)\u001b[0m\u001b[0;34m\u001b[0m\u001b[0;34m\u001b[0m\u001b[0m\n\u001b[0m",
            "\u001b[0;31mTypeError\u001b[0m: can't convert cuda:0 device type tensor to numpy. Use Tensor.cpu() to copy the tensor to host memory first."
          ]
        }
      ]
    },
    {
      "cell_type": "code",
      "source": [
        "# To fix GPU tensor with Numpy issue , we can first set it to the CPU\n",
        "tensor_back_on_cpu = tensor_on_gpu.cpu().numpy()\n",
        "tensor_back_on_cpu"
      ],
      "metadata": {
        "colab": {
          "base_uri": "https://localhost:8080/"
        },
        "id": "Uw_PYn8Qtudx",
        "outputId": "4e213e50-d2c3-40ee-c148-243cd2a01325"
      },
      "execution_count": null,
      "outputs": [
        {
          "output_type": "execute_result",
          "data": {
            "text/plain": [
              "array([1, 2, 3])"
            ]
          },
          "metadata": {},
          "execution_count": 12
        }
      ]
    },
    {
      "cell_type": "code",
      "source": [
        " tensor_on_gpu # remains unchanged\n"
      ],
      "metadata": {
        "colab": {
          "base_uri": "https://localhost:8080/"
        },
        "id": "gUboSu52uCq1",
        "outputId": "1b18ef19-de18-441f-d674-db029cf8a281"
      },
      "execution_count": 16,
      "outputs": [
        {
          "output_type": "execute_result",
          "data": {
            "text/plain": [
              "tensor([1, 2, 3], device='cuda:0')"
            ]
          },
          "metadata": {},
          "execution_count": 16
        }
      ]
    }
  ]
}