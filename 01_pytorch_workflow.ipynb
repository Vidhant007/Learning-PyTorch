{
  "nbformat": 4,
  "nbformat_minor": 0,
  "metadata": {
    "colab": {
      "provenance": [],
      "gpuType": "T4"
    },
    "kernelspec": {
      "name": "python3",
      "display_name": "Python 3"
    },
    "language_info": {
      "name": "python"
    },
    "accelerator": "GPU"
  },
  "cells": [
    {
      "cell_type": "markdown",
      "source": [
        " # PyTorch Workflow\n",
        "\n",
        " Let's explore an example PyTorch Workflow\n",
        "\n",
        " book version : https://www.learnpytorch.io/01_pytorch_workflow/"
      ],
      "metadata": {
        "id": "0C_RBbI8bq6F"
      }
    },
    {
      "cell_type": "code",
      "source": [
        " what_we_are_covering = {1: \"data (prepare and load)\",\n",
        "                         2:\"build model\",\n",
        "                         3:\"fitting the model to data (training)\",\n",
        "                         4:\"making predictions and evaluating a model (inference)\",\n",
        "                         5:\"saving and loading a model\",\n",
        "                         6:\"putting it all together\"}\n",
        "\n",
        "what_we_are_covering"
      ],
      "metadata": {
        "colab": {
          "base_uri": "https://localhost:8080/"
        },
        "id": "-5vjWALsdrx6",
        "outputId": "b2546b78-d54c-446b-fa96-a81f459d59d2"
      },
      "execution_count": 202,
      "outputs": [
        {
          "output_type": "execute_result",
          "data": {
            "text/plain": [
              "{1: 'data (prepare and load)',\n",
              " 2: 'build model',\n",
              " 3: 'fitting the model to data (training)',\n",
              " 4: 'making predictions and evaluating a model (inference)',\n",
              " 5: 'saving and loading a model',\n",
              " 6: 'putting it all together'}"
            ]
          },
          "metadata": {},
          "execution_count": 202
        }
      ]
    },
    {
      "cell_type": "code",
      "source": [
        "import torch\n",
        "from torch import nn # nn contains all the pyTorch building blocks for creating neural networks\n",
        "import matplotlib.pyplot as plt\n",
        "\n",
        "# Check PyTorch version\n",
        "torch.__version__"
      ],
      "metadata": {
        "colab": {
          "base_uri": "https://localhost:8080/",
          "height": 35
        },
        "id": "zeLNyA-vdsYM",
        "outputId": "40b64bb9-94fb-49ce-f6e3-37c4429521d1"
      },
      "execution_count": 203,
      "outputs": [
        {
          "output_type": "execute_result",
          "data": {
            "text/plain": [
              "'2.1.0+cu121'"
            ],
            "application/vnd.google.colaboratory.intrinsic+json": {
              "type": "string"
            }
          },
          "metadata": {},
          "execution_count": 203
        }
      ]
    },
    {
      "cell_type": "markdown",
      "source": [
        "## 1. Data (preparing andLoading)\n",
        "\n",
        "Data can be almost anything in machine learning.\n",
        "\n",
        "* Excel spreadsheet\n",
        "* images of any king\n",
        "* Video, Audio\n",
        "* DNA\n",
        "* Text\n",
        "\n",
        "Machine learning is a game of two parts :\n",
        "1. Get data into a numerical representation\n",
        "2. Build a model to learn patterns in that numerical representation.\n",
        "\n",
        "\n",
        "To Showcase this, let's create some *known* data using the linear regression formula\n",
        "\n",
        "**A linear regression has an equation of the form Y = a + bX** where b is slope of the line and a is the intercept.\n",
        "\n",
        "We'll use a linear regression formula to make a straight line with known **parameters**"
      ],
      "metadata": {
        "id": "Gn31CsPLeNhl"
      }
    },
    {
      "cell_type": "code",
      "source": [
        "# Create *known* parameters\n",
        "weight = 0.7  #b\n",
        "bias = 0.3    # a as per (linear regression)\n",
        "\n",
        "# Create\n",
        "start = 0\n",
        "end = 1\n",
        "step = 0.02\n",
        "\n",
        "# a capital X is a tensor or a vector\n",
        "X = torch.arange(start,end,step).unsqueeze(dim=1)\n",
        "Y = weight * X  + bias\n",
        "\n",
        "X[:10], Y[:10]"
      ],
      "metadata": {
        "colab": {
          "base_uri": "https://localhost:8080/"
        },
        "id": "JZYicUK4fR1l",
        "outputId": "78ea99a5-db62-41de-b00f-df0c8bb9dc1e"
      },
      "execution_count": 204,
      "outputs": [
        {
          "output_type": "execute_result",
          "data": {
            "text/plain": [
              "(tensor([[0.0000],\n",
              "         [0.0200],\n",
              "         [0.0400],\n",
              "         [0.0600],\n",
              "         [0.0800],\n",
              "         [0.1000],\n",
              "         [0.1200],\n",
              "         [0.1400],\n",
              "         [0.1600],\n",
              "         [0.1800]]),\n",
              " tensor([[0.3000],\n",
              "         [0.3140],\n",
              "         [0.3280],\n",
              "         [0.3420],\n",
              "         [0.3560],\n",
              "         [0.3700],\n",
              "         [0.3840],\n",
              "         [0.3980],\n",
              "         [0.4120],\n",
              "         [0.4260]]))"
            ]
          },
          "metadata": {},
          "execution_count": 204
        }
      ]
    },
    {
      "cell_type": "code",
      "source": [
        "len(X),len(Y)"
      ],
      "metadata": {
        "colab": {
          "base_uri": "https://localhost:8080/"
        },
        "id": "8rB7KIvOg068",
        "outputId": "acedd4b4-cfeb-404a-e361-13d113dd090a"
      },
      "execution_count": 205,
      "outputs": [
        {
          "output_type": "execute_result",
          "data": {
            "text/plain": [
              "(50, 50)"
            ]
          },
          "metadata": {},
          "execution_count": 205
        }
      ]
    },
    {
      "cell_type": "markdown",
      "source": [
        "### Splitting data into training and test sets (one of the most important cocepts in machine learning in general)\n",
        "\n",
        "#### Three Datasets\n",
        "1. training set/split (where model learns patterns from)  [60 to 80% data]\n",
        "2. practice set  (tuning those patterns)        [10 to 20% data]\n",
        "3. test set     (see if the model is ready for the wild ==> tests generalization) [10-20% data]\n",
        " Generalization : ability of for machine learning model to perform well on the data it has'nt seen before."
      ],
      "metadata": {
        "id": "BoGUFw7cnrtt"
      }
    },
    {
      "cell_type": "markdown",
      "source": [
        "#### Let's create a training and test set with our data\n"
      ],
      "metadata": {
        "id": "54LgsgROoO68"
      }
    },
    {
      "cell_type": "code",
      "source": [
        "# Create a train/test split\n",
        "train_split = int(0.8 * len(X))\n",
        "X_train, Y_train = X[:train_split],Y[:train_split]\n",
        "X_test,Y_test = X[train_split:],Y[train_split:]\n",
        "\n",
        "len(X_train), len(Y_train) , len(X_test), len(Y_test)"
      ],
      "metadata": {
        "colab": {
          "base_uri": "https://localhost:8080/"
        },
        "id": "Pc6JBuano9dA",
        "outputId": "cad08b92-77bf-4a30-e9be-b8ad21f7b99e"
      },
      "execution_count": 206,
      "outputs": [
        {
          "output_type": "execute_result",
          "data": {
            "text/plain": [
              "(40, 40, 10, 10)"
            ]
          },
          "metadata": {},
          "execution_count": 206
        }
      ]
    },
    {
      "cell_type": "markdown",
      "source": [
        "##### Visualizing Data (matplotlib)"
      ],
      "metadata": {
        "id": "g7wdR5eOqFKv"
      }
    },
    {
      "cell_type": "code",
      "source": [
        "def plot_predictions(train_data=X_train,\n",
        "                     train_labels=Y_train,\n",
        "                     test_data=X_test,\n",
        "                     test_labels=Y_test,\n",
        "                     predictions=None):\n",
        "  \"\"\"\n",
        "  Plots training data,test data and compares predictions\n",
        "  \"\"\"\n",
        "\n",
        "  plt.figure(figsize=(10,7))\n",
        "\n",
        "  # Plot training data in blue\n",
        "  plt.scatter(train_data,train_labels,c=\"b\",s=4,label=\"Training data\")\n",
        "\n",
        "  # Plot test data in green\n",
        "  plt.scatter(test_data,test_labels,c=\"g\",s=4,label=\"Testing data\")\n",
        "\n",
        "  # Are there predictions\n",
        "  if predictions is not None:\n",
        "    # Plot the predictions in red, if they exists\n",
        "    plt.scatter(test_data,predictions,c=\"r\",label=\"Predictions\")\n",
        "\n",
        "    # show legent\n",
        "    plt.legend(prop={\"size\":14});"
      ],
      "metadata": {
        "id": "LZ_EfUFFp1nb"
      },
      "execution_count": 207,
      "outputs": []
    },
    {
      "cell_type": "code",
      "source": [
        "plot_predictions()"
      ],
      "metadata": {
        "colab": {
          "base_uri": "https://localhost:8080/",
          "height": 577
        },
        "id": "DYSaMyVlrsjR",
        "outputId": "cef8ebfd-6b15-4ea3-a0a7-4b571c06bf05"
      },
      "execution_count": 208,
      "outputs": [
        {
          "output_type": "display_data",
          "data": {
            "text/plain": [
              "<Figure size 1000x700 with 1 Axes>"
            ],
            "image/png": "[encoded data removed]"
          },
          "metadata": {}
        }
      ]
    },
    {
      "cell_type": "markdown",
      "source": [
        "## 2. Build Model\n",
        "\n",
        "Our first PyTorch model ! (linear regression model)\n",
        "\n",
        "what our model does    \n",
        "* starts with random values (weight and bias)\n",
        "* Look at training data and adjust the random values to better represent (or get closer to) the ideal values (the weight and bias values we used to create the data)\n",
        "\n",
        "\n",
        "How does it do so ?\n",
        "\n",
        "Through two main algorithms   \n",
        "1. Gradient descent\n",
        "2. Backpropagation\n"
      ],
      "metadata": {
        "id": "JvE941gl02oo"
      }
    },
    {
      "cell_type": "code",
      "source": [
        "# Create a Linear Regression model class\n",
        "class LinearRegressionModel(nn.Module): # <- almost everything in PyTorch is a nn.Module (think of this as neural network lego blocks)\n",
        "    def __init__(self):\n",
        "        super().__init__()\n",
        "\n",
        "\n",
        "        # Intialize model parameters\n",
        "        self.weights = nn.Parameter(torch.randn(1, # <- start with random weights (this will get adjusted as the model learns)\n",
        "                                                dtype=torch.float), # <- PyTorch loves float32 by default\n",
        "                                   requires_grad=True) # <- can we update this value with gradient descent?)\n",
        "\n",
        "        self.bias = nn.Parameter(torch.randn(1, # <- start with random bias (this will get adjusted as the model learns)\n",
        "                                            dtype=torch.float), # <- PyTorch loves float32 by default\n",
        "                                requires_grad=True) # <- can we update this value with gradient descent?))\n",
        "\n",
        "\n",
        "\n",
        "    # Forward defines the computation in the model\n",
        "    def forward(self, x: torch.Tensor) -> torch.Tensor: # <- \"x\" is the input data (e.g. training/testing features)\n",
        "        return self.weights * x + self.bias # <- this is the linear regression formula (y = m*x + b)\n"
      ],
      "metadata": {
        "id": "4h7Clz2x1Cso"
      },
      "execution_count": 209,
      "outputs": []
    },
    {
      "cell_type": "markdown",
      "source": [
        "### PyTorch model  building essentials\n",
        "\n",
        "* torch.nn - contains all of the buildings  for computational graphs (neural networks)\n",
        "* torch.nn.Parameter - what parameters should our model try and learn, often a PyTorch layer from torch.nn will set this for us\n",
        "* torch.nn.Module - The base class for all neural network modules, if u subclass it , you should overwrite forward()\n",
        "* torch.optim - this is where the optimizers in PyTorch live, they will help with gradient descent\n",
        "* def forward() - All nn.Module subclasses require you to overwrite forward(), this method defines what happens in the forward computation\n",
        "\n",
        "![image.png](data:image/png;base64,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)\n",
        ""
      ],
      "metadata": {
        "id": "FtEkpv8oAm2B"
      }
    },
    {
      "cell_type": "markdown",
      "source": [
        "### Checking the contents of our PyTorch model\n",
        "\n",
        "we can check our model parameters or what's inside our model using .parameters()\n",
        "\n",
        "\n"
      ],
      "metadata": {
        "id": "Pn9DvcJZEN1_"
      }
    },
    {
      "cell_type": "code",
      "source": [
        "# Create a random seed\n",
        "torch.manual_seed(42)\n",
        "\n",
        "# Create an instance of the model (this is the subclass of nn.Module)\n",
        "model_0 = LinearRegressionModel()\n",
        "\n",
        "# Check out the parameters\n",
        "list(model_0.parameters())"
      ],
      "metadata": {
        "colab": {
          "base_uri": "https://localhost:8080/"
        },
        "id": "MT530jMrHMFA",
        "outputId": "c149b917-6ee4-45d7-a01b-ba54bd01d5b2"
      },
      "execution_count": 210,
      "outputs": [
        {
          "output_type": "execute_result",
          "data": {
            "text/plain": [
              "[Parameter containing:\n",
              " tensor([0.3367], requires_grad=True),\n",
              " Parameter containing:\n",
              " tensor([0.1288], requires_grad=True)]"
            ]
          },
          "metadata": {},
          "execution_count": 210
        }
      ]
    },
    {
      "cell_type": "code",
      "source": [
        "# List named parameters\n",
        "model_0.state_dict()"
      ],
      "metadata": {
        "colab": {
          "base_uri": "https://localhost:8080/"
        },
        "id": "HB4wdLVIMj7D",
        "outputId": "58e66301-eeb1-4ffa-f5da-77111c1ed082"
      },
      "execution_count": 211,
      "outputs": [
        {
          "output_type": "execute_result",
          "data": {
            "text/plain": [
              "OrderedDict([('weights', tensor([0.3367])), ('bias', tensor([0.1288]))])"
            ]
          },
          "metadata": {},
          "execution_count": 211
        }
      ]
    },
    {
      "cell_type": "markdown",
      "source": [
        "### Making predicitons using `torch.inference_mode()`\n",
        "\n",
        "To check our model's predictive power, let's se how well it predicts `y_test` based on `X_test`\n",
        "\n",
        "When we pass data through our model, it's goingin to run it through the forward() medhod:\n"
      ],
      "metadata": {
        "id": "QGveA9V8Mz00"
      }
    },
    {
      "cell_type": "code",
      "source": [
        "# Make predictions with model\n",
        "with torch.inference_mode():  ## inference mode disables gradient tracking (pytorch keeps tracks of less data i.e faster predictions)\n",
        "  y_preds = model_0(X_test)\n",
        "\n",
        "y_preds"
      ],
      "metadata": {
        "colab": {
          "base_uri": "https://localhost:8080/"
        },
        "id": "PgSTR_23NxX7",
        "outputId": "8818ffca-b6ad-4a3b-b8dc-71536599a912"
      },
      "execution_count": 212,
      "outputs": [
        {
          "output_type": "execute_result",
          "data": {
            "text/plain": [
              "tensor([[0.3982],\n",
              "        [0.4049],\n",
              "        [0.4116],\n",
              "        [0.4184],\n",
              "        [0.4251],\n",
              "        [0.4318],\n",
              "        [0.4386],\n",
              "        [0.4453],\n",
              "        [0.4520],\n",
              "        [0.4588]])"
            ]
          },
          "metadata": {},
          "execution_count": 212
        }
      ]
    },
    {
      "cell_type": "code",
      "source": [
        "# # we can make predictions without inference mode\n",
        "# y_preds = model_0(X_test)\n",
        "# y_preds   # This slower\n",
        "\n",
        "# # Make it a habbit to use inference_mode"
      ],
      "metadata": {
        "id": "E5ZLaJtwPWBx"
      },
      "execution_count": 213,
      "outputs": []
    },
    {
      "cell_type": "code",
      "source": [
        "Y_test # value we are trying to predict"
      ],
      "metadata": {
        "colab": {
          "base_uri": "https://localhost:8080/"
        },
        "id": "tW-aPVN0ObWm",
        "outputId": "fbb6a955-5966-43d4-fdfa-fc733f5b22e9"
      },
      "execution_count": 214,
      "outputs": [
        {
          "output_type": "execute_result",
          "data": {
            "text/plain": [
              "tensor([[0.8600],\n",
              "        [0.8740],\n",
              "        [0.8880],\n",
              "        [0.9020],\n",
              "        [0.9160],\n",
              "        [0.9300],\n",
              "        [0.9440],\n",
              "        [0.9580],\n",
              "        [0.9720],\n",
              "        [0.9860]])"
            ]
          },
          "metadata": {},
          "execution_count": 214
        }
      ]
    },
    {
      "cell_type": "code",
      "source": [
        "plot_predictions(predictions=y_preds)  # Not even close to ideal model"
      ],
      "metadata": {
        "colab": {
          "base_uri": "https://localhost:8080/",
          "height": 577
        },
        "id": "26BQzR_sOh4Q",
        "outputId": "c4c51a5a-5fb3-40d8-b0c5-f20dc2b36fad"
      },
      "execution_count": 215,
      "outputs": [
        {
          "output_type": "display_data",
          "data": {
            "text/plain": [
              "<Figure size 1000x700 with 1 Axes>"
            ],
            "image/png": "[encoded data removed]"
          },
          "metadata": {}
        }
      ]
    },
    {
      "cell_type": "markdown",
      "source": [
        "## 3. Train Model\n",
        "\n",
        "The whole idea of training is for a model to move from some *unknown* parameters (these may be random) to some known parameters\n",
        "\n",
        "Or in other words from a poor representation of the data to a better representation of the data\n",
        "\n",
        "\n",
        "**One way to measure how poor or how wrong your model's predictions are is to use a loss function**\n",
        "\n",
        "Note : Loss functions may also be called cost functions or criterion in different areas.\n",
        "\n",
        "\n",
        "Things we need to train :\n",
        "\n",
        "* ** Loss function**: A function to measure how wrong your model's predictions are to the ideal ouput, the lesser is better\n",
        "* **Optimizer**: Takes into account the loss of a model and adjusts the model's parameters (e.g weight  & biases) to improve the loss function\n",
        "function: https://pytorch.org/docs/stable/optim.html\n",
        "\n",
        "      Inside the optimizer you will often set two parameters:\n",
        "      * params : the model parameters you will like to optimize\n",
        "      * lr(learning rate) : that specifies how big/small optimizeer changes the parameter\n",
        "\n",
        "\n",
        "\n",
        "\n",
        "SGD optimizer : https://pytorch.org/docs/stable/generated/torch.optim.SGD.html\n",
        "\n",
        "And specifically for PyTorch, we need:\n",
        "* A training loop\n",
        "* A testing loop"
      ],
      "metadata": {
        "id": "NyYY4uSGQSVm"
      }
    },
    {
      "cell_type": "code",
      "source": [
        "# Check out our model's parameters (a parameter is a value that the model sets itself)\n",
        "model_0.state_dict()"
      ],
      "metadata": {
        "colab": {
          "base_uri": "https://localhost:8080/"
        },
        "id": "TXqa81XfXK9R",
        "outputId": "d57c0fbe-859e-4097-b451-8e8b200557d2"
      },
      "execution_count": 216,
      "outputs": [
        {
          "output_type": "execute_result",
          "data": {
            "text/plain": [
              "OrderedDict([('weights', tensor([0.3367])), ('bias', tensor([0.1288]))])"
            ]
          },
          "metadata": {},
          "execution_count": 216
        }
      ]
    },
    {
      "cell_type": "code",
      "source": [
        "# Set up a loss function\n",
        "loss_fn = nn.L1Loss()  # LL1 Gives MAE - Mean Absolute Error (there are other loss functions as per application)\n",
        "\n",
        "# setup an optimizer (torch.optim is a package that implements various optimization algorithms)\n",
        "# Here we will be using SGD (stochastic gradient descent)\n",
        "optimizer = torch.optim.SGD(params=model_0.parameters(),\n",
        "                            lr=0.01) #lr = learning rate = possibly the most important hyperparameter you can set\n",
        "\n",
        "# Note : the smaller the learning rate (lr), the smaller the change in parameter\n"
      ],
      "metadata": {
        "id": "Dg_agsq4QnoR"
      },
      "execution_count": 217,
      "outputs": []
    },
    {
      "cell_type": "markdown",
      "source": [
        "##### Q. which loss function and optimizer should i use ?\n",
        "##### A: this will be problem specific. For example for a regression problem (like ours), a loss function of `nn.L1Loss()` and an optimizer like `torch.optim.SGD()` will be suffice\n",
        "#####     But for a classification problem like whether a photo is a cat or a dog , you will likely to use a loss functuon `nn.BCELoss()` binary cross entropy loss"
      ],
      "metadata": {
        "id": "75nUaceSX-d1"
      }
    },
    {
      "cell_type": "markdown",
      "source": [
        "### Building a training loop and a testing loop in PyTorch\n",
        "\n",
        "A couple of things we need in a trainig loop:\n",
        "0. Loop through the data and do...\n",
        "1. Forward pass (this involves data moving through our model's `forward()` functions to make predictions on data -also called forward progation)\n",
        "2. Calculate the loss (compare forward pass predictions to ground truth labels)\n",
        "3. optimizer zero grad\n",
        "4. Loss backward - move backwards through through the network to calculate the gradients of each of the parameters of our model with respect to the loss **backpropagation**\n",
        "5. Optimizer setup - use the optimizer to adjust our model's parameter to try and improve the loss (**gradient descent**)\n"
      ],
      "metadata": {
        "id": "8-WuTP9lZjAa"
      }
    },
    {
      "cell_type": "code",
      "source": [
        "torch.manual_seed(42)\n",
        "\n",
        "# An epoch is one loop through the data ... (this is a hyper parameter because we set it ourself)\n",
        "epochs = 1000\n",
        "\n",
        "# tracking differet values (for future improvements)\n",
        "epochs_count = []\n",
        "loss_values = []\n",
        "test_loss_values = []\n",
        "\n",
        "# 0. Loop throught the data\n",
        "for epoch in range(epochs):\n",
        "  # set the model to training mode. (there are two modes and eval mode)\n",
        "  model_0.train() # train mode in pyTorch  , it sets all parameters that requires gradient to true\n",
        "\n",
        "  # 1.. Forward pass\n",
        "  y_pred = model_0(X_train)\n",
        "\n",
        "  #2. Calculate the loss\n",
        "  loss = loss_fn(y_pred,Y_train)\n",
        "  print(f\"LossL {loss}\")\n",
        "\n",
        "  # 3. Optimizer zero grad\n",
        "  optimizer.zero_grad() # zeroes the gradients of the optimizer (they accumulate by default)\n",
        "\n",
        "  # 4. Perform backpropagation on the loss with respect to the parameter of the model\n",
        "  loss.backward()\n",
        "\n",
        "  # 5. progress/step the optimizer (perform gradient descent)\n",
        "  optimizer.step()\n",
        "\n",
        "\n",
        "  ### Testing\n",
        "  model_0.eval() # (turns off different settings in the model not needing for testing/evaluation)\n",
        "\n",
        "  with torch.inference_mode(): #turns off gradience tracking and other things (making things faster)\n",
        "    # 1. Do the forward pass\n",
        "    test_pred = model_0(X_test)\n",
        "\n",
        "    # 2. Calculate the loss\n",
        "    test_loss = loss_fn(test_pred,Y_test)\n",
        "\n",
        "  if(epoch % 10 == 0):\n",
        "    epochs_count.append(epoch)\n",
        "    loss_values.append(loss)\n",
        "    test_loss_values.append(test_loss)\n",
        "\n",
        "    print(f\"Epoch: {epoch} | Losss : {loss} |Test loss : {test_loss}\")\n",
        "    # Print out model state_dict()\n",
        "    print(model_0.state_dict())\n"
      ],
      "metadata": {
        "colab": {
          "base_uri": "https://localhost:8080/"
        },
        "id": "XZmMcGt-ZsOb",
        "outputId": "8d361a29-6aed-4601-f5c0-1a2ebe553fd3"
      },
      "execution_count": 218,
      "outputs": [
        {
          "output_type": "stream",
          "name": "stdout",
          "text": [
            "LossL 0.31288138031959534\n",
            "Epoch: 0 | Losss : 0.31288138031959534 |Test loss : 0.48106518387794495\n",
            "OrderedDict([('weights', tensor([0.3406])), ('bias', tensor([0.1388]))])\n",
            "LossL 0.3013603389263153\n",
            "LossL 0.28983935713768005\n",
            "LossL 0.2783183455467224\n",
            "LossL 0.26679736375808716\n",
            "LossL 0.2552763521671295\n",
            "LossL 0.24375534057617188\n",
            "LossL 0.23223432898521423\n",
            "LossL 0.22071333229541779\n",
            "LossL 0.20919232070446014\n",
            "LossL 0.1976713240146637\n",
            "Epoch: 10 | Losss : 0.1976713240146637 |Test loss : 0.3463551998138428\n",
            "OrderedDict([('weights', tensor([0.3796])), ('bias', tensor([0.2388]))])\n",
            "LossL 0.18615034222602844\n",
            "LossL 0.1746293306350708\n",
            "LossL 0.16310831904411316\n",
            "LossL 0.1515873372554779\n",
            "LossL 0.14006635546684265\n",
            "LossL 0.1285453587770462\n",
            "LossL 0.11702437698841095\n",
            "LossL 0.1060912236571312\n",
            "LossL 0.09681284427642822\n",
            "LossL 0.08908725529909134\n",
            "Epoch: 20 | Losss : 0.08908725529909134 |Test loss : 0.21729660034179688\n",
            "OrderedDict([('weights', tensor([0.4184])), ('bias', tensor([0.3333]))])\n",
            "LossL 0.08227583020925522\n",
            "LossL 0.07638873159885406\n",
            "LossL 0.07160007208585739\n",
            "LossL 0.06747635453939438\n",
            "LossL 0.06395438313484192\n",
            "LossL 0.06097004935145378\n",
            "LossL 0.05845819041132927\n",
            "LossL 0.05635259300470352\n",
            "LossL 0.0545857772231102\n",
            "LossL 0.053148526698350906\n",
            "Epoch: 30 | Losss : 0.053148526698350906 |Test loss : 0.14464017748832703\n",
            "OrderedDict([('weights', tensor([0.4512])), ('bias', tensor([0.3768]))])\n",
            "LossL 0.05181945487856865\n",
            "LossL 0.05069301277399063\n",
            "LossL 0.0498228520154953\n",
            "LossL 0.04895269125699997\n",
            "LossL 0.04819351062178612\n",
            "LossL 0.047531817108392715\n",
            "LossL 0.04692792519927025\n",
            "LossL 0.04642331600189209\n",
            "LossL 0.04591871052980423\n",
            "LossL 0.04543796554207802\n",
            "Epoch: 40 | Losss : 0.04543796554207802 |Test loss : 0.11360953003168106\n",
            "OrderedDict([('weights', tensor([0.4748])), ('bias', tensor([0.3868]))])\n",
            "LossL 0.04503796249628067\n",
            "LossL 0.04463795945048332\n",
            "LossL 0.04423796385526657\n",
            "LossL 0.04383796453475952\n",
            "LossL 0.04343796148896217\n",
            "LossL 0.043074630200862885\n",
            "LossL 0.04272563382983208\n",
            "LossL 0.04237663000822067\n",
            "LossL 0.04202762991189957\n",
            "LossL 0.04167863354086876\n",
            "Epoch: 50 | Losss : 0.04167863354086876 |Test loss : 0.09919948130846024\n",
            "OrderedDict([('weights', tensor([0.4938])), ('bias', tensor([0.3843]))])\n",
            "LossL 0.04132963344454765\n",
            "LossL 0.04098063334822655\n",
            "LossL 0.04063162952661514\n",
            "LossL 0.040282636880874634\n",
            "LossL 0.039933640509843826\n",
            "LossL 0.03958464413881302\n",
            "LossL 0.03923564404249191\n",
            "LossL 0.03888664394617081\n",
            "LossL 0.0385376438498497\n",
            "LossL 0.03818932920694351\n",
            "Epoch: 60 | Losss : 0.03818932920694351 |Test loss : 0.08886633068323135\n",
            "OrderedDict([('weights', tensor([0.5116])), ('bias', tensor([0.3788]))])\n",
            "LossL 0.03785243630409241\n",
            "LossL 0.0375034399330616\n",
            "LossL 0.037164121866226196\n",
            "LossL 0.03681822493672371\n",
            "LossL 0.03647511452436447\n",
            "LossL 0.03613303601741791\n",
            "LossL 0.03578609973192215\n",
            "LossL 0.03544783592224121\n",
            "LossL 0.035098835825920105\n",
            "LossL 0.03476089984178543\n",
            "Epoch: 70 | Losss : 0.03476089984178543 |Test loss : 0.0805937647819519\n",
            "OrderedDict([('weights', tensor([0.5288])), ('bias', tensor([0.3718]))])\n",
            "LossL 0.03441363573074341\n",
            "LossL 0.03407188132405281\n",
            "LossL 0.03372843936085701\n",
            "LossL 0.03338287025690079\n",
            "LossL 0.033043231815099716\n",
            "LossL 0.03269423171877861\n",
            "LossL 0.032357655465602875\n",
            "LossL 0.03200903534889221\n",
            "LossL 0.03166864812374115\n",
            "LossL 0.03132382780313492\n",
            "Epoch: 80 | Losss : 0.03132382780313492 |Test loss : 0.07232122868299484\n",
            "OrderedDict([('weights', tensor([0.5459])), ('bias', tensor([0.3648]))])\n",
            "LossL 0.030979642644524574\n",
            "LossL 0.030638623982667923\n",
            "LossL 0.0302906334400177\n",
            "LossL 0.029953425750136375\n",
            "LossL 0.02960442565381527\n",
            "LossL 0.029265418648719788\n",
            "LossL 0.028919223695993423\n",
            "LossL 0.028576409444212914\n",
            "LossL 0.028234025463461876\n",
            "LossL 0.02788739837706089\n",
            "Epoch: 90 | Losss : 0.02788739837706089 |Test loss : 0.06473556160926819\n",
            "OrderedDict([('weights', tensor([0.5629])), ('bias', tensor([0.3573]))])\n",
            "LossL 0.02754882536828518\n",
            "LossL 0.027199819684028625\n",
            "LossL 0.026862185448408127\n",
            "LossL 0.02651461586356163\n",
            "LossL 0.026173178106546402\n",
            "LossL 0.025829419493675232\n",
            "LossL 0.02548416517674923\n",
            "LossL 0.025144213810563087\n",
            "LossL 0.02479521557688713\n",
            "LossL 0.024458957836031914\n",
            "Epoch: 100 | Losss : 0.024458957836031914 |Test loss : 0.05646304413676262\n",
            "OrderedDict([('weights', tensor([0.5800])), ('bias', tensor([0.3503]))])\n",
            "LossL 0.024110013619065285\n",
            "LossL 0.02376994863152504\n",
            "LossL 0.02342480979859829\n",
            "LossL 0.023080935701727867\n",
            "LossL 0.022739607840776443\n",
            "LossL 0.022391926497220993\n",
            "LossL 0.022054409608244896\n",
            "LossL 0.02170540764927864\n",
            "LossL 0.021366719156503677\n",
            "LossL 0.021020207554101944\n",
            "Epoch: 110 | Losss : 0.021020207554101944 |Test loss : 0.04819049686193466\n",
            "OrderedDict([('weights', tensor([0.5972])), ('bias', tensor([0.3433]))])\n",
            "LossL 0.020677709951996803\n",
            "LossL 0.02033500373363495\n",
            "LossL 0.01998869702219963\n",
            "LossL 0.019649803638458252\n",
            "LossL 0.019300809130072594\n",
            "LossL 0.018963487818837166\n",
            "LossL 0.01861560344696045\n",
            "LossL 0.018274478614330292\n",
            "LossL 0.017930403351783752\n",
            "LossL 0.01758546568453312\n",
            "Epoch: 120 | Losss : 0.01758546568453312 |Test loss : 0.04060482233762741\n",
            "OrderedDict([('weights', tensor([0.6141])), ('bias', tensor([0.3358]))])\n",
            "LossL 0.017245199531316757\n",
            "LossL 0.016896454617381096\n",
            "LossL 0.01656000316143036\n",
            "LossL 0.016210997477173805\n",
            "LossL 0.01587124727666378\n",
            "LossL 0.015525798313319683\n",
            "LossL 0.015182236209511757\n",
            "LossL 0.014840595424175262\n",
            "LossL 0.01449323259294033\n",
            "LossL 0.014155393466353416\n",
            "Epoch: 130 | Losss : 0.014155393466353416 |Test loss : 0.03233227878808975\n",
            "OrderedDict([('weights', tensor([0.6313])), ('bias', tensor([0.3288]))])\n",
            "LossL 0.013806397095322609\n",
            "LossL 0.013468016870319843\n",
            "LossL 0.013121193274855614\n",
            "LossL 0.01277900766581297\n",
            "LossL 0.012435992248356342\n",
            "LossL 0.01208999752998352\n",
            "LossL 0.011750795878469944\n",
            "LossL 0.011401787400245667\n",
            "LossL 0.011064787395298481\n",
            "LossL 0.010716589167714119\n",
            "Epoch: 140 | Losss : 0.010716589167714119 |Test loss : 0.024059748277068138\n",
            "OrderedDict([('weights', tensor([0.6485])), ('bias', tensor([0.3218]))])\n",
            "LossL 0.010375778190791607\n",
            "LossL 0.010031387209892273\n",
            "LossL 0.009686763398349285\n",
            "LossL 0.009346187114715576\n",
            "LossL 0.008997755125164986\n",
            "LossL 0.008660981431603432\n",
            "LossL 0.008311985060572624\n",
            "LossL 0.007972544990479946\n",
            "LossL 0.007626785431057215\n",
            "LossL 0.0072835334576666355\n",
            "Epoch: 150 | Losss : 0.0072835334576666355 |Test loss : 0.016474086791276932\n",
            "OrderedDict([('weights', tensor([0.6654])), ('bias', tensor([0.3143]))])\n",
            "LossL 0.006941580679267645\n",
            "LossL 0.006594526115804911\n",
            "LossL 0.006256377790123224\n",
            "LossL 0.005907376762479544\n",
            "LossL 0.005569315515458584\n",
            "LossL 0.005222178064286709\n",
            "LossL 0.004880306776612997\n",
            "LossL 0.004536976106464863\n",
            "LossL 0.00419129803776741\n",
            "LossL 0.0038517764769494534\n",
            "Epoch: 160 | Losss : 0.0038517764769494534 |Test loss : 0.008201557211577892\n",
            "OrderedDict([('weights', tensor([0.6826])), ('bias', tensor([0.3073]))])\n",
            "LossL 0.0035027749836444855\n",
            "LossL 0.0031660839449614286\n",
            "LossL 0.002817571861669421\n",
            "LossL 0.0024770735763013363\n",
            "LossL 0.0021323717664927244\n",
            "LossL 0.0017880648374557495\n",
            "LossL 0.0014518328243866563\n",
            "LossL 0.0011887758737429976\n",
            "LossL 0.0025885067880153656\n",
            "LossL 0.008932482451200485\n",
            "Epoch: 170 | Losss : 0.008932482451200485 |Test loss : 0.005023092031478882\n",
            "OrderedDict([('weights', tensor([0.6951])), ('bias', tensor([0.2993]))])\n",
            "LossL 0.0025885067880153656\n",
            "LossL 0.008932482451200485\n",
            "LossL 0.0025885067880153656\n",
            "LossL 0.008932482451200485\n",
            "LossL 0.0025885067880153656\n",
            "LossL 0.008932482451200485\n",
            "LossL 0.0025885067880153656\n",
            "LossL 0.008932482451200485\n",
            "LossL 0.0025885067880153656\n",
            "LossL 0.008932482451200485\n",
            "Epoch: 180 | Losss : 0.008932482451200485 |Test loss : 0.005023092031478882\n",
            "OrderedDict([('weights', tensor([0.6951])), ('bias', tensor([0.2993]))])\n",
            "LossL 0.0025885067880153656\n",
            "LossL 0.008932482451200485\n",
            "LossL 0.0025885067880153656\n",
            "LossL 0.008932482451200485\n",
            "LossL 0.0025885067880153656\n",
            "LossL 0.008932482451200485\n",
            "LossL 0.0025885067880153656\n",
            "LossL 0.008932482451200485\n",
            "LossL 0.0025885067880153656\n",
            "LossL 0.008932482451200485\n",
            "Epoch: 190 | Losss : 0.008932482451200485 |Test loss : 0.005023092031478882\n",
            "OrderedDict([('weights', tensor([0.6951])), ('bias', tensor([0.2993]))])\n",
            "LossL 0.0025885067880153656\n",
            "LossL 0.008932482451200485\n",
            "LossL 0.0025885067880153656\n",
            "LossL 0.008932482451200485\n",
            "LossL 0.0025885067880153656\n",
            "LossL 0.008932482451200485\n",
            "LossL 0.0025885067880153656\n",
            "LossL 0.008932482451200485\n",
            "LossL 0.0025885067880153656\n",
            "LossL 0.008932482451200485\n",
            "Epoch: 200 | Losss : 0.008932482451200485 |Test loss : 0.005023092031478882\n",
            "OrderedDict([('weights', tensor([0.6951])), ('bias', tensor([0.2993]))])\n",
            "LossL 0.0025885067880153656\n",
            "LossL 0.008932482451200485\n",
            "LossL 0.0025885067880153656\n",
            "LossL 0.008932482451200485\n",
            "LossL 0.0025885067880153656\n",
            "LossL 0.008932482451200485\n",
            "LossL 0.0025885067880153656\n",
            "LossL 0.008932482451200485\n",
            "LossL 0.0025885067880153656\n",
            "LossL 0.008932482451200485\n",
            "Epoch: 210 | Losss : 0.008932482451200485 |Test loss : 0.005023092031478882\n",
            "OrderedDict([('weights', tensor([0.6951])), ('bias', tensor([0.2993]))])\n",
            "LossL 0.0025885067880153656\n",
            "LossL 0.008932482451200485\n",
            "LossL 0.0025885067880153656\n",
            "LossL 0.008932482451200485\n",
            "LossL 0.0025885067880153656\n",
            "LossL 0.008932482451200485\n",
            "LossL 0.0025885067880153656\n",
            "LossL 0.008932482451200485\n",
            "LossL 0.0025885067880153656\n",
            "LossL 0.008932482451200485\n",
            "Epoch: 220 | Losss : 0.008932482451200485 |Test loss : 0.005023092031478882\n",
            "OrderedDict([('weights', tensor([0.6951])), ('bias', tensor([0.2993]))])\n",
            "LossL 0.0025885067880153656\n",
            "LossL 0.008932482451200485\n",
            "LossL 0.0025885067880153656\n",
            "LossL 0.008932482451200485\n",
            "LossL 0.0025885067880153656\n",
            "LossL 0.008932482451200485\n",
            "LossL 0.0025885067880153656\n",
            "LossL 0.008932482451200485\n",
            "LossL 0.0025885067880153656\n",
            "LossL 0.008932482451200485\n",
            "Epoch: 230 | Losss : 0.008932482451200485 |Test loss : 0.005023092031478882\n",
            "OrderedDict([('weights', tensor([0.6951])), ('bias', tensor([0.2993]))])\n",
            "LossL 0.0025885067880153656\n",
            "LossL 0.008932482451200485\n",
            "LossL 0.0025885067880153656\n",
            "LossL 0.008932482451200485\n",
            "LossL 0.0025885067880153656\n",
            "LossL 0.008932482451200485\n",
            "LossL 0.0025885067880153656\n",
            "LossL 0.008932482451200485\n",
            "LossL 0.0025885067880153656\n",
            "LossL 0.008932482451200485\n",
            "Epoch: 240 | Losss : 0.008932482451200485 |Test loss : 0.005023092031478882\n",
            "OrderedDict([('weights', tensor([0.6951])), ('bias', tensor([0.2993]))])\n",
            "LossL 0.0025885067880153656\n",
            "LossL 0.008932482451200485\n",
            "LossL 0.0025885067880153656\n",
            "LossL 0.008932482451200485\n",
            "LossL 0.0025885067880153656\n",
            "LossL 0.008932482451200485\n",
            "LossL 0.0025885067880153656\n",
            "LossL 0.008932482451200485\n",
            "LossL 0.0025885067880153656\n",
            "LossL 0.008932482451200485\n",
            "Epoch: 250 | Losss : 0.008932482451200485 |Test loss : 0.005023092031478882\n",
            "OrderedDict([('weights', tensor([0.6951])), ('bias', tensor([0.2993]))])\n",
            "LossL 0.0025885067880153656\n",
            "LossL 0.008932482451200485\n",
            "LossL 0.0025885067880153656\n",
            "LossL 0.008932482451200485\n",
            "LossL 0.0025885067880153656\n",
            "LossL 0.008932482451200485\n",
            "LossL 0.0025885067880153656\n",
            "LossL 0.008932482451200485\n",
            "LossL 0.0025885067880153656\n",
            "LossL 0.008932482451200485\n",
            "Epoch: 260 | Losss : 0.008932482451200485 |Test loss : 0.005023092031478882\n",
            "OrderedDict([('weights', tensor([0.6951])), ('bias', tensor([0.2993]))])\n",
            "LossL 0.0025885067880153656\n",
            "LossL 0.008932482451200485\n",
            "LossL 0.0025885067880153656\n",
            "LossL 0.008932482451200485\n",
            "LossL 0.0025885067880153656\n",
            "LossL 0.008932482451200485\n",
            "LossL 0.0025885067880153656\n",
            "LossL 0.008932482451200485\n",
            "LossL 0.0025885067880153656\n",
            "LossL 0.008932482451200485\n",
            "Epoch: 270 | Losss : 0.008932482451200485 |Test loss : 0.005023092031478882\n",
            "OrderedDict([('weights', tensor([0.6951])), ('bias', tensor([0.2993]))])\n",
            "LossL 0.0025885067880153656\n",
            "LossL 0.008932482451200485\n",
            "LossL 0.0025885067880153656\n",
            "LossL 0.008932482451200485\n",
            "LossL 0.0025885067880153656\n",
            "LossL 0.008932482451200485\n",
            "LossL 0.0025885067880153656\n",
            "LossL 0.008932482451200485\n",
            "LossL 0.0025885067880153656\n",
            "LossL 0.008932482451200485\n",
            "Epoch: 280 | Losss : 0.008932482451200485 |Test loss : 0.005023092031478882\n",
            "OrderedDict([('weights', tensor([0.6951])), ('bias', tensor([0.2993]))])\n",
            "LossL 0.0025885067880153656\n",
            "LossL 0.008932482451200485\n",
            "LossL 0.0025885067880153656\n",
            "LossL 0.008932482451200485\n",
            "LossL 0.0025885067880153656\n",
            "LossL 0.008932482451200485\n",
            "LossL 0.0025885067880153656\n",
            "LossL 0.008932482451200485\n",
            "LossL 0.0025885067880153656\n",
            "LossL 0.008932482451200485\n",
            "Epoch: 290 | Losss : 0.008932482451200485 |Test loss : 0.005023092031478882\n",
            "OrderedDict([('weights', tensor([0.6951])), ('bias', tensor([0.2993]))])\n",
            "LossL 0.0025885067880153656\n",
            "LossL 0.008932482451200485\n",
            "LossL 0.0025885067880153656\n",
            "LossL 0.008932482451200485\n",
            "LossL 0.0025885067880153656\n",
            "LossL 0.008932482451200485\n",
            "LossL 0.0025885067880153656\n",
            "LossL 0.008932482451200485\n",
            "LossL 0.0025885067880153656\n",
            "LossL 0.008932482451200485\n",
            "Epoch: 300 | Losss : 0.008932482451200485 |Test loss : 0.005023092031478882\n",
            "OrderedDict([('weights', tensor([0.6951])), ('bias', tensor([0.2993]))])\n",
            "LossL 0.0025885067880153656\n",
            "LossL 0.008932482451200485\n",
            "LossL 0.0025885067880153656\n",
            "LossL 0.008932482451200485\n",
            "LossL 0.0025885067880153656\n",
            "LossL 0.008932482451200485\n",
            "LossL 0.0025885067880153656\n",
            "LossL 0.008932482451200485\n",
            "LossL 0.0025885067880153656\n",
            "LossL 0.008932482451200485\n",
            "Epoch: 310 | Losss : 0.008932482451200485 |Test loss : 0.005023092031478882\n",
            "OrderedDict([('weights', tensor([0.6951])), ('bias', tensor([0.2993]))])\n",
            "LossL 0.0025885067880153656\n",
            "LossL 0.008932482451200485\n",
            "LossL 0.0025885067880153656\n",
            "LossL 0.008932482451200485\n",
            "LossL 0.0025885067880153656\n",
            "LossL 0.008932482451200485\n",
            "LossL 0.0025885067880153656\n",
            "LossL 0.008932482451200485\n",
            "LossL 0.0025885067880153656\n",
            "LossL 0.008932482451200485\n",
            "Epoch: 320 | Losss : 0.008932482451200485 |Test loss : 0.005023092031478882\n",
            "OrderedDict([('weights', tensor([0.6951])), ('bias', tensor([0.2993]))])\n",
            "LossL 0.0025885067880153656\n",
            "LossL 0.008932482451200485\n",
            "LossL 0.0025885067880153656\n",
            "LossL 0.008932482451200485\n",
            "LossL 0.0025885067880153656\n",
            "LossL 0.008932482451200485\n",
            "LossL 0.0025885067880153656\n",
            "LossL 0.008932482451200485\n",
            "LossL 0.0025885067880153656\n",
            "LossL 0.008932482451200485\n",
            "Epoch: 330 | Losss : 0.008932482451200485 |Test loss : 0.005023092031478882\n",
            "OrderedDict([('weights', tensor([0.6951])), ('bias', tensor([0.2993]))])\n",
            "LossL 0.0025885067880153656\n",
            "LossL 0.008932482451200485\n",
            "LossL 0.0025885067880153656\n",
            "LossL 0.008932482451200485\n",
            "LossL 0.0025885067880153656\n",
            "LossL 0.008932482451200485\n",
            "LossL 0.0025885067880153656\n",
            "LossL 0.008932482451200485\n",
            "LossL 0.0025885067880153656\n",
            "LossL 0.008932482451200485\n",
            "Epoch: 340 | Losss : 0.008932482451200485 |Test loss : 0.005023092031478882\n",
            "OrderedDict([('weights', tensor([0.6951])), ('bias', tensor([0.2993]))])\n",
            "LossL 0.0025885067880153656\n",
            "LossL 0.008932482451200485\n",
            "LossL 0.0025885067880153656\n",
            "LossL 0.008932482451200485\n",
            "LossL 0.0025885067880153656\n",
            "LossL 0.008932482451200485\n",
            "LossL 0.0025885067880153656\n",
            "LossL 0.008932482451200485\n",
            "LossL 0.0025885067880153656\n",
            "LossL 0.008932482451200485\n",
            "Epoch: 350 | Losss : 0.008932482451200485 |Test loss : 0.005023092031478882\n",
            "OrderedDict([('weights', tensor([0.6951])), ('bias', tensor([0.2993]))])\n",
            "LossL 0.0025885067880153656\n",
            "LossL 0.008932482451200485\n",
            "LossL 0.0025885067880153656\n",
            "LossL 0.008932482451200485\n",
            "LossL 0.0025885067880153656\n",
            "LossL 0.008932482451200485\n",
            "LossL 0.0025885067880153656\n",
            "LossL 0.008932482451200485\n",
            "LossL 0.0025885067880153656\n",
            "LossL 0.008932482451200485\n",
            "Epoch: 360 | Losss : 0.008932482451200485 |Test loss : 0.005023092031478882\n",
            "OrderedDict([('weights', tensor([0.6951])), ('bias', tensor([0.2993]))])\n",
            "LossL 0.0025885067880153656\n",
            "LossL 0.008932482451200485\n",
            "LossL 0.0025885067880153656\n",
            "LossL 0.008932482451200485\n",
            "LossL 0.0025885067880153656\n",
            "LossL 0.008932482451200485\n",
            "LossL 0.0025885067880153656\n",
            "LossL 0.008932482451200485\n",
            "LossL 0.0025885067880153656\n",
            "LossL 0.008932482451200485\n",
            "Epoch: 370 | Losss : 0.008932482451200485 |Test loss : 0.005023092031478882\n",
            "OrderedDict([('weights', tensor([0.6951])), ('bias', tensor([0.2993]))])\n",
            "LossL 0.0025885067880153656\n",
            "LossL 0.008932482451200485\n",
            "LossL 0.0025885067880153656\n",
            "LossL 0.008932482451200485\n",
            "LossL 0.0025885067880153656\n",
            "LossL 0.008932482451200485\n",
            "LossL 0.0025885067880153656\n",
            "LossL 0.008932482451200485\n",
            "LossL 0.0025885067880153656\n",
            "LossL 0.008932482451200485\n",
            "Epoch: 380 | Losss : 0.008932482451200485 |Test loss : 0.005023092031478882\n",
            "OrderedDict([('weights', tensor([0.6951])), ('bias', tensor([0.2993]))])\n",
            "LossL 0.0025885067880153656\n",
            "LossL 0.008932482451200485\n",
            "LossL 0.0025885067880153656\n",
            "LossL 0.008932482451200485\n",
            "LossL 0.0025885067880153656\n",
            "LossL 0.008932482451200485\n",
            "LossL 0.0025885067880153656\n",
            "LossL 0.008932482451200485\n",
            "LossL 0.0025885067880153656\n",
            "LossL 0.008932482451200485\n",
            "Epoch: 390 | Losss : 0.008932482451200485 |Test loss : 0.005023092031478882\n",
            "OrderedDict([('weights', tensor([0.6951])), ('bias', tensor([0.2993]))])\n",
            "LossL 0.0025885067880153656\n",
            "LossL 0.008932482451200485\n",
            "LossL 0.0025885067880153656\n",
            "LossL 0.008932482451200485\n",
            "LossL 0.0025885067880153656\n",
            "LossL 0.008932482451200485\n",
            "LossL 0.0025885067880153656\n",
            "LossL 0.008932482451200485\n",
            "LossL 0.0025885067880153656\n",
            "LossL 0.008932482451200485\n",
            "Epoch: 400 | Losss : 0.008932482451200485 |Test loss : 0.005023092031478882\n",
            "OrderedDict([('weights', tensor([0.6951])), ('bias', tensor([0.2993]))])\n",
            "LossL 0.0025885067880153656\n",
            "LossL 0.008932482451200485\n",
            "LossL 0.0025885067880153656\n",
            "LossL 0.008932482451200485\n",
            "LossL 0.0025885067880153656\n",
            "LossL 0.008932482451200485\n",
            "LossL 0.0025885067880153656\n",
            "LossL 0.008932482451200485\n",
            "LossL 0.0025885067880153656\n",
            "LossL 0.008932482451200485\n",
            "Epoch: 410 | Losss : 0.008932482451200485 |Test loss : 0.005023092031478882\n",
            "OrderedDict([('weights', tensor([0.6951])), ('bias', tensor([0.2993]))])\n",
            "LossL 0.0025885067880153656\n",
            "LossL 0.008932482451200485\n",
            "LossL 0.0025885067880153656\n",
            "LossL 0.008932482451200485\n",
            "LossL 0.0025885067880153656\n",
            "LossL 0.008932482451200485\n",
            "LossL 0.0025885067880153656\n",
            "LossL 0.008932482451200485\n",
            "LossL 0.0025885067880153656\n",
            "LossL 0.008932482451200485\n",
            "Epoch: 420 | Losss : 0.008932482451200485 |Test loss : 0.005023092031478882\n",
            "OrderedDict([('weights', tensor([0.6951])), ('bias', tensor([0.2993]))])\n",
            "LossL 0.0025885067880153656\n",
            "LossL 0.008932482451200485\n",
            "LossL 0.0025885067880153656\n",
            "LossL 0.008932482451200485\n",
            "LossL 0.0025885067880153656\n",
            "LossL 0.008932482451200485\n",
            "LossL 0.0025885067880153656\n",
            "LossL 0.008932482451200485\n",
            "LossL 0.0025885067880153656\n",
            "LossL 0.008932482451200485\n",
            "Epoch: 430 | Losss : 0.008932482451200485 |Test loss : 0.005023092031478882\n",
            "OrderedDict([('weights', tensor([0.6951])), ('bias', tensor([0.2993]))])\n",
            "LossL 0.0025885067880153656\n",
            "LossL 0.008932482451200485\n",
            "LossL 0.0025885067880153656\n",
            "LossL 0.008932482451200485\n",
            "LossL 0.0025885067880153656\n",
            "LossL 0.008932482451200485\n",
            "LossL 0.0025885067880153656\n",
            "LossL 0.008932482451200485\n",
            "LossL 0.0025885067880153656\n",
            "LossL 0.008932482451200485\n",
            "Epoch: 440 | Losss : 0.008932482451200485 |Test loss : 0.005023092031478882\n",
            "OrderedDict([('weights', tensor([0.6951])), ('bias', tensor([0.2993]))])\n",
            "LossL 0.0025885067880153656\n",
            "LossL 0.008932482451200485\n",
            "LossL 0.0025885067880153656\n",
            "LossL 0.008932482451200485\n",
            "LossL 0.0025885067880153656\n",
            "LossL 0.008932482451200485\n",
            "LossL 0.0025885067880153656\n",
            "LossL 0.008932482451200485\n",
            "LossL 0.0025885067880153656\n",
            "LossL 0.008932482451200485\n",
            "Epoch: 450 | Losss : 0.008932482451200485 |Test loss : 0.005023092031478882\n",
            "OrderedDict([('weights', tensor([0.6951])), ('bias', tensor([0.2993]))])\n",
            "LossL 0.0025885067880153656\n",
            "LossL 0.008932482451200485\n",
            "LossL 0.0025885067880153656\n",
            "LossL 0.008932482451200485\n",
            "LossL 0.0025885067880153656\n",
            "LossL 0.008932482451200485\n",
            "LossL 0.0025885067880153656\n",
            "LossL 0.008932482451200485\n",
            "LossL 0.0025885067880153656\n",
            "LossL 0.008932482451200485\n",
            "Epoch: 460 | Losss : 0.008932482451200485 |Test loss : 0.005023092031478882\n",
            "OrderedDict([('weights', tensor([0.6951])), ('bias', tensor([0.2993]))])\n",
            "LossL 0.0025885067880153656\n",
            "LossL 0.008932482451200485\n",
            "LossL 0.0025885067880153656\n",
            "LossL 0.008932482451200485\n",
            "LossL 0.0025885067880153656\n",
            "LossL 0.008932482451200485\n",
            "LossL 0.0025885067880153656\n",
            "LossL 0.008932482451200485\n",
            "LossL 0.0025885067880153656\n",
            "LossL 0.008932482451200485\n",
            "Epoch: 470 | Losss : 0.008932482451200485 |Test loss : 0.005023092031478882\n",
            "OrderedDict([('weights', tensor([0.6951])), ('bias', tensor([0.2993]))])\n",
            "LossL 0.0025885067880153656\n",
            "LossL 0.008932482451200485\n",
            "LossL 0.0025885067880153656\n",
            "LossL 0.008932482451200485\n",
            "LossL 0.0025885067880153656\n",
            "LossL 0.008932482451200485\n",
            "LossL 0.0025885067880153656\n",
            "LossL 0.008932482451200485\n",
            "LossL 0.0025885067880153656\n",
            "LossL 0.008932482451200485\n",
            "Epoch: 480 | Losss : 0.008932482451200485 |Test loss : 0.005023092031478882\n",
            "OrderedDict([('weights', tensor([0.6951])), ('bias', tensor([0.2993]))])\n",
            "LossL 0.0025885067880153656\n",
            "LossL 0.008932482451200485\n",
            "LossL 0.0025885067880153656\n",
            "LossL 0.008932482451200485\n",
            "LossL 0.0025885067880153656\n",
            "LossL 0.008932482451200485\n",
            "LossL 0.0025885067880153656\n",
            "LossL 0.008932482451200485\n",
            "LossL 0.0025885067880153656\n",
            "LossL 0.008932482451200485\n",
            "Epoch: 490 | Losss : 0.008932482451200485 |Test loss : 0.005023092031478882\n",
            "OrderedDict([('weights', tensor([0.6951])), ('bias', tensor([0.2993]))])\n",
            "LossL 0.0025885067880153656\n",
            "LossL 0.008932482451200485\n",
            "LossL 0.0025885067880153656\n",
            "LossL 0.008932482451200485\n",
            "LossL 0.0025885067880153656\n",
            "LossL 0.008932482451200485\n",
            "LossL 0.0025885067880153656\n",
            "LossL 0.008932482451200485\n",
            "LossL 0.0025885067880153656\n",
            "LossL 0.008932482451200485\n",
            "Epoch: 500 | Losss : 0.008932482451200485 |Test loss : 0.005023092031478882\n",
            "OrderedDict([('weights', tensor([0.6951])), ('bias', tensor([0.2993]))])\n",
            "LossL 0.0025885067880153656\n",
            "LossL 0.008932482451200485\n",
            "LossL 0.0025885067880153656\n",
            "LossL 0.008932482451200485\n",
            "LossL 0.0025885067880153656\n",
            "LossL 0.008932482451200485\n",
            "LossL 0.0025885067880153656\n",
            "LossL 0.008932482451200485\n",
            "LossL 0.0025885067880153656\n",
            "LossL 0.008932482451200485\n",
            "Epoch: 510 | Losss : 0.008932482451200485 |Test loss : 0.005023092031478882\n",
            "OrderedDict([('weights', tensor([0.6951])), ('bias', tensor([0.2993]))])\n",
            "LossL 0.0025885067880153656\n",
            "LossL 0.008932482451200485\n",
            "LossL 0.0025885067880153656\n",
            "LossL 0.008932482451200485\n",
            "LossL 0.0025885067880153656\n",
            "LossL 0.008932482451200485\n",
            "LossL 0.0025885067880153656\n",
            "LossL 0.008932482451200485\n",
            "LossL 0.0025885067880153656\n",
            "LossL 0.008932482451200485\n",
            "Epoch: 520 | Losss : 0.008932482451200485 |Test loss : 0.005023092031478882\n",
            "OrderedDict([('weights', tensor([0.6951])), ('bias', tensor([0.2993]))])\n",
            "LossL 0.0025885067880153656\n",
            "LossL 0.008932482451200485\n",
            "LossL 0.0025885067880153656\n",
            "LossL 0.008932482451200485\n",
            "LossL 0.0025885067880153656\n",
            "LossL 0.008932482451200485\n",
            "LossL 0.0025885067880153656\n",
            "LossL 0.008932482451200485\n",
            "LossL 0.0025885067880153656\n",
            "LossL 0.008932482451200485\n",
            "Epoch: 530 | Losss : 0.008932482451200485 |Test loss : 0.005023092031478882\n",
            "OrderedDict([('weights', tensor([0.6951])), ('bias', tensor([0.2993]))])\n",
            "LossL 0.0025885067880153656\n",
            "LossL 0.008932482451200485\n",
            "LossL 0.0025885067880153656\n",
            "LossL 0.008932482451200485\n",
            "LossL 0.0025885067880153656\n",
            "LossL 0.008932482451200485\n",
            "LossL 0.0025885067880153656\n",
            "LossL 0.008932482451200485\n",
            "LossL 0.0025885067880153656\n",
            "LossL 0.008932482451200485\n",
            "Epoch: 540 | Losss : 0.008932482451200485 |Test loss : 0.005023092031478882\n",
            "OrderedDict([('weights', tensor([0.6951])), ('bias', tensor([0.2993]))])\n",
            "LossL 0.0025885067880153656\n",
            "LossL 0.008932482451200485\n",
            "LossL 0.0025885067880153656\n",
            "LossL 0.008932482451200485\n",
            "LossL 0.0025885067880153656\n",
            "LossL 0.008932482451200485\n",
            "LossL 0.0025885067880153656\n",
            "LossL 0.008932482451200485\n",
            "LossL 0.0025885067880153656\n",
            "LossL 0.008932482451200485\n",
            "Epoch: 550 | Losss : 0.008932482451200485 |Test loss : 0.005023092031478882\n",
            "OrderedDict([('weights', tensor([0.6951])), ('bias', tensor([0.2993]))])\n",
            "LossL 0.0025885067880153656\n",
            "LossL 0.008932482451200485\n",
            "LossL 0.0025885067880153656\n",
            "LossL 0.008932482451200485\n",
            "LossL 0.0025885067880153656\n",
            "LossL 0.008932482451200485\n",
            "LossL 0.0025885067880153656\n",
            "LossL 0.008932482451200485\n",
            "LossL 0.0025885067880153656\n",
            "LossL 0.008932482451200485\n",
            "Epoch: 560 | Losss : 0.008932482451200485 |Test loss : 0.005023092031478882\n",
            "OrderedDict([('weights', tensor([0.6951])), ('bias', tensor([0.2993]))])\n",
            "LossL 0.0025885067880153656\n",
            "LossL 0.008932482451200485\n",
            "LossL 0.0025885067880153656\n",
            "LossL 0.008932482451200485\n",
            "LossL 0.0025885067880153656\n",
            "LossL 0.008932482451200485\n",
            "LossL 0.0025885067880153656\n",
            "LossL 0.008932482451200485\n",
            "LossL 0.0025885067880153656\n",
            "LossL 0.008932482451200485\n",
            "Epoch: 570 | Losss : 0.008932482451200485 |Test loss : 0.005023092031478882\n",
            "OrderedDict([('weights', tensor([0.6951])), ('bias', tensor([0.2993]))])\n",
            "LossL 0.0025885067880153656\n",
            "LossL 0.008932482451200485\n",
            "LossL 0.0025885067880153656\n",
            "LossL 0.008932482451200485\n",
            "LossL 0.0025885067880153656\n",
            "LossL 0.008932482451200485\n",
            "LossL 0.0025885067880153656\n",
            "LossL 0.008932482451200485\n",
            "LossL 0.0025885067880153656\n",
            "LossL 0.008932482451200485\n",
            "Epoch: 580 | Losss : 0.008932482451200485 |Test loss : 0.005023092031478882\n",
            "OrderedDict([('weights', tensor([0.6951])), ('bias', tensor([0.2993]))])\n",
            "LossL 0.0025885067880153656\n",
            "LossL 0.008932482451200485\n",
            "LossL 0.0025885067880153656\n",
            "LossL 0.008932482451200485\n",
            "LossL 0.0025885067880153656\n",
            "LossL 0.008932482451200485\n",
            "LossL 0.0025885067880153656\n",
            "LossL 0.008932482451200485\n",
            "LossL 0.0025885067880153656\n",
            "LossL 0.008932482451200485\n",
            "Epoch: 590 | Losss : 0.008932482451200485 |Test loss : 0.005023092031478882\n",
            "OrderedDict([('weights', tensor([0.6951])), ('bias', tensor([0.2993]))])\n",
            "LossL 0.0025885067880153656\n",
            "LossL 0.008932482451200485\n",
            "LossL 0.0025885067880153656\n",
            "LossL 0.008932482451200485\n",
            "LossL 0.0025885067880153656\n",
            "LossL 0.008932482451200485\n",
            "LossL 0.0025885067880153656\n",
            "LossL 0.008932482451200485\n",
            "LossL 0.0025885067880153656\n",
            "LossL 0.008932482451200485\n",
            "Epoch: 600 | Losss : 0.008932482451200485 |Test loss : 0.005023092031478882\n",
            "OrderedDict([('weights', tensor([0.6951])), ('bias', tensor([0.2993]))])\n",
            "LossL 0.0025885067880153656\n",
            "LossL 0.008932482451200485\n",
            "LossL 0.0025885067880153656\n",
            "LossL 0.008932482451200485\n",
            "LossL 0.0025885067880153656\n",
            "LossL 0.008932482451200485\n",
            "LossL 0.0025885067880153656\n",
            "LossL 0.008932482451200485\n",
            "LossL 0.0025885067880153656\n",
            "LossL 0.008932482451200485\n",
            "Epoch: 610 | Losss : 0.008932482451200485 |Test loss : 0.005023092031478882\n",
            "OrderedDict([('weights', tensor([0.6951])), ('bias', tensor([0.2993]))])\n",
            "LossL 0.0025885067880153656\n",
            "LossL 0.008932482451200485\n",
            "LossL 0.0025885067880153656\n",
            "LossL 0.008932482451200485\n",
            "LossL 0.0025885067880153656\n",
            "LossL 0.008932482451200485\n",
            "LossL 0.0025885067880153656\n",
            "LossL 0.008932482451200485\n",
            "LossL 0.0025885067880153656\n",
            "LossL 0.008932482451200485\n",
            "Epoch: 620 | Losss : 0.008932482451200485 |Test loss : 0.005023092031478882\n",
            "OrderedDict([('weights', tensor([0.6951])), ('bias', tensor([0.2993]))])\n",
            "LossL 0.0025885067880153656\n",
            "LossL 0.008932482451200485\n",
            "LossL 0.0025885067880153656\n",
            "LossL 0.008932482451200485\n",
            "LossL 0.0025885067880153656\n",
            "LossL 0.008932482451200485\n",
            "LossL 0.0025885067880153656\n",
            "LossL 0.008932482451200485\n",
            "LossL 0.0025885067880153656\n",
            "LossL 0.008932482451200485\n",
            "Epoch: 630 | Losss : 0.008932482451200485 |Test loss : 0.005023092031478882\n",
            "OrderedDict([('weights', tensor([0.6951])), ('bias', tensor([0.2993]))])\n",
            "LossL 0.0025885067880153656\n",
            "LossL 0.008932482451200485\n",
            "LossL 0.0025885067880153656\n",
            "LossL 0.008932482451200485\n",
            "LossL 0.0025885067880153656\n",
            "LossL 0.008932482451200485\n",
            "LossL 0.0025885067880153656\n",
            "LossL 0.008932482451200485\n",
            "LossL 0.0025885067880153656\n",
            "LossL 0.008932482451200485\n",
            "Epoch: 640 | Losss : 0.008932482451200485 |Test loss : 0.005023092031478882\n",
            "OrderedDict([('weights', tensor([0.6951])), ('bias', tensor([0.2993]))])\n",
            "LossL 0.0025885067880153656\n",
            "LossL 0.008932482451200485\n",
            "LossL 0.0025885067880153656\n",
            "LossL 0.008932482451200485\n",
            "LossL 0.0025885067880153656\n",
            "LossL 0.008932482451200485\n",
            "LossL 0.0025885067880153656\n",
            "LossL 0.008932482451200485\n",
            "LossL 0.0025885067880153656\n",
            "LossL 0.008932482451200485\n",
            "Epoch: 650 | Losss : 0.008932482451200485 |Test loss : 0.005023092031478882\n",
            "OrderedDict([('weights', tensor([0.6951])), ('bias', tensor([0.2993]))])\n",
            "LossL 0.0025885067880153656\n",
            "LossL 0.008932482451200485\n",
            "LossL 0.0025885067880153656\n",
            "LossL 0.008932482451200485\n",
            "LossL 0.0025885067880153656\n",
            "LossL 0.008932482451200485\n",
            "LossL 0.0025885067880153656\n",
            "LossL 0.008932482451200485\n",
            "LossL 0.0025885067880153656\n",
            "LossL 0.008932482451200485\n",
            "Epoch: 660 | Losss : 0.008932482451200485 |Test loss : 0.005023092031478882\n",
            "OrderedDict([('weights', tensor([0.6951])), ('bias', tensor([0.2993]))])\n",
            "LossL 0.0025885067880153656\n",
            "LossL 0.008932482451200485\n",
            "LossL 0.0025885067880153656\n",
            "LossL 0.008932482451200485\n",
            "LossL 0.0025885067880153656\n",
            "LossL 0.008932482451200485\n",
            "LossL 0.0025885067880153656\n",
            "LossL 0.008932482451200485\n",
            "LossL 0.0025885067880153656\n",
            "LossL 0.008932482451200485\n",
            "Epoch: 670 | Losss : 0.008932482451200485 |Test loss : 0.005023092031478882\n",
            "OrderedDict([('weights', tensor([0.6951])), ('bias', tensor([0.2993]))])\n",
            "LossL 0.0025885067880153656\n",
            "LossL 0.008932482451200485\n",
            "LossL 0.0025885067880153656\n",
            "LossL 0.008932482451200485\n",
            "LossL 0.0025885067880153656\n",
            "LossL 0.008932482451200485\n",
            "LossL 0.0025885067880153656\n",
            "LossL 0.008932482451200485\n",
            "LossL 0.0025885067880153656\n",
            "LossL 0.008932482451200485\n",
            "Epoch: 680 | Losss : 0.008932482451200485 |Test loss : 0.005023092031478882\n",
            "OrderedDict([('weights', tensor([0.6951])), ('bias', tensor([0.2993]))])\n",
            "LossL 0.0025885067880153656\n",
            "LossL 0.008932482451200485\n",
            "LossL 0.0025885067880153656\n",
            "LossL 0.008932482451200485\n",
            "LossL 0.0025885067880153656\n",
            "LossL 0.008932482451200485\n",
            "LossL 0.0025885067880153656\n",
            "LossL 0.008932482451200485\n",
            "LossL 0.0025885067880153656\n",
            "LossL 0.008932482451200485\n",
            "Epoch: 690 | Losss : 0.008932482451200485 |Test loss : 0.005023092031478882\n",
            "OrderedDict([('weights', tensor([0.6951])), ('bias', tensor([0.2993]))])\n",
            "LossL 0.0025885067880153656\n",
            "LossL 0.008932482451200485\n",
            "LossL 0.0025885067880153656\n",
            "LossL 0.008932482451200485\n",
            "LossL 0.0025885067880153656\n",
            "LossL 0.008932482451200485\n",
            "LossL 0.0025885067880153656\n",
            "LossL 0.008932482451200485\n",
            "LossL 0.0025885067880153656\n",
            "LossL 0.008932482451200485\n",
            "Epoch: 700 | Losss : 0.008932482451200485 |Test loss : 0.005023092031478882\n",
            "OrderedDict([('weights', tensor([0.6951])), ('bias', tensor([0.2993]))])\n",
            "LossL 0.0025885067880153656\n",
            "LossL 0.008932482451200485\n",
            "LossL 0.0025885067880153656\n",
            "LossL 0.008932482451200485\n",
            "LossL 0.0025885067880153656\n",
            "LossL 0.008932482451200485\n",
            "LossL 0.0025885067880153656\n",
            "LossL 0.008932482451200485\n",
            "LossL 0.0025885067880153656\n",
            "LossL 0.008932482451200485\n",
            "Epoch: 710 | Losss : 0.008932482451200485 |Test loss : 0.005023092031478882\n",
            "OrderedDict([('weights', tensor([0.6951])), ('bias', tensor([0.2993]))])\n",
            "LossL 0.0025885067880153656\n",
            "LossL 0.008932482451200485\n",
            "LossL 0.0025885067880153656\n",
            "LossL 0.008932482451200485\n",
            "LossL 0.0025885067880153656\n",
            "LossL 0.008932482451200485\n",
            "LossL 0.0025885067880153656\n",
            "LossL 0.008932482451200485\n",
            "LossL 0.0025885067880153656\n",
            "LossL 0.008932482451200485\n",
            "Epoch: 720 | Losss : 0.008932482451200485 |Test loss : 0.005023092031478882\n",
            "OrderedDict([('weights', tensor([0.6951])), ('bias', tensor([0.2993]))])\n",
            "LossL 0.0025885067880153656\n",
            "LossL 0.008932482451200485\n",
            "LossL 0.0025885067880153656\n",
            "LossL 0.008932482451200485\n",
            "LossL 0.0025885067880153656\n",
            "LossL 0.008932482451200485\n",
            "LossL 0.0025885067880153656\n",
            "LossL 0.008932482451200485\n",
            "LossL 0.0025885067880153656\n",
            "LossL 0.008932482451200485\n",
            "Epoch: 730 | Losss : 0.008932482451200485 |Test loss : 0.005023092031478882\n",
            "OrderedDict([('weights', tensor([0.6951])), ('bias', tensor([0.2993]))])\n",
            "LossL 0.0025885067880153656\n",
            "LossL 0.008932482451200485\n",
            "LossL 0.0025885067880153656\n",
            "LossL 0.008932482451200485\n",
            "LossL 0.0025885067880153656\n",
            "LossL 0.008932482451200485\n",
            "LossL 0.0025885067880153656\n",
            "LossL 0.008932482451200485\n",
            "LossL 0.0025885067880153656\n",
            "LossL 0.008932482451200485\n",
            "Epoch: 740 | Losss : 0.008932482451200485 |Test loss : 0.005023092031478882\n",
            "OrderedDict([('weights', tensor([0.6951])), ('bias', tensor([0.2993]))])\n",
            "LossL 0.0025885067880153656\n",
            "LossL 0.008932482451200485\n",
            "LossL 0.0025885067880153656\n",
            "LossL 0.008932482451200485\n",
            "LossL 0.0025885067880153656\n",
            "LossL 0.008932482451200485\n",
            "LossL 0.0025885067880153656\n",
            "LossL 0.008932482451200485\n",
            "LossL 0.0025885067880153656\n",
            "LossL 0.008932482451200485\n",
            "Epoch: 750 | Losss : 0.008932482451200485 |Test loss : 0.005023092031478882\n",
            "OrderedDict([('weights', tensor([0.6951])), ('bias', tensor([0.2993]))])\n",
            "LossL 0.0025885067880153656\n",
            "LossL 0.008932482451200485\n",
            "LossL 0.0025885067880153656\n",
            "LossL 0.008932482451200485\n",
            "LossL 0.0025885067880153656\n",
            "LossL 0.008932482451200485\n",
            "LossL 0.0025885067880153656\n",
            "LossL 0.008932482451200485\n",
            "LossL 0.0025885067880153656\n",
            "LossL 0.008932482451200485\n",
            "Epoch: 760 | Losss : 0.008932482451200485 |Test loss : 0.005023092031478882\n",
            "OrderedDict([('weights', tensor([0.6951])), ('bias', tensor([0.2993]))])\n",
            "LossL 0.0025885067880153656\n",
            "LossL 0.008932482451200485\n",
            "LossL 0.0025885067880153656\n",
            "LossL 0.008932482451200485\n",
            "LossL 0.0025885067880153656\n",
            "LossL 0.008932482451200485\n",
            "LossL 0.0025885067880153656\n",
            "LossL 0.008932482451200485\n",
            "LossL 0.0025885067880153656\n",
            "LossL 0.008932482451200485\n",
            "Epoch: 770 | Losss : 0.008932482451200485 |Test loss : 0.005023092031478882\n",
            "OrderedDict([('weights', tensor([0.6951])), ('bias', tensor([0.2993]))])\n",
            "LossL 0.0025885067880153656\n",
            "LossL 0.008932482451200485\n",
            "LossL 0.0025885067880153656\n",
            "LossL 0.008932482451200485\n",
            "LossL 0.0025885067880153656\n",
            "LossL 0.008932482451200485\n",
            "LossL 0.0025885067880153656\n",
            "LossL 0.008932482451200485\n",
            "LossL 0.0025885067880153656\n",
            "LossL 0.008932482451200485\n",
            "Epoch: 780 | Losss : 0.008932482451200485 |Test loss : 0.005023092031478882\n",
            "OrderedDict([('weights', tensor([0.6951])), ('bias', tensor([0.2993]))])\n",
            "LossL 0.0025885067880153656\n",
            "LossL 0.008932482451200485\n",
            "LossL 0.0025885067880153656\n",
            "LossL 0.008932482451200485\n",
            "LossL 0.0025885067880153656\n",
            "LossL 0.008932482451200485\n",
            "LossL 0.0025885067880153656\n",
            "LossL 0.008932482451200485\n",
            "LossL 0.0025885067880153656\n",
            "LossL 0.008932482451200485\n",
            "Epoch: 790 | Losss : 0.008932482451200485 |Test loss : 0.005023092031478882\n",
            "OrderedDict([('weights', tensor([0.6951])), ('bias', tensor([0.2993]))])\n",
            "LossL 0.0025885067880153656\n",
            "LossL 0.008932482451200485\n",
            "LossL 0.0025885067880153656\n",
            "LossL 0.008932482451200485\n",
            "LossL 0.0025885067880153656\n",
            "LossL 0.008932482451200485\n",
            "LossL 0.0025885067880153656\n",
            "LossL 0.008932482451200485\n",
            "LossL 0.0025885067880153656\n",
            "LossL 0.008932482451200485\n",
            "Epoch: 800 | Losss : 0.008932482451200485 |Test loss : 0.005023092031478882\n",
            "OrderedDict([('weights', tensor([0.6951])), ('bias', tensor([0.2993]))])\n",
            "LossL 0.0025885067880153656\n",
            "LossL 0.008932482451200485\n",
            "LossL 0.0025885067880153656\n",
            "LossL 0.008932482451200485\n",
            "LossL 0.0025885067880153656\n",
            "LossL 0.008932482451200485\n",
            "LossL 0.0025885067880153656\n",
            "LossL 0.008932482451200485\n",
            "LossL 0.0025885067880153656\n",
            "LossL 0.008932482451200485\n",
            "Epoch: 810 | Losss : 0.008932482451200485 |Test loss : 0.005023092031478882\n",
            "OrderedDict([('weights', tensor([0.6951])), ('bias', tensor([0.2993]))])\n",
            "LossL 0.0025885067880153656\n",
            "LossL 0.008932482451200485\n",
            "LossL 0.0025885067880153656\n",
            "LossL 0.008932482451200485\n",
            "LossL 0.0025885067880153656\n",
            "LossL 0.008932482451200485\n",
            "LossL 0.0025885067880153656\n",
            "LossL 0.008932482451200485\n",
            "LossL 0.0025885067880153656\n",
            "LossL 0.008932482451200485\n",
            "Epoch: 820 | Losss : 0.008932482451200485 |Test loss : 0.005023092031478882\n",
            "OrderedDict([('weights', tensor([0.6951])), ('bias', tensor([0.2993]))])\n",
            "LossL 0.0025885067880153656\n",
            "LossL 0.008932482451200485\n",
            "LossL 0.0025885067880153656\n",
            "LossL 0.008932482451200485\n",
            "LossL 0.0025885067880153656\n",
            "LossL 0.008932482451200485\n",
            "LossL 0.0025885067880153656\n",
            "LossL 0.008932482451200485\n",
            "LossL 0.0025885067880153656\n",
            "LossL 0.008932482451200485\n",
            "Epoch: 830 | Losss : 0.008932482451200485 |Test loss : 0.005023092031478882\n",
            "OrderedDict([('weights', tensor([0.6951])), ('bias', tensor([0.2993]))])\n",
            "LossL 0.0025885067880153656\n",
            "LossL 0.008932482451200485\n",
            "LossL 0.0025885067880153656\n",
            "LossL 0.008932482451200485\n",
            "LossL 0.0025885067880153656\n",
            "LossL 0.008932482451200485\n",
            "LossL 0.0025885067880153656\n",
            "LossL 0.008932482451200485\n",
            "LossL 0.0025885067880153656\n",
            "LossL 0.008932482451200485\n",
            "Epoch: 840 | Losss : 0.008932482451200485 |Test loss : 0.005023092031478882\n",
            "OrderedDict([('weights', tensor([0.6951])), ('bias', tensor([0.2993]))])\n",
            "LossL 0.0025885067880153656\n",
            "LossL 0.008932482451200485\n",
            "LossL 0.0025885067880153656\n",
            "LossL 0.008932482451200485\n",
            "LossL 0.0025885067880153656\n",
            "LossL 0.008932482451200485\n",
            "LossL 0.0025885067880153656\n",
            "LossL 0.008932482451200485\n",
            "LossL 0.0025885067880153656\n",
            "LossL 0.008932482451200485\n",
            "Epoch: 850 | Losss : 0.008932482451200485 |Test loss : 0.005023092031478882\n",
            "OrderedDict([('weights', tensor([0.6951])), ('bias', tensor([0.2993]))])\n",
            "LossL 0.0025885067880153656\n",
            "LossL 0.008932482451200485\n",
            "LossL 0.0025885067880153656\n",
            "LossL 0.008932482451200485\n",
            "LossL 0.0025885067880153656\n",
            "LossL 0.008932482451200485\n",
            "LossL 0.0025885067880153656\n",
            "LossL 0.008932482451200485\n",
            "LossL 0.0025885067880153656\n",
            "LossL 0.008932482451200485\n",
            "Epoch: 860 | Losss : 0.008932482451200485 |Test loss : 0.005023092031478882\n",
            "OrderedDict([('weights', tensor([0.6951])), ('bias', tensor([0.2993]))])\n",
            "LossL 0.0025885067880153656\n",
            "LossL 0.008932482451200485\n",
            "LossL 0.0025885067880153656\n",
            "LossL 0.008932482451200485\n",
            "LossL 0.0025885067880153656\n",
            "LossL 0.008932482451200485\n",
            "LossL 0.0025885067880153656\n",
            "LossL 0.008932482451200485\n",
            "LossL 0.0025885067880153656\n",
            "LossL 0.008932482451200485\n",
            "Epoch: 870 | Losss : 0.008932482451200485 |Test loss : 0.005023092031478882\n",
            "OrderedDict([('weights', tensor([0.6951])), ('bias', tensor([0.2993]))])\n",
            "LossL 0.0025885067880153656\n",
            "LossL 0.008932482451200485\n",
            "LossL 0.0025885067880153656\n",
            "LossL 0.008932482451200485\n",
            "LossL 0.0025885067880153656\n",
            "LossL 0.008932482451200485\n",
            "LossL 0.0025885067880153656\n",
            "LossL 0.008932482451200485\n",
            "LossL 0.0025885067880153656\n",
            "LossL 0.008932482451200485\n",
            "Epoch: 880 | Losss : 0.008932482451200485 |Test loss : 0.005023092031478882\n",
            "OrderedDict([('weights', tensor([0.6951])), ('bias', tensor([0.2993]))])\n",
            "LossL 0.0025885067880153656\n",
            "LossL 0.008932482451200485\n",
            "LossL 0.0025885067880153656\n",
            "LossL 0.008932482451200485\n",
            "LossL 0.0025885067880153656\n",
            "LossL 0.008932482451200485\n",
            "LossL 0.0025885067880153656\n",
            "LossL 0.008932482451200485\n",
            "LossL 0.0025885067880153656\n",
            "LossL 0.008932482451200485\n",
            "Epoch: 890 | Losss : 0.008932482451200485 |Test loss : 0.005023092031478882\n",
            "OrderedDict([('weights', tensor([0.6951])), ('bias', tensor([0.2993]))])\n",
            "LossL 0.0025885067880153656\n",
            "LossL 0.008932482451200485\n",
            "LossL 0.0025885067880153656\n",
            "LossL 0.008932482451200485\n",
            "LossL 0.0025885067880153656\n",
            "LossL 0.008932482451200485\n",
            "LossL 0.0025885067880153656\n",
            "LossL 0.008932482451200485\n",
            "LossL 0.0025885067880153656\n",
            "LossL 0.008932482451200485\n",
            "Epoch: 900 | Losss : 0.008932482451200485 |Test loss : 0.005023092031478882\n",
            "OrderedDict([('weights', tensor([0.6951])), ('bias', tensor([0.2993]))])\n",
            "LossL 0.0025885067880153656\n",
            "LossL 0.008932482451200485\n",
            "LossL 0.0025885067880153656\n",
            "LossL 0.008932482451200485\n",
            "LossL 0.0025885067880153656\n",
            "LossL 0.008932482451200485\n",
            "LossL 0.0025885067880153656\n",
            "LossL 0.008932482451200485\n",
            "LossL 0.0025885067880153656\n",
            "LossL 0.008932482451200485\n",
            "Epoch: 910 | Losss : 0.008932482451200485 |Test loss : 0.005023092031478882\n",
            "OrderedDict([('weights', tensor([0.6951])), ('bias', tensor([0.2993]))])\n",
            "LossL 0.0025885067880153656\n",
            "LossL 0.008932482451200485\n",
            "LossL 0.0025885067880153656\n",
            "LossL 0.008932482451200485\n",
            "LossL 0.0025885067880153656\n",
            "LossL 0.008932482451200485\n",
            "LossL 0.0025885067880153656\n",
            "LossL 0.008932482451200485\n",
            "LossL 0.0025885067880153656\n",
            "LossL 0.008932482451200485\n",
            "Epoch: 920 | Losss : 0.008932482451200485 |Test loss : 0.005023092031478882\n",
            "OrderedDict([('weights', tensor([0.6951])), ('bias', tensor([0.2993]))])\n",
            "LossL 0.0025885067880153656\n",
            "LossL 0.008932482451200485\n",
            "LossL 0.0025885067880153656\n",
            "LossL 0.008932482451200485\n",
            "LossL 0.0025885067880153656\n",
            "LossL 0.008932482451200485\n",
            "LossL 0.0025885067880153656\n",
            "LossL 0.008932482451200485\n",
            "LossL 0.0025885067880153656\n",
            "LossL 0.008932482451200485\n",
            "Epoch: 930 | Losss : 0.008932482451200485 |Test loss : 0.005023092031478882\n",
            "OrderedDict([('weights', tensor([0.6951])), ('bias', tensor([0.2993]))])\n",
            "LossL 0.0025885067880153656\n",
            "LossL 0.008932482451200485\n",
            "LossL 0.0025885067880153656\n",
            "LossL 0.008932482451200485\n",
            "LossL 0.0025885067880153656\n",
            "LossL 0.008932482451200485\n",
            "LossL 0.0025885067880153656\n",
            "LossL 0.008932482451200485\n",
            "LossL 0.0025885067880153656\n",
            "LossL 0.008932482451200485\n",
            "Epoch: 940 | Losss : 0.008932482451200485 |Test loss : 0.005023092031478882\n",
            "OrderedDict([('weights', tensor([0.6951])), ('bias', tensor([0.2993]))])\n",
            "LossL 0.0025885067880153656\n",
            "LossL 0.008932482451200485\n",
            "LossL 0.0025885067880153656\n",
            "LossL 0.008932482451200485\n",
            "LossL 0.0025885067880153656\n",
            "LossL 0.008932482451200485\n",
            "LossL 0.0025885067880153656\n",
            "LossL 0.008932482451200485\n",
            "LossL 0.0025885067880153656\n",
            "LossL 0.008932482451200485\n",
            "Epoch: 950 | Losss : 0.008932482451200485 |Test loss : 0.005023092031478882\n",
            "OrderedDict([('weights', tensor([0.6951])), ('bias', tensor([0.2993]))])\n",
            "LossL 0.0025885067880153656\n",
            "LossL 0.008932482451200485\n",
            "LossL 0.0025885067880153656\n",
            "LossL 0.008932482451200485\n",
            "LossL 0.0025885067880153656\n",
            "LossL 0.008932482451200485\n",
            "LossL 0.0025885067880153656\n",
            "LossL 0.008932482451200485\n",
            "LossL 0.0025885067880153656\n",
            "LossL 0.008932482451200485\n",
            "Epoch: 960 | Losss : 0.008932482451200485 |Test loss : 0.005023092031478882\n",
            "OrderedDict([('weights', tensor([0.6951])), ('bias', tensor([0.2993]))])\n",
            "LossL 0.0025885067880153656\n",
            "LossL 0.008932482451200485\n",
            "LossL 0.0025885067880153656\n",
            "LossL 0.008932482451200485\n",
            "LossL 0.0025885067880153656\n",
            "LossL 0.008932482451200485\n",
            "LossL 0.0025885067880153656\n",
            "LossL 0.008932482451200485\n",
            "LossL 0.0025885067880153656\n",
            "LossL 0.008932482451200485\n",
            "Epoch: 970 | Losss : 0.008932482451200485 |Test loss : 0.005023092031478882\n",
            "OrderedDict([('weights', tensor([0.6951])), ('bias', tensor([0.2993]))])\n",
            "LossL 0.0025885067880153656\n",
            "LossL 0.008932482451200485\n",
            "LossL 0.0025885067880153656\n",
            "LossL 0.008932482451200485\n",
            "LossL 0.0025885067880153656\n",
            "LossL 0.008932482451200485\n",
            "LossL 0.0025885067880153656\n",
            "LossL 0.008932482451200485\n",
            "LossL 0.0025885067880153656\n",
            "LossL 0.008932482451200485\n",
            "Epoch: 980 | Losss : 0.008932482451200485 |Test loss : 0.005023092031478882\n",
            "OrderedDict([('weights', tensor([0.6951])), ('bias', tensor([0.2993]))])\n",
            "LossL 0.0025885067880153656\n",
            "LossL 0.008932482451200485\n",
            "LossL 0.0025885067880153656\n",
            "LossL 0.008932482451200485\n",
            "LossL 0.0025885067880153656\n",
            "LossL 0.008932482451200485\n",
            "LossL 0.0025885067880153656\n",
            "LossL 0.008932482451200485\n",
            "LossL 0.0025885067880153656\n",
            "LossL 0.008932482451200485\n",
            "Epoch: 990 | Losss : 0.008932482451200485 |Test loss : 0.005023092031478882\n",
            "OrderedDict([('weights', tensor([0.6951])), ('bias', tensor([0.2993]))])\n",
            "LossL 0.0025885067880153656\n",
            "LossL 0.008932482451200485\n",
            "LossL 0.0025885067880153656\n",
            "LossL 0.008932482451200485\n",
            "LossL 0.0025885067880153656\n",
            "LossL 0.008932482451200485\n",
            "LossL 0.0025885067880153656\n",
            "LossL 0.008932482451200485\n",
            "LossL 0.0025885067880153656\n"
          ]
        }
      ]
    },
    {
      "cell_type": "code",
      "source": [
        "import numpy as np\n",
        "np.array(torch.tensor(loss_values).cpu().numpy()),test_loss_values"
      ],
      "metadata": {
        "colab": {
          "base_uri": "https://localhost:8080/"
        },
        "id": "AnhvEeHDWDFM",
        "outputId": "e654c1ce-e3ff-404f-d05c-b7a2fe279f3a"
      },
      "execution_count": 219,
      "outputs": [
        {
          "output_type": "execute_result",
          "data": {
            "text/plain": [
              "(array([0.31288138, 0.19767132, 0.08908726, 0.05314853, 0.04543797,\n",
              "        0.04167863, 0.03818933, 0.0347609 , 0.03132383, 0.0278874 ,\n",
              "        0.02445896, 0.02102021, 0.01758547, 0.01415539, 0.01071659,\n",
              "        0.00728353, 0.00385178, 0.00893248, 0.00893248, 0.00893248,\n",
              "        0.00893248, 0.00893248, 0.00893248, 0.00893248, 0.00893248,\n",
              "        0.00893248, 0.00893248, 0.00893248, 0.00893248, 0.00893248,\n",
              "        0.00893248, 0.00893248, 0.00893248, 0.00893248, 0.00893248,\n",
              "        0.00893248, 0.00893248, 0.00893248, 0.00893248, 0.00893248,\n",
              "        0.00893248, 0.00893248, 0.00893248, 0.00893248, 0.00893248,\n",
              "        0.00893248, 0.00893248, 0.00893248, 0.00893248, 0.00893248,\n",
              "        0.00893248, 0.00893248, 0.00893248, 0.00893248, 0.00893248,\n",
              "        0.00893248, 0.00893248, 0.00893248, 0.00893248, 0.00893248,\n",
              "        0.00893248, 0.00893248, 0.00893248, 0.00893248, 0.00893248,\n",
              "        0.00893248, 0.00893248, 0.00893248, 0.00893248, 0.00893248,\n",
              "        0.00893248, 0.00893248, 0.00893248, 0.00893248, 0.00893248,\n",
              "        0.00893248, 0.00893248, 0.00893248, 0.00893248, 0.00893248,\n",
              "        0.00893248, 0.00893248, 0.00893248, 0.00893248, 0.00893248,\n",
              "        0.00893248, 0.00893248, 0.00893248, 0.00893248, 0.00893248,\n",
              "        0.00893248, 0.00893248, 0.00893248, 0.00893248, 0.00893248,\n",
              "        0.00893248, 0.00893248, 0.00893248, 0.00893248, 0.00893248],\n",
              "       dtype=float32),\n",
              " [tensor(0.4811),\n",
              "  tensor(0.3464),\n",
              "  tensor(0.2173),\n",
              "  tensor(0.1446),\n",
              "  tensor(0.1136),\n",
              "  tensor(0.0992),\n",
              "  tensor(0.0889),\n",
              "  tensor(0.0806),\n",
              "  tensor(0.0723),\n",
              "  tensor(0.0647),\n",
              "  tensor(0.0565),\n",
              "  tensor(0.0482),\n",
              "  tensor(0.0406),\n",
              "  tensor(0.0323),\n",
              "  tensor(0.0241),\n",
              "  tensor(0.0165),\n",
              "  tensor(0.0082),\n",
              "  tensor(0.0050),\n",
              "  tensor(0.0050),\n",
              "  tensor(0.0050),\n",
              "  tensor(0.0050),\n",
              "  tensor(0.0050),\n",
              "  tensor(0.0050),\n",
              "  tensor(0.0050),\n",
              "  tensor(0.0050),\n",
              "  tensor(0.0050),\n",
              "  tensor(0.0050),\n",
              "  tensor(0.0050),\n",
              "  tensor(0.0050),\n",
              "  tensor(0.0050),\n",
              "  tensor(0.0050),\n",
              "  tensor(0.0050),\n",
              "  tensor(0.0050),\n",
              "  tensor(0.0050),\n",
              "  tensor(0.0050),\n",
              "  tensor(0.0050),\n",
              "  tensor(0.0050),\n",
              "  tensor(0.0050),\n",
              "  tensor(0.0050),\n",
              "  tensor(0.0050),\n",
              "  tensor(0.0050),\n",
              "  tensor(0.0050),\n",
              "  tensor(0.0050),\n",
              "  tensor(0.0050),\n",
              "  tensor(0.0050),\n",
              "  tensor(0.0050),\n",
              "  tensor(0.0050),\n",
              "  tensor(0.0050),\n",
              "  tensor(0.0050),\n",
              "  tensor(0.0050),\n",
              "  tensor(0.0050),\n",
              "  tensor(0.0050),\n",
              "  tensor(0.0050),\n",
              "  tensor(0.0050),\n",
              "  tensor(0.0050),\n",
              "  tensor(0.0050),\n",
              "  tensor(0.0050),\n",
              "  tensor(0.0050),\n",
              "  tensor(0.0050),\n",
              "  tensor(0.0050),\n",
              "  tensor(0.0050),\n",
              "  tensor(0.0050),\n",
              "  tensor(0.0050),\n",
              "  tensor(0.0050),\n",
              "  tensor(0.0050),\n",
              "  tensor(0.0050),\n",
              "  tensor(0.0050),\n",
              "  tensor(0.0050),\n",
              "  tensor(0.0050),\n",
              "  tensor(0.0050),\n",
              "  tensor(0.0050),\n",
              "  tensor(0.0050),\n",
              "  tensor(0.0050),\n",
              "  tensor(0.0050),\n",
              "  tensor(0.0050),\n",
              "  tensor(0.0050),\n",
              "  tensor(0.0050),\n",
              "  tensor(0.0050),\n",
              "  tensor(0.0050),\n",
              "  tensor(0.0050),\n",
              "  tensor(0.0050),\n",
              "  tensor(0.0050),\n",
              "  tensor(0.0050),\n",
              "  tensor(0.0050),\n",
              "  tensor(0.0050),\n",
              "  tensor(0.0050),\n",
              "  tensor(0.0050),\n",
              "  tensor(0.0050),\n",
              "  tensor(0.0050),\n",
              "  tensor(0.0050),\n",
              "  tensor(0.0050),\n",
              "  tensor(0.0050),\n",
              "  tensor(0.0050),\n",
              "  tensor(0.0050),\n",
              "  tensor(0.0050),\n",
              "  tensor(0.0050),\n",
              "  tensor(0.0050),\n",
              "  tensor(0.0050),\n",
              "  tensor(0.0050),\n",
              "  tensor(0.0050)])"
            ]
          },
          "metadata": {},
          "execution_count": 219
        }
      ]
    },
    {
      "cell_type": "code",
      "source": [
        "import numpy as np\n",
        "\n",
        "# converting loss values to numpy (current they are tensors) in order to plot them\n",
        "\n",
        "# Plot the loss curves\n",
        "plt.plot(epochs_count,np.array(torch.tensor(loss_values).numpy()), label=\"Train Loss\")\n",
        "plt.plot(epochs_count, test_loss_values,label=\"Test loss\")\n",
        "plt.title(\"Training and test loss curves\")\n",
        "plt.ylabel(\"Loss\")\n",
        "plt.xlabel(\"Epochs\")\n",
        "plt.legend();"
      ],
      "metadata": {
        "colab": {
          "base_uri": "https://localhost:8080/",
          "height": 472
        },
        "id": "MTmTQKWHUZuO",
        "outputId": "ce1df448-4ae6-4a4b-e936-85087521ac1e"
      },
      "execution_count": 220,
      "outputs": [
        {
          "output_type": "display_data",
          "data": {
            "text/plain": [
              "<Figure size 640x480 with 1 Axes>"
            ],
            "image/png": "[encoded data removed]"
          },
          "metadata": {}
        }
      ]
    },
    {
      "cell_type": "code",
      "source": [
        "with torch.inference_mode():\n",
        "  y_preds_new = model_0(X_test)"
      ],
      "metadata": {
        "id": "d29DpV4uMmg7"
      },
      "execution_count": 221,
      "outputs": []
    },
    {
      "cell_type": "code",
      "source": [
        "plot_predictions(predictions=y_preds_new)"
      ],
      "metadata": {
        "colab": {
          "base_uri": "https://localhost:8080/",
          "height": 577
        },
        "id": "1xJHQL7ILrqB",
        "outputId": "c99402f1-dd19-4904-8e95-1fe118a85c13"
      },
      "execution_count": 222,
      "outputs": [
        {
          "output_type": "display_data",
          "data": {
            "text/plain": [
              "<Figure size 1000x700 with 1 Axes>"
            ],
            "image/png": "[encoded data removed]"
          },
          "metadata": {}
        }
      ]
    },
    {
      "cell_type": "markdown",
      "source": [
        "# PyTorch Optimization loop Song\n",
        "\n",
        "It's Train Time !\n",
        "do the forward pass,\n",
        "calculate the loss,\n",
        "optimizer zero grad\n",
        "lossss backward!\n",
        "\n",
        "Optimizer step step step\n",
        "\n",
        "let's test now!\n",
        "with torch no grad:\n",
        "do the forward pass,\n",
        "calculate the loss,\n",
        "watch it go down down down !"
      ],
      "metadata": {
        "id": "9K4McObQGC87"
      }
    },
    {
      "cell_type": "markdown",
      "source": [
        "## Saving a model in PyTorch\n",
        "\n",
        "There are three main methods you should know about for saving and loading models in PyTorch.\n",
        "\n",
        "1.`torch.save()` - allows you to save a PyTorch object in PyThon's pickle format\n",
        "\n",
        "2.`torch.load()` - allows you to load a saved pyTorch object\n",
        "\n",
        "3.`torch.nn.Module.load_state_dict()` - this allows to load a model's saved state dictionary\n"
      ],
      "metadata": {
        "id": "cItZCmZLXosZ"
      }
    },
    {
      "cell_type": "code",
      "source": [
        "# Saving our PyTorch model\n",
        "from pathlib import Path\n",
        "\n",
        "# 1. Create a models directory\n",
        "\n",
        "MODEL_PATH = Path(\"models\")\n",
        "MODEL_PATH.mkdir(parents=True,exist_ok=True)\n",
        "\n",
        "# 2. Create model save path\n",
        "MODEL_NAME = \"01_pytorch_workflow_model_0.pth\"\n",
        "MODEL_SAVE_PATH = MODEL_PATH / MODEL_NAME\n",
        "\n",
        "# 3. Save the model state dict\n",
        "print(f\"Saving model to : {MODEL_SAVE_PATH}\")\n",
        "torch.save(obj=model_0.state_dict(),\n",
        "           f=MODEL_SAVE_PATH)\n",
        "\n",
        "## Now you can download the model and share it or upload it to drive\n",
        "## NOTE : saving model on collab is not permanent as it gets deleted when instance is disconnected"
      ],
      "metadata": {
        "colab": {
          "base_uri": "https://localhost:8080/"
        },
        "id": "eSAJhoraXsIO",
        "outputId": "6d38449e-27f9-4f27-8d5d-5b01fa2c1fc7"
      },
      "execution_count": 223,
      "outputs": [
        {
          "output_type": "stream",
          "name": "stdout",
          "text": [
            "Saving model to : models/01_pytorch_workflow_model_0.pth\n"
          ]
        }
      ]
    },
    {
      "cell_type": "code",
      "source": [
        "!ls -l models # Getting models"
      ],
      "metadata": {
        "colab": {
          "base_uri": "https://localhost:8080/"
        },
        "id": "c8fWQFbAbTnl",
        "outputId": "552bacff-290b-4063-d631-399f461953cd"
      },
      "execution_count": 224,
      "outputs": [
        {
          "output_type": "stream",
          "name": "stdout",
          "text": [
            "total 4\n",
            "-rw-r--r-- 1 root root 1680 Jan 11 04:06 01_pytorch_workflow_model_0.pth\n"
          ]
        }
      ]
    },
    {
      "cell_type": "markdown",
      "source": [
        "## LOading a PyTorch Model\n",
        "\n",
        "Since, we saved our model's  `state_dict()` rather than the entire model, we'll create a new instance of our model class and load the saved `state_dict()` into that."
      ],
      "metadata": {
        "id": "OoTqUHcFbxyE"
      }
    },
    {
      "cell_type": "code",
      "source": [
        "model_0.state_dict()"
      ],
      "metadata": {
        "colab": {
          "base_uri": "https://localhost:8080/"
        },
        "id": "rJ5QD97_cwKE",
        "outputId": "e5a0107a-f8e4-4828-f50e-ce48c4660c0d"
      },
      "execution_count": 225,
      "outputs": [
        {
          "output_type": "execute_result",
          "data": {
            "text/plain": [
              "OrderedDict([('weights', tensor([0.6990])), ('bias', tensor([0.3093]))])"
            ]
          },
          "metadata": {},
          "execution_count": 225
        }
      ]
    },
    {
      "cell_type": "code",
      "source": [
        "# To load in a saved state_dict we have to instantiaste a new instance of our model class\n",
        "loaded_model_0 = LinearRegressionModel()\n",
        "\n",
        "# Load the saved state_dict() of model_0 (this will update the new instance with updated parameters)\n",
        "loaded_model_0.load_state_dict(torch.load(f=MODEL_SAVE_PATH))\n"
      ],
      "metadata": {
        "colab": {
          "base_uri": "https://localhost:8080/"
        },
        "id": "ZsRMJdPqeNUo",
        "outputId": "e8c5e09d-c38d-4b25-f252-e88f542d2d50"
      },
      "execution_count": 226,
      "outputs": [
        {
          "output_type": "execute_result",
          "data": {
            "text/plain": [
              "<All keys matched successfully>"
            ]
          },
          "metadata": {},
          "execution_count": 226
        }
      ]
    },
    {
      "cell_type": "code",
      "source": [
        "loaded_model_0.state_dict()"
      ],
      "metadata": {
        "colab": {
          "base_uri": "https://localhost:8080/"
        },
        "id": "Tkjf1oRQex66",
        "outputId": "fbf5600f-7a04-4c7a-d29a-97f6a3b610e7"
      },
      "execution_count": 227,
      "outputs": [
        {
          "output_type": "execute_result",
          "data": {
            "text/plain": [
              "OrderedDict([('weights', tensor([0.6990])), ('bias', tensor([0.3093]))])"
            ]
          },
          "metadata": {},
          "execution_count": 227
        }
      ]
    },
    {
      "cell_type": "code",
      "source": [
        "# Make some predictions with our loaded model\n",
        "loaded_model_0.eval()\n",
        "with torch.inference_mode():\n",
        "  loaded_model_preds = loaded_model_0(X_test)\n",
        "\n",
        "loaded_model_preds"
      ],
      "metadata": {
        "colab": {
          "base_uri": "https://localhost:8080/"
        },
        "id": "-pq5R-7Pe0zi",
        "outputId": "48771d8c-1473-4738-eee1-dc08bb3dfc86"
      },
      "execution_count": 228,
      "outputs": [
        {
          "output_type": "execute_result",
          "data": {
            "text/plain": [
              "tensor([[0.8685],\n",
              "        [0.8825],\n",
              "        [0.8965],\n",
              "        [0.9105],\n",
              "        [0.9245],\n",
              "        [0.9384],\n",
              "        [0.9524],\n",
              "        [0.9664],\n",
              "        [0.9804],\n",
              "        [0.9944]])"
            ]
          },
          "metadata": {},
          "execution_count": 228
        }
      ]
    },
    {
      "cell_type": "code",
      "source": [
        "# Make some models preds with old model\n",
        "model_0.eval()\n",
        "with torch.inference_mode():\n",
        "  y_preds = model_0(X_test)\n",
        "\n",
        "y_preds"
      ],
      "metadata": {
        "colab": {
          "base_uri": "https://localhost:8080/"
        },
        "id": "oASP6rBjfT4B",
        "outputId": "61481e3f-d655-4945-cfdb-5fe45ff87e0a"
      },
      "execution_count": 229,
      "outputs": [
        {
          "output_type": "execute_result",
          "data": {
            "text/plain": [
              "tensor([[0.8685],\n",
              "        [0.8825],\n",
              "        [0.8965],\n",
              "        [0.9105],\n",
              "        [0.9245],\n",
              "        [0.9384],\n",
              "        [0.9524],\n",
              "        [0.9664],\n",
              "        [0.9804],\n",
              "        [0.9944]])"
            ]
          },
          "metadata": {},
          "execution_count": 229
        }
      ]
    },
    {
      "cell_type": "code",
      "source": [
        "# Compare loaded model preds with original model preds\n",
        "y_preds == loaded_model_preds # true if both models are same"
      ],
      "metadata": {
        "colab": {
          "base_uri": "https://localhost:8080/"
        },
        "id": "wDK07pZhflaq",
        "outputId": "2913f17c-7d68-49f9-b2dc-72b01b6db3b8"
      },
      "execution_count": 230,
      "outputs": [
        {
          "output_type": "execute_result",
          "data": {
            "text/plain": [
              "tensor([[True],\n",
              "        [True],\n",
              "        [True],\n",
              "        [True],\n",
              "        [True],\n",
              "        [True],\n",
              "        [True],\n",
              "        [True],\n",
              "        [True],\n",
              "        [True]])"
            ]
          },
          "metadata": {},
          "execution_count": 230
        }
      ]
    },
    {
      "cell_type": "markdown",
      "source": [
        "# 6. Putting it all together\n",
        "\n",
        "#### Let's go back through the steps above and see it all at one place"
      ],
      "metadata": {
        "id": "edfIOPfaf8vP"
      }
    },
    {
      "cell_type": "code",
      "source": [
        "# Import pyTorch and matplotlib\n",
        "import torch\n",
        "from torch import nn\n",
        "import matplotlib.pyplot as plt\n",
        "\n",
        "# Check pyTorch version\n",
        "torch.__version__"
      ],
      "metadata": {
        "colab": {
          "base_uri": "https://localhost:8080/",
          "height": 35
        },
        "id": "Ox_Zp7kagYN5",
        "outputId": "3c060242-4b26-4ca4-fad6-1e0709a51f20"
      },
      "execution_count": 231,
      "outputs": [
        {
          "output_type": "execute_result",
          "data": {
            "text/plain": [
              "'2.1.0+cu121'"
            ],
            "application/vnd.google.colaboratory.intrinsic+json": {
              "type": "string"
            }
          },
          "metadata": {},
          "execution_count": 231
        }
      ]
    },
    {
      "cell_type": "markdown",
      "source": [
        "Create device-agnostic code\n",
        "\n",
        "This means if we've got acess to a GPU, our code will use it (for faster computing)\n",
        "if no GPU is available, the code will run by CPU on default"
      ],
      "metadata": {
        "id": "IBGnnUgNgpsd"
      }
    },
    {
      "cell_type": "code",
      "source": [
        "# Set up device agnostic code\n",
        "device = \"cuda\" if torch.cuda.is_available() else \"cpu\"\n",
        "print(f\"Using device : {device}\")"
      ],
      "metadata": {
        "colab": {
          "base_uri": "https://localhost:8080/"
        },
        "id": "3ZrBxyG-g3Ie",
        "outputId": "f4bc75ba-c6b6-4b91-ecb9-4a7f5a6e3813"
      },
      "execution_count": 232,
      "outputs": [
        {
          "output_type": "stream",
          "name": "stdout",
          "text": [
            "Using device : cuda\n"
          ]
        }
      ]
    },
    {
      "cell_type": "code",
      "source": [
        "!nvidia-smi"
      ],
      "metadata": {
        "colab": {
          "base_uri": "https://localhost:8080/"
        },
        "id": "ZKf0HkDRhQQJ",
        "outputId": "3d17f72c-77a7-4956-bc13-ff7b13ead508"
      },
      "execution_count": 233,
      "outputs": [
        {
          "output_type": "stream",
          "name": "stdout",
          "text": [
            "Thu Jan 11 04:06:12 2024       \n",
            "+---------------------------------------------------------------------------------------+\n",
            "| NVIDIA-SMI 535.104.05             Driver Version: 535.104.05   CUDA Version: 12.2     |\n",
            "|-----------------------------------------+----------------------+----------------------+\n",
            "| GPU  Name                 Persistence-M | Bus-Id        Disp.A | Volatile Uncorr. ECC |\n",
            "| Fan  Temp   Perf          Pwr:Usage/Cap |         Memory-Usage | GPU-Util  Compute M. |\n",
            "|                                         |                      |               MIG M. |\n",
            "|=========================================+======================+======================|\n",
            "|   0  Tesla T4                       Off | 00000000:00:04.0 Off |                    0 |\n",
            "| N/A   76C    P0              35W /  70W |    159MiB / 15360MiB |      0%      Default |\n",
            "|                                         |                      |                  N/A |\n",
            "+-----------------------------------------+----------------------+----------------------+\n",
            "                                                                                         \n",
            "+---------------------------------------------------------------------------------------+\n",
            "| Processes:                                                                            |\n",
            "|  GPU   GI   CI        PID   Type   Process name                            GPU Memory |\n",
            "|        ID   ID                                                             Usage      |\n",
            "|=======================================================================================|\n",
            "+---------------------------------------------------------------------------------------+\n"
          ]
        }
      ]
    },
    {
      "cell_type": "markdown",
      "source": [
        "## 6.1 Data"
      ],
      "metadata": {
        "id": "YAK2CTJDgHGA"
      }
    },
    {
      "cell_type": "code",
      "source": [
        "# Create some data using the linear regression formula y = weight * X   + bias\n",
        "weight = 0.9\n",
        "bias = 0.2\n",
        "\n",
        "# Create range values\n",
        "start = 0\n",
        "end = 1\n",
        "\n",
        "step = 0.02\n",
        "\n",
        "# Create X  and Y (features and labels)\n",
        "X = torch.arange(start,end,step).unsqueeze(dim=1) # without unsqueeze, errors will pop up\n",
        "y = weight * X + bias\n",
        "X[:10],y[:10]"
      ],
      "metadata": {
        "colab": {
          "base_uri": "https://localhost:8080/"
        },
        "id": "FeyaLOHGhajf",
        "outputId": "1de8918a-ba8e-45f6-ab96-f5571fd462f9"
      },
      "execution_count": 263,
      "outputs": [
        {
          "output_type": "execute_result",
          "data": {
            "text/plain": [
              "(tensor([[0.0000],\n",
              "         [0.0200],\n",
              "         [0.0400],\n",
              "         [0.0600],\n",
              "         [0.0800],\n",
              "         [0.1000],\n",
              "         [0.1200],\n",
              "         [0.1400],\n",
              "         [0.1600],\n",
              "         [0.1800]]),\n",
              " tensor([[0.2000],\n",
              "         [0.2180],\n",
              "         [0.2360],\n",
              "         [0.2540],\n",
              "         [0.2720],\n",
              "         [0.2900],\n",
              "         [0.3080],\n",
              "         [0.3260],\n",
              "         [0.3440],\n",
              "         [0.3620]]))"
            ]
          },
          "metadata": {},
          "execution_count": 263
        }
      ]
    },
    {
      "cell_type": "code",
      "source": [
        "# Split data\n",
        "train_split = int(0.8 * len(X))\n",
        "X_train,y_train = X[:train_split], y[:train_split]\n",
        "X_test,y_test = X[train_split:],y[train_split:]\n",
        "len(X_train),len(y_train),len(X_test),len(y_test)"
      ],
      "metadata": {
        "colab": {
          "base_uri": "https://localhost:8080/"
        },
        "id": "CV6W_0iviHcs",
        "outputId": "f34ce829-80f1-463a-f272-728fa622bf90"
      },
      "execution_count": 264,
      "outputs": [
        {
          "output_type": "execute_result",
          "data": {
            "text/plain": [
              "(40, 40, 10, 10)"
            ]
          },
          "metadata": {},
          "execution_count": 264
        }
      ]
    },
    {
      "cell_type": "code",
      "source": [
        "# Mat plot lib function for visuals\n",
        "def plot_predictions(train_data=X_train,\n",
        "                     train_labels=Y_train,\n",
        "                     test_data=X_test,\n",
        "                     test_labels=Y_test,\n",
        "                     predictions=None):\n",
        "  \"\"\"\n",
        "  Plots training data,test data and compares predictions\n",
        "  \"\"\"\n",
        "\n",
        "  plt.figure(figsize=(10,7))\n",
        "\n",
        "  # Plot training data in blue\n",
        "  plt.scatter(train_data,train_labels,c=\"b\",s=4,label=\"Training data\")\n",
        "\n",
        "  # Plot test data in green\n",
        "  plt.scatter(test_data,test_labels,c=\"g\",s=4,label=\"Testing data\")\n",
        "\n",
        "  # Are there predictions\n",
        "  if predictions is not None:\n",
        "    # Plot the predictions in red, if they exists\n",
        "    plt.scatter(test_data,predictions,c=\"r\",label=\"Predictions\")\n",
        "\n",
        "    # show legent\n",
        "    plt.legend(prop={\"size\":14});"
      ],
      "metadata": {
        "id": "DNqvB1p7ry3v"
      },
      "execution_count": 265,
      "outputs": []
    },
    {
      "cell_type": "code",
      "source": [
        "# Plotting the data\n",
        "plot_predictions(X_train,y_train,X_test,y_test)"
      ],
      "metadata": {
        "colab": {
          "base_uri": "https://localhost:8080/",
          "height": 577
        },
        "id": "Tnmj5DSzie_C",
        "outputId": "920b2455-7a3f-4822-f497-f71adacc2dfc"
      },
      "execution_count": 266,
      "outputs": [
        {
          "output_type": "display_data",
          "data": {
            "text/plain": [
              "<Figure size 1000x700 with 1 Axes>"
            ],
            "image/png": "[encoded data removed]"
          },
          "metadata": {}
        }
      ]
    },
    {
      "cell_type": "markdown",
      "source": [
        "## 6.2 Building a pyTorch Linear model"
      ],
      "metadata": {
        "id": "GmPliHFri2jA"
      }
    },
    {
      "cell_type": "code",
      "source": [
        "# Create a linear model by subclasssing nn.Module\n",
        "class LinearRegressionModelV2(nn.Module):\n",
        "  def __init__(self):\n",
        "    super().__init__()\n",
        "    # Use nn.Linear() for creating model parameters / also called linear layer/transform\n",
        "    self.linear_layer = nn.Linear(in_features=1,  # input size 1\n",
        "                                  out_features=1) # output size 1\n",
        "\n",
        "  def forward(self,x: torch.Tensor) -> torch.Tensor : # x should be torch tensor and it shoudl return torch tensor\n",
        "      return self.linear_layer(x) # performs linear regression by default\n",
        "\n",
        "\n",
        "\n",
        "# set the manual seed\n",
        "torch.manual_seed(42)\n",
        "model_1 = LinearRegressionModelV2()\n",
        "model_1,model_1.state_dict()\n",
        "\n",
        "\n"
      ],
      "metadata": {
        "colab": {
          "base_uri": "https://localhost:8080/"
        },
        "id": "Iq58BiCPjJUX",
        "outputId": "d794fb00-4b4c-416a-a506-3b02d8d37dca"
      },
      "execution_count": 267,
      "outputs": [
        {
          "output_type": "execute_result",
          "data": {
            "text/plain": [
              "(LinearRegressionModelV2(\n",
              "   (linear_layer): Linear(in_features=1, out_features=1, bias=True)\n",
              " ),\n",
              " OrderedDict([('linear_layer.weight', tensor([[0.7645]])),\n",
              "              ('linear_layer.bias', tensor([0.8300]))]))"
            ]
          },
          "metadata": {},
          "execution_count": 267
        }
      ]
    },
    {
      "cell_type": "code",
      "source": [
        "# Check the model current device\n",
        "next(model_1.parameters()).device"
      ],
      "metadata": {
        "colab": {
          "base_uri": "https://localhost:8080/"
        },
        "id": "-QQ1FXmFlbh-",
        "outputId": "191571cf-d8af-4a6c-8c4f-0960647b8196"
      },
      "execution_count": 268,
      "outputs": [
        {
          "output_type": "execute_result",
          "data": {
            "text/plain": [
              "device(type='cpu')"
            ]
          },
          "metadata": {},
          "execution_count": 268
        }
      ]
    },
    {
      "cell_type": "code",
      "source": [
        "#Set the model to use the target device\n",
        "model_1.to(device)\n",
        "next(model_1.parameters()).device"
      ],
      "metadata": {
        "colab": {
          "base_uri": "https://localhost:8080/"
        },
        "id": "PK1ZvKgclTa2",
        "outputId": "f464713a-ab1a-466b-b0ae-bf501f2f4cf2"
      },
      "execution_count": 269,
      "outputs": [
        {
          "output_type": "execute_result",
          "data": {
            "text/plain": [
              "device(type='cuda', index=0)"
            ]
          },
          "metadata": {},
          "execution_count": 269
        }
      ]
    },
    {
      "cell_type": "markdown",
      "source": [
        "## 6.3 Training\n",
        "\n",
        "for training we need:\n",
        "* Loss function\n",
        "* Optimizer\n",
        "* Training loop\n",
        "* Testing loop"
      ],
      "metadata": {
        "id": "R9n6zj3-lsHg"
      }
    },
    {
      "cell_type": "code",
      "source": [
        "# Set up loss function\n",
        "loss_fn = nn.L1Loss() # same as MAE\n",
        "\n",
        "# setup our optimizer\n",
        "optimizer = torch.optim.SGD(params=model_1.parameters(),\n",
        "                            lr=0.01)\n",
        "\n",
        "\n"
      ],
      "metadata": {
        "id": "tyuHXteXl3d7"
      },
      "execution_count": 270,
      "outputs": []
    },
    {
      "cell_type": "code",
      "source": [
        "# Let's write a training loop\n",
        "torch.manual_seed(42)\n",
        "\n",
        "# Put data on the target device (device agnostic code for data)\n",
        "X_train = X_train.to(device)\n",
        "y_train = y_train.to(device)\n",
        "X_test = X_test.to(device)\n",
        "y_test = y_test.to(device)\n",
        "\n",
        "epochs = 1000\n",
        "\n",
        "for epoch in range(epochs):\n",
        "  model_1.train()\n",
        "\n",
        "  #1. Forward pass\n",
        "  y_pred = model_1(X_train)\n",
        "\n",
        "  #2, calculate the loss\n",
        "  loss = loss_fn(y_pred,y_train)\n",
        "\n",
        "  # 3. optimizer zero grad\n",
        "  optimizer.zero_grad()\n",
        "\n",
        "  # 4. perform backpropagation\n",
        "  loss.backward()\n",
        "\n",
        "  # 5. Optimizer step\n",
        "  optimizer.step()\n",
        "\n",
        "\n",
        "  ### Testing\n",
        "\n",
        "  model_1.eval()\n",
        "\n",
        "  with torch.inference_mode():\n",
        "    test_pred = model_1(X_test)\n",
        "\n",
        "    test_loss = loss_fn(test_pred,y_test)\n",
        "\n",
        "    # Print out what's happening\n",
        "\n",
        "    if epoch % 10 == 0 :\n",
        "      print(f\"Epoch : {epoch} | Loss : {loss} | test_loss : {test_loss}\")"
      ],
      "metadata": {
        "colab": {
          "base_uri": "https://localhost:8080/"
        },
        "id": "k_OYRx3SmOav",
        "outputId": "3e24f72d-7272-493a-a401-08e7abc523e7"
      },
      "execution_count": 271,
      "outputs": [
        {
          "output_type": "stream",
          "name": "stdout",
          "text": [
            "Epoch : 0 | Loss : 0.5771779417991638 | test_loss : 0.4959762692451477\n",
            "Epoch : 10 | Loss : 0.4619680345058441 | test_loss : 0.36126643419265747\n",
            "Epoch : 20 | Loss : 0.3467581868171692 | test_loss : 0.22655658423900604\n",
            "Epoch : 30 | Loss : 0.23154833912849426 | test_loss : 0.09184672683477402\n",
            "Epoch : 40 | Loss : 0.11633846908807755 | test_loss : 0.04286307841539383\n",
            "Epoch : 50 | Loss : 0.06952286511659622 | test_loss : 0.11123485863208771\n",
            "Epoch : 60 | Loss : 0.06158292293548584 | test_loss : 0.1282694786787033\n",
            "Epoch : 70 | Loss : 0.05754905566573143 | test_loss : 0.12829315662384033\n",
            "Epoch : 80 | Loss : 0.05402094125747681 | test_loss : 0.12414190918207169\n",
            "Epoch : 90 | Loss : 0.050549186766147614 | test_loss : 0.11724313348531723\n",
            "Epoch : 100 | Loss : 0.047114234417676926 | test_loss : 0.10965748131275177\n",
            "Epoch : 110 | Loss : 0.043684374541044235 | test_loss : 0.10138493031263351\n",
            "Epoch : 120 | Loss : 0.04024557024240494 | test_loss : 0.09311238676309586\n",
            "Epoch : 130 | Loss : 0.036812301725149155 | test_loss : 0.0855267345905304\n",
            "Epoch : 140 | Loss : 0.03338075056672096 | test_loss : 0.07725419104099274\n",
            "Epoch : 150 | Loss : 0.029941951856017113 | test_loss : 0.06898163259029388\n",
            "Epoch : 160 | Loss : 0.026510363444685936 | test_loss : 0.06139598414301872\n",
            "Epoch : 170 | Loss : 0.02307713031768799 | test_loss : 0.05312347039580345\n",
            "Epoch : 180 | Loss : 0.019638320431113243 | test_loss : 0.044850993901491165\n",
            "Epoch : 190 | Loss : 0.016208423301577568 | test_loss : 0.03726539760828018\n",
            "Epoch : 200 | Loss : 0.012773505412042141 | test_loss : 0.028992921113967896\n",
            "Epoch : 210 | Loss : 0.009334918111562729 | test_loss : 0.021407341584563255\n",
            "Epoch : 220 | Loss : 0.005906470585614443 | test_loss : 0.013134854845702648\n",
            "Epoch : 230 | Loss : 0.002469874219968915 | test_loss : 0.004862380214035511\n",
            "Epoch : 240 | Loss : 0.00448277872055769 | test_loss : 0.005793172400444746\n",
            "Epoch : 250 | Loss : 0.00448277872055769 | test_loss : 0.005793172400444746\n",
            "Epoch : 260 | Loss : 0.00448277872055769 | test_loss : 0.005793172400444746\n",
            "Epoch : 270 | Loss : 0.00448277872055769 | test_loss : 0.005793172400444746\n",
            "Epoch : 280 | Loss : 0.00448277872055769 | test_loss : 0.005793172400444746\n",
            "Epoch : 290 | Loss : 0.00448277872055769 | test_loss : 0.005793172400444746\n",
            "Epoch : 300 | Loss : 0.00448277872055769 | test_loss : 0.005793172400444746\n",
            "Epoch : 310 | Loss : 0.00448277872055769 | test_loss : 0.005793172400444746\n",
            "Epoch : 320 | Loss : 0.00448277872055769 | test_loss : 0.005793172400444746\n",
            "Epoch : 330 | Loss : 0.00448277872055769 | test_loss : 0.005793172400444746\n",
            "Epoch : 340 | Loss : 0.00448277872055769 | test_loss : 0.005793172400444746\n",
            "Epoch : 350 | Loss : 0.00448277872055769 | test_loss : 0.005793172400444746\n",
            "Epoch : 360 | Loss : 0.00448277872055769 | test_loss : 0.005793172400444746\n",
            "Epoch : 370 | Loss : 0.00448277872055769 | test_loss : 0.005793172400444746\n",
            "Epoch : 380 | Loss : 0.00448277872055769 | test_loss : 0.005793172400444746\n",
            "Epoch : 390 | Loss : 0.00448277872055769 | test_loss : 0.005793172400444746\n",
            "Epoch : 400 | Loss : 0.00448277872055769 | test_loss : 0.005793172400444746\n",
            "Epoch : 410 | Loss : 0.00448277872055769 | test_loss : 0.005793172400444746\n",
            "Epoch : 420 | Loss : 0.00448277872055769 | test_loss : 0.005793172400444746\n",
            "Epoch : 430 | Loss : 0.00448277872055769 | test_loss : 0.005793172400444746\n",
            "Epoch : 440 | Loss : 0.00448277872055769 | test_loss : 0.005793172400444746\n",
            "Epoch : 450 | Loss : 0.00448277872055769 | test_loss : 0.005793172400444746\n",
            "Epoch : 460 | Loss : 0.00448277872055769 | test_loss : 0.005793172400444746\n",
            "Epoch : 470 | Loss : 0.00448277872055769 | test_loss : 0.005793172400444746\n",
            "Epoch : 480 | Loss : 0.00448277872055769 | test_loss : 0.005793172400444746\n",
            "Epoch : 490 | Loss : 0.00448277872055769 | test_loss : 0.005793172400444746\n",
            "Epoch : 500 | Loss : 0.00448277872055769 | test_loss : 0.005793172400444746\n",
            "Epoch : 510 | Loss : 0.00448277872055769 | test_loss : 0.005793172400444746\n",
            "Epoch : 520 | Loss : 0.00448277872055769 | test_loss : 0.005793172400444746\n",
            "Epoch : 530 | Loss : 0.00448277872055769 | test_loss : 0.005793172400444746\n",
            "Epoch : 540 | Loss : 0.00448277872055769 | test_loss : 0.005793172400444746\n",
            "Epoch : 550 | Loss : 0.00448277872055769 | test_loss : 0.005793172400444746\n",
            "Epoch : 560 | Loss : 0.00448277872055769 | test_loss : 0.005793172400444746\n",
            "Epoch : 570 | Loss : 0.00448277872055769 | test_loss : 0.005793172400444746\n",
            "Epoch : 580 | Loss : 0.00448277872055769 | test_loss : 0.005793172400444746\n",
            "Epoch : 590 | Loss : 0.00448277872055769 | test_loss : 0.005793172400444746\n",
            "Epoch : 600 | Loss : 0.00448277872055769 | test_loss : 0.005793172400444746\n",
            "Epoch : 610 | Loss : 0.00448277872055769 | test_loss : 0.005793172400444746\n",
            "Epoch : 620 | Loss : 0.00448277872055769 | test_loss : 0.005793172400444746\n",
            "Epoch : 630 | Loss : 0.00448277872055769 | test_loss : 0.005793172400444746\n",
            "Epoch : 640 | Loss : 0.00448277872055769 | test_loss : 0.005793172400444746\n",
            "Epoch : 650 | Loss : 0.00448277872055769 | test_loss : 0.005793172400444746\n",
            "Epoch : 660 | Loss : 0.00448277872055769 | test_loss : 0.005793172400444746\n",
            "Epoch : 670 | Loss : 0.00448277872055769 | test_loss : 0.005793172400444746\n",
            "Epoch : 680 | Loss : 0.00448277872055769 | test_loss : 0.005793172400444746\n",
            "Epoch : 690 | Loss : 0.00448277872055769 | test_loss : 0.005793172400444746\n",
            "Epoch : 700 | Loss : 0.00448277872055769 | test_loss : 0.005793172400444746\n",
            "Epoch : 710 | Loss : 0.00448277872055769 | test_loss : 0.005793172400444746\n",
            "Epoch : 720 | Loss : 0.00448277872055769 | test_loss : 0.005793172400444746\n",
            "Epoch : 730 | Loss : 0.00448277872055769 | test_loss : 0.005793172400444746\n",
            "Epoch : 740 | Loss : 0.00448277872055769 | test_loss : 0.005793172400444746\n",
            "Epoch : 750 | Loss : 0.00448277872055769 | test_loss : 0.005793172400444746\n",
            "Epoch : 760 | Loss : 0.00448277872055769 | test_loss : 0.005793172400444746\n",
            "Epoch : 770 | Loss : 0.00448277872055769 | test_loss : 0.005793172400444746\n",
            "Epoch : 780 | Loss : 0.00448277872055769 | test_loss : 0.005793172400444746\n",
            "Epoch : 790 | Loss : 0.00448277872055769 | test_loss : 0.005793172400444746\n",
            "Epoch : 800 | Loss : 0.00448277872055769 | test_loss : 0.005793172400444746\n",
            "Epoch : 810 | Loss : 0.00448277872055769 | test_loss : 0.005793172400444746\n",
            "Epoch : 820 | Loss : 0.00448277872055769 | test_loss : 0.005793172400444746\n",
            "Epoch : 830 | Loss : 0.00448277872055769 | test_loss : 0.005793172400444746\n",
            "Epoch : 840 | Loss : 0.00448277872055769 | test_loss : 0.005793172400444746\n",
            "Epoch : 850 | Loss : 0.00448277872055769 | test_loss : 0.005793172400444746\n",
            "Epoch : 860 | Loss : 0.00448277872055769 | test_loss : 0.005793172400444746\n",
            "Epoch : 870 | Loss : 0.00448277872055769 | test_loss : 0.005793172400444746\n",
            "Epoch : 880 | Loss : 0.00448277872055769 | test_loss : 0.005793172400444746\n",
            "Epoch : 890 | Loss : 0.00448277872055769 | test_loss : 0.005793172400444746\n",
            "Epoch : 900 | Loss : 0.00448277872055769 | test_loss : 0.005793172400444746\n",
            "Epoch : 910 | Loss : 0.00448277872055769 | test_loss : 0.005793172400444746\n",
            "Epoch : 920 | Loss : 0.00448277872055769 | test_loss : 0.005793172400444746\n",
            "Epoch : 930 | Loss : 0.00448277872055769 | test_loss : 0.005793172400444746\n",
            "Epoch : 940 | Loss : 0.00448277872055769 | test_loss : 0.005793172400444746\n",
            "Epoch : 950 | Loss : 0.00448277872055769 | test_loss : 0.005793172400444746\n",
            "Epoch : 960 | Loss : 0.00448277872055769 | test_loss : 0.005793172400444746\n",
            "Epoch : 970 | Loss : 0.00448277872055769 | test_loss : 0.005793172400444746\n",
            "Epoch : 980 | Loss : 0.00448277872055769 | test_loss : 0.005793172400444746\n",
            "Epoch : 990 | Loss : 0.00448277872055769 | test_loss : 0.005793172400444746\n"
          ]
        }
      ]
    },
    {
      "cell_type": "code",
      "source": [
        "model_1.state_dict()"
      ],
      "metadata": {
        "colab": {
          "base_uri": "https://localhost:8080/"
        },
        "id": "nhxihH3Zpgkk",
        "outputId": "e3a0455d-d161-4960-842a-14949adaabf8"
      },
      "execution_count": 272,
      "outputs": [
        {
          "output_type": "execute_result",
          "data": {
            "text/plain": [
              "OrderedDict([('linear_layer.weight', tensor([[0.8936]], device='cuda:0')),\n",
              "             ('linear_layer.bias', tensor([0.1980], device='cuda:0'))])"
            ]
          },
          "metadata": {},
          "execution_count": 272
        }
      ]
    },
    {
      "cell_type": "code",
      "source": [
        "weight, bias"
      ],
      "metadata": {
        "colab": {
          "base_uri": "https://localhost:8080/"
        },
        "id": "FdUJocTEpnAU",
        "outputId": "e42c3886-f510-4a05-f2ce-a797699db55a"
      },
      "execution_count": 273,
      "outputs": [
        {
          "output_type": "execute_result",
          "data": {
            "text/plain": [
              "(0.9, 0.2)"
            ]
          },
          "metadata": {},
          "execution_count": 273
        }
      ]
    },
    {
      "cell_type": "markdown",
      "source": [
        "## 6.4 Making and evaluating predictions"
      ],
      "metadata": {
        "id": "n7f8haCup9ia"
      }
    },
    {
      "cell_type": "code",
      "source": [
        "# Turn the model into evaluation model\n",
        "model_1.eval()\n",
        "\n",
        "# Make predictions on the test data\n",
        "with torch.inference_mode():\n",
        "  y_preds = model_1(X_test)\n",
        "\n",
        "y_preds"
      ],
      "metadata": {
        "colab": {
          "base_uri": "https://localhost:8080/"
        },
        "id": "rQ6Eyn25qBNY",
        "outputId": "35ad9a86-4f5c-48f8-f6ab-6053b7ef8e84"
      },
      "execution_count": 274,
      "outputs": [
        {
          "output_type": "execute_result",
          "data": {
            "text/plain": [
              "tensor([[0.9129],\n",
              "        [0.9308],\n",
              "        [0.9486],\n",
              "        [0.9665],\n",
              "        [0.9844],\n",
              "        [1.0023],\n",
              "        [1.0201],\n",
              "        [1.0380],\n",
              "        [1.0559],\n",
              "        [1.0737]], device='cuda:0')"
            ]
          },
          "metadata": {},
          "execution_count": 274
        }
      ]
    },
    {
      "cell_type": "markdown",
      "source": [],
      "metadata": {
        "id": "vktVNl1UrWH7"
      }
    },
    {
      "cell_type": "code",
      "source": [
        "# Check out our model predictions visually\n",
        "plot_predictions(predictions=y_preds.cpu())"
      ],
      "metadata": {
        "colab": {
          "base_uri": "https://localhost:8080/",
          "height": 577
        },
        "id": "Aq3g4_nEqFe4",
        "outputId": "1b6ee91f-3b23-46a6-e372-4eedb6634297"
      },
      "execution_count": 275,
      "outputs": [
        {
          "output_type": "display_data",
          "data": {
            "text/plain": [
              "<Figure size 1000x700 with 1 Axes>"
            ],
            "image/png": "[encoded data removed]"
          },
          "metadata": {}
        }
      ]
    },
    {
      "source": [
        "# Save and loading a trained model\n",
        "from pathlib import Path\n",
        "\n",
        "# 1. Create a models directory\n",
        "MODEL_PATH = Path(\"models\")\n",
        "MODEL_PATH.mkdir(parents=True,exist_ok=True)\n",
        "\n",
        "# 2. create model save path\n",
        "MODEL_NAME = \"01_pytorch_workflow_model_1.pth\"\n",
        "MODEL_SAVE_PATH = MODEL_PATH / MODEL_NAME\n",
        "\n",
        "# 3. save the model state dict\n",
        "print(f\"Saving model to : {MODEL_SAVE_PATH}\")\n",
        "torch.save(obj=model_1.state_dict(),\n",
        "           f=MODEL_SAVE_PATH)\n"
      ],
      "cell_type": "code",
      "metadata": {
        "colab": {
          "base_uri": "https://localhost:8080/"
        },
        "id": "bPDvRQeUrTSN",
        "outputId": "88165d60-eb26-4d68-de57-649777d76f90"
      },
      "execution_count": 279,
      "outputs": [
        {
          "output_type": "stream",
          "name": "stdout",
          "text": [
            "Saving model to : models/01_pytorch_workflow_model_1.pth\n"
          ]
        }
      ]
    },
    {
      "cell_type": "code",
      "source": [
        "# Load a PyTorch Model\n",
        "\n",
        "# Create a new instance of linear regression model v2\n",
        "loaded_model_1 = LinearRegressionModelV2()\n",
        "\n",
        "# Load the saved model_1 state_dict\n",
        "loaded_model_1.load_state_dict(torch.load(MODEL_SAVE_PATH))\n",
        "\n",
        "# put the loaded model to the device\n",
        "loaded_model_1.to(device)"
      ],
      "metadata": {
        "colab": {
          "base_uri": "https://localhost:8080/"
        },
        "id": "eoPwwdYTuZ9P",
        "outputId": "74d9ed7c-d505-4f97-fe85-ffd10964cc97"
      },
      "execution_count": 281,
      "outputs": [
        {
          "output_type": "execute_result",
          "data": {
            "text/plain": [
              "LinearRegressionModelV2(\n",
              "  (linear_layer): Linear(in_features=1, out_features=1, bias=True)\n",
              ")"
            ]
          },
          "metadata": {},
          "execution_count": 281
        }
      ]
    },
    {
      "cell_type": "code",
      "source": [
        "loaded_model_1.state_dict()"
      ],
      "metadata": {
        "colab": {
          "base_uri": "https://localhost:8080/"
        },
        "id": "An0BI4swvCGF",
        "outputId": "151ff623-004f-4894-dc28-122ebf950fb6"
      },
      "execution_count": 282,
      "outputs": [
        {
          "output_type": "execute_result",
          "data": {
            "text/plain": [
              "OrderedDict([('linear_layer.weight', tensor([[0.8936]], device='cuda:0')),\n",
              "             ('linear_layer.bias', tensor([0.1980], device='cuda:0'))])"
            ]
          },
          "metadata": {},
          "execution_count": 282
        }
      ]
    },
    {
      "cell_type": "code",
      "source": [
        "# Evaluate the loaded model\n",
        "loaded_model_1.eval()\n",
        "with torch.inference_mode():\n",
        "  loaded_model_1_preds = loaded_model_1(X_test)\n",
        "\n",
        "y_preds == loaded_model_1(X_test)"
      ],
      "metadata": {
        "colab": {
          "base_uri": "https://localhost:8080/"
        },
        "id": "BvZXTZJevGE8",
        "outputId": "2dea1d88-9d69-409f-c4f4-85e419fb5b65"
      },
      "execution_count": 283,
      "outputs": [
        {
          "output_type": "execute_result",
          "data": {
            "text/plain": [
              "tensor([[True],\n",
              "        [True],\n",
              "        [True],\n",
              "        [True],\n",
              "        [True],\n",
              "        [True],\n",
              "        [True],\n",
              "        [True],\n",
              "        [True],\n",
              "        [True]], device='cuda:0')"
            ]
          },
          "metadata": {},
          "execution_count": 283
        }
      ]
    }
  ]
}